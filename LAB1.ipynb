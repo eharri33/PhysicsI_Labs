{
  "nbformat": 4,
  "nbformat_minor": 0,
  "metadata": {
    "colab": {
      "name": "LAB1.ipynb",
      "provenance": [],
      "authorship_tag": "ABX9TyPQOagg4WaSdD2hVOTP4JXn",
      "include_colab_link": true
    },
    "kernelspec": {
      "name": "python3",
      "display_name": "Python 3"
    },
    "language_info": {
      "name": "python"
    }
  },
  "cells": [
    {
      "cell_type": "markdown",
      "metadata": {
        "id": "view-in-github",
        "colab_type": "text"
      },
      "source": [
        "<a href=\"https://colab.research.google.com/github/jcandane/PhysicsI_Labs/blob/main/LAB1.ipynb\" target=\"_parent\"><img src=\"https://colab.research.google.com/assets/colab-badge.svg\" alt=\"Open In Colab\"/></a>"
      ]
    },
    {
      "cell_type": "markdown",
      "source": [
        "Title-of-Work\n",
        "\n",
        "Your Name\n",
        "\n",
        "Date"
      ],
      "metadata": {
        "id": "oKNK3iMn79o0"
      }
    },
    {
      "cell_type": "markdown",
      "source": [
        "$\\color{red}{\\text{ Import Necessary Modules }} $"
      ],
      "metadata": {
        "id": "e9gm2jlZ3mG_"
      }
    },
    {
      "cell_type": "code",
      "execution_count": null,
      "metadata": {
        "id": "P3RG-BIQ3AVX"
      },
      "outputs": [],
      "source": [
        ""
      ]
    },
    {
      "cell_type": "markdown",
      "source": [
        "$\\color{red}{\\text{ Before we start lets define the times in which all our experiments will take place. }} $\n",
        "\n",
        "$\\color{red}{\\text{ Define a time-increment (Δt), initial (t0), and a final (tf) time for your experiment. \n",
        "And with it a time_array. }} $"
      ],
      "metadata": {
        "id": "PIaHrzp8B-dj"
      }
    },
    {
      "cell_type": "code",
      "source": [
        ""
      ],
      "metadata": {
        "id": "Qnoj6Tw8B-z4"
      },
      "execution_count": null,
      "outputs": []
    },
    {
      "cell_type": "markdown",
      "source": [
        "$\\color{red}{\\text{ Experiment I }} $\n",
        "\n",
        "$\\color{red}{\\quad\\quad \\text{ To begin lets start with by defining an initial position }} $"
      ],
      "metadata": {
        "id": "fRrrh8d4972i"
      }
    },
    {
      "cell_type": "code",
      "source": [
        ""
      ],
      "metadata": {
        "id": "C2JeifS89-q_"
      },
      "execution_count": null,
      "outputs": []
    },
    {
      "cell_type": "markdown",
      "source": [
        "$\\color{red}{\\quad\\quad \\text{ PRINT the distance of the previously defined position vector (give units!): }} $"
      ],
      "metadata": {
        "id": "wYfqEwxMBbd-"
      }
    },
    {
      "cell_type": "code",
      "source": [
        ""
      ],
      "metadata": {
        "id": "MeQhANuwBUnT"
      },
      "execution_count": null,
      "outputs": []
    },
    {
      "cell_type": "markdown",
      "source": [
        "$\\color{red}{\\quad\\quad \\text{ Define a for-loop to Velocity-Verlet integrate the motion to obtain a x_t. }} $"
      ],
      "metadata": {
        "id": "IXMFB6BdCnEE"
      }
    },
    {
      "cell_type": "code",
      "source": [
        ""
      ],
      "metadata": {
        "id": "3jHQd2UnBieT"
      },
      "execution_count": null,
      "outputs": []
    },
    {
      "cell_type": "markdown",
      "source": [
        "$\\color{red}{\\quad\\quad \\text{ Take a time-derivative of x_t to obtain dxdt_t. }} $"
      ],
      "metadata": {
        "id": "lnVHqv4mC5MS"
      }
    },
    {
      "cell_type": "code",
      "source": [
        ""
      ],
      "metadata": {
        "id": "tfoxqNRiCyym"
      },
      "execution_count": null,
      "outputs": []
    },
    {
      "cell_type": "markdown",
      "source": [
        "$\\color{red}{\\quad\\quad\\quad \\text{ Make 2 plots of with: x_t and \\{v_t, dxdt_t\\} in matplotlib, both as a function of time. Make sure to include all LABELS!. }} $"
      ],
      "metadata": {
        "id": "pQINm1ytDDbK"
      }
    },
    {
      "cell_type": "code",
      "source": [
        ""
      ],
      "metadata": {
        "id": "EbvQZMj9C6gX"
      },
      "execution_count": null,
      "outputs": []
    },
    {
      "cell_type": "markdown",
      "source": [
        "$\\color{red}{\\text{ Experiment II }} $\n",
        "\n",
        "$\\color{red}{\\quad\\quad \\text{ To begin lets start with by defining an initial position and velocity }} $"
      ],
      "metadata": {
        "id": "AatksBws5jaw"
      }
    },
    {
      "cell_type": "code",
      "source": [
        ""
      ],
      "metadata": {
        "id": "YXihspnM3Tom"
      },
      "execution_count": null,
      "outputs": []
    },
    {
      "cell_type": "markdown",
      "source": [
        "$\\color{red}{\\quad\\quad \\text{ PRINT out the distance and speed of the previously defined position and velocity vectors: }} $"
      ],
      "metadata": {
        "id": "ifmVZSCJ59g9"
      }
    },
    {
      "cell_type": "code",
      "source": [
        ""
      ],
      "metadata": {
        "id": "01gIhjIS6Hss"
      },
      "execution_count": null,
      "outputs": []
    },
    {
      "cell_type": "markdown",
      "source": [
        "$\\color{red}{\\quad\\quad \\text{ Define a for-loop to Velocity-Verlet integrate the motion to obtain a x_t. }} $"
      ],
      "metadata": {
        "id": "xmAdr4np6opY"
      }
    },
    {
      "cell_type": "code",
      "source": [
        ""
      ],
      "metadata": {
        "id": "7V87C16B6n9B"
      },
      "execution_count": null,
      "outputs": []
    },
    {
      "cell_type": "markdown",
      "source": [
        "$\\color{red}{\\quad\\quad \\text{ Take a time-derivative of x_t to obtain dxdt_t. }} $\n",
        "\n",
        "$\\color{red}{\\quad\\quad \\text{ Take a time-derivative of v_t to obtain dvdt_t. }} $\n",
        "\n"
      ],
      "metadata": {
        "id": "PlEX8NRZ7AH8"
      }
    },
    {
      "cell_type": "code",
      "source": [
        ""
      ],
      "metadata": {
        "id": "fhZcODeo7APm"
      },
      "execution_count": null,
      "outputs": []
    },
    {
      "cell_type": "markdown",
      "source": [
        "$\\color{red}{\\quad\\quad \\text{ Calculate the Average Velocity over time, v_t. }} $"
      ],
      "metadata": {
        "id": "LsWkbzT87s8-"
      }
    },
    {
      "cell_type": "code",
      "source": [
        ""
      ],
      "metadata": {
        "id": "0BNA-owP7tJp"
      },
      "execution_count": null,
      "outputs": []
    },
    {
      "cell_type": "markdown",
      "source": [
        "$\\color{red}{\\quad\\quad\\quad \\text{ Make 3 plots of with: x_t, \\{v_t, dxdt_t\\}, and dvdt_t in matplotlib, both as a function of time. Make sure to include all LABELS!. }} $"
      ],
      "metadata": {
        "id": "9_HxKP_G62KQ"
      }
    },
    {
      "cell_type": "code",
      "source": [
        ""
      ],
      "metadata": {
        "id": "u4-vHVgC62kh"
      },
      "execution_count": null,
      "outputs": []
    },
    {
      "cell_type": "markdown",
      "source": [
        "$\\color{red}{\\text{ Experiment III }} $\n",
        "\n",
        "$\\color{red}{\\quad\\quad \\text{ To begin lets start with by defining an initial position, velocity, and acceleration }} $"
      ],
      "metadata": {
        "id": "CdwiQSAoE3pY"
      }
    },
    {
      "cell_type": "code",
      "source": [
        ""
      ],
      "metadata": {
        "id": "Ey0czpxzE2g7"
      },
      "execution_count": null,
      "outputs": []
    },
    {
      "cell_type": "markdown",
      "source": [
        "$\\color{red}{\\quad\\quad \\text{ PRINT out the distance, speed, and magnitude of the acceleration of the previously defined vectors: }} $"
      ],
      "metadata": {
        "id": "54ZwZZSrFOZl"
      }
    },
    {
      "cell_type": "code",
      "source": [
        ""
      ],
      "metadata": {
        "id": "KSw_7CcSFKLu"
      },
      "execution_count": null,
      "outputs": []
    },
    {
      "cell_type": "markdown",
      "source": [
        "$\\color{red}{\\quad\\quad \\text{ Define a for-loop to Velocity-Verlet integrate the motion to obtain a x_t, v_t, and a_t. }} $"
      ],
      "metadata": {
        "id": "nPCymXb0Fpo-"
      }
    },
    {
      "cell_type": "code",
      "source": [
        ""
      ],
      "metadata": {
        "id": "vqMTVUTFFhRa"
      },
      "execution_count": null,
      "outputs": []
    },
    {
      "cell_type": "markdown",
      "source": [
        "$\\color{red}{\\quad\\quad \\text{ Take a time-derivative of x_t to obtain dxdt_t. }} $\n",
        "\n",
        "$\\color{red}{\\quad\\quad \\text{ Take a time-derivative of v_t to obtain dvdt_t. }} $\n",
        "\n",
        "$\\color{red}{\\quad\\quad \\text{ Take a time-derivative of a_t to obtain dadt_t. }} $"
      ],
      "metadata": {
        "id": "WhoX5PZBGXJS"
      }
    },
    {
      "cell_type": "code",
      "source": [
        ""
      ],
      "metadata": {
        "id": "zWP6KVbGGDMk"
      },
      "execution_count": null,
      "outputs": []
    },
    {
      "cell_type": "markdown",
      "source": [
        "$\\color{red}{\\quad\\quad\\quad \\text{ Make 4 plots of with: x_t, \\{v_t, dxdt_t\\}, \\{ a_t, dvdt_t\\}, and dadt_t in matplotlib, all as a function of time. Make sure to include all LABELS!. }} $"
      ],
      "metadata": {
        "id": "oygDwI1qGfpV"
      }
    },
    {
      "cell_type": "code",
      "source": [
        ""
      ],
      "metadata": {
        "id": "34qS5DvaGWYB"
      },
      "execution_count": null,
      "outputs": []
    },
    {
      "cell_type": "markdown",
      "source": [
        "$\\color{red}{\\text{ Experiment IV }} $\n",
        "\n",
        "$\\color{red}{\\quad\\quad \\text{ To begin lets start with the following initial position ([10.,0.,0.]), velocity ([50.,0.,0.]), and acceleration ([-9.81,0.,0.]), WITH velocity and acceleration in different directions! }} $"
      ],
      "metadata": {
        "id": "Gk9ovZyvHs-P"
      }
    },
    {
      "cell_type": "code",
      "source": [
        ""
      ],
      "metadata": {
        "id": "tvBpr1p6HsWG"
      },
      "execution_count": null,
      "outputs": []
    },
    {
      "cell_type": "markdown",
      "source": [
        "$\\color{red}{\\quad\\quad \\text{ Define a for-loop to Velocity-Verlet integrate the motion to obtain a x_t, v_t, and a_t. }} $"
      ],
      "metadata": {
        "id": "2q2jCTbJHzTv"
      }
    },
    {
      "cell_type": "code",
      "source": [
        ""
      ],
      "metadata": {
        "id": "lseF9S1MHzve"
      },
      "execution_count": null,
      "outputs": []
    },
    {
      "cell_type": "markdown",
      "source": [
        "$\\color{red}{\\quad\\quad \\text{ Take a time-derivative of x_t to obtain dxdt_t. }} $\n",
        "\n",
        "$\\color{red}{\\quad\\quad \\text{ Take a time-derivative of v_t to obtain dvdt_t. }} $\n",
        "\n",
        "$\\color{red}{\\quad\\quad \\text{ Take a time-derivative of a_t to obtain dadt_t. }} $"
      ],
      "metadata": {
        "id": "vJAFbAfUH9wV"
      }
    },
    {
      "cell_type": "code",
      "source": [
        ""
      ],
      "metadata": {
        "id": "f08dkiU5H9Bl"
      },
      "execution_count": null,
      "outputs": []
    },
    {
      "cell_type": "markdown",
      "source": [
        "$\\color{red}{\\quad\\quad\\quad \\text{ Make 4 plots of with: x_t, \\{v_t, dxdt_t\\}, \\{ a_t, dvdt_t\\}, and dadt_t in matplotlib, all as a function of time. Make sure to include all LABELS!. }} $"
      ],
      "metadata": {
        "id": "xAJmFy9QIDCV"
      }
    },
    {
      "cell_type": "code",
      "source": [
        ""
      ],
      "metadata": {
        "id": "3QJDgQZ7IDmE"
      },
      "execution_count": null,
      "outputs": []
    },
    {
      "cell_type": "markdown",
      "source": [
        "$\\color{red}{\\text{ Write your Conclusion here, you may type in word-processor, only to copy-n-paste it here. This .ipynb file is your lab report.}} $\n",
        "\n",
        "$\\color{red}{\\text{ Demostrate you understand this lab, this is the most imporant part of the lab report worth half of the total points.}} $\n"
      ],
      "metadata": {
        "id": "nRRFjkHgITMW"
      }
    },
    {
      "cell_type": "code",
      "source": [
        ""
      ],
      "metadata": {
        "id": "P5vVfHKLIdgK"
      },
      "execution_count": null,
      "outputs": []
    }
  ]
}