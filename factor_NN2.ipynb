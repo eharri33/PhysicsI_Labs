{
  "nbformat": 4,
  "nbformat_minor": 0,
  "metadata": {
    "colab": {
      "provenance": [],
      "authorship_tag": "ABX9TyOWODKIjhbVTrG6AzfFCD7z",
      "include_colab_link": true
    },
    "kernelspec": {
      "name": "python3",
      "display_name": "Python 3"
    },
    "language_info": {
      "name": "python"
    }
  },
  "cells": [
    {
      "cell_type": "markdown",
      "metadata": {
        "id": "view-in-github",
        "colab_type": "text"
      },
      "source": [
        "<a href=\"https://colab.research.google.com/github/jcandane/PhysicsI_Labs/blob/main/factor_NN2.ipynb\" target=\"_parent\"><img src=\"https://colab.research.google.com/assets/colab-badge.svg\" alt=\"Open In Colab\"/></a>"
      ]
    },
    {
      "cell_type": "markdown",
      "source": [
        "# Import Libraries"
      ],
      "metadata": {
        "id": "-lI-P7vWtLAq"
      }
    },
    {
      "cell_type": "code",
      "execution_count": 1,
      "metadata": {
        "id": "YXCgYkGPsX4w"
      },
      "outputs": [],
      "source": [
        "import numpy as np\n",
        "import scipy\n",
        "import scipy.sparse.linalg\n",
        "import scipy.sparse as sparse\n",
        "\n",
        "try:\n",
        "    import pyftt\n",
        "except:\n",
        "    !pip install pyftt\n",
        "    import pyftt\n",
        "\n",
        "try:\n",
        "    import networkx as nx\n",
        "except:\n",
        "    !pip install networkx\n",
        "    import networkx as nx\n",
        "\n",
        "try:\n",
        "    import network2tikz\n",
        "    from network2tikz import plot\n",
        "except:\n",
        "    !pip install network2tikz ### https://pypi.org/project/network2tikz/\n",
        "    import network2tikz\n",
        "    from network2tikz import plot    "
      ]
    },
    {
      "cell_type": "markdown",
      "source": [
        "# premade def/functions codes"
      ],
      "metadata": {
        "id": "AmisfbTxtLIK"
      }
    },
    {
      "cell_type": "code",
      "source": [
        "def su(N, JW=False):\n",
        "    \"\"\"\n",
        "    j.candanedo 4/11/2023\n",
        "    GIVEN:  N , dimension of Lie-Algebra\n",
        "            JW, choice for Jordan-Wigner Transformation\n",
        "    GET:    sparse-array (t=array-of-tuples, T=data-array, out_shape=dense-array-shape)\n",
        "    \"\"\"\n",
        "\n",
        "    if JW:\n",
        "        sparse_elements = int( N*(N-1) + N*(N+1)/2 - 1 )\n",
        "        T = np.zeros(sparse_elements)\n",
        "    else:\n",
        "        sparse_elements = int( 2*N*(N-1) + N*(N+1)/2 - 1 )\n",
        "        T = np.zeros(sparse_elements, dtype=complex)\n",
        "    i = 0 ## sparse-array entry\n",
        "    j = 0 ## generator-number\n",
        "    t = np.zeros((sparse_elements,3), dtype=np.int32)\n",
        "    for n in range(N-1): ## loop over Cartan-generators\n",
        "        for m in range(n+1): ## loop over off-diagonals\n",
        "            ## real generator\n",
        "            t[i] = np.array([j, m, n+1])\n",
        "            T[i] = 1.\n",
        "            i+=1\n",
        "            if JW:\n",
        "                j+=1\n",
        "            t[i] = np.array([j, n+1, m])\n",
        "            T[i] = 1.\n",
        "            i+=1\n",
        "            j+=1\n",
        "\n",
        "            ## imag generator\n",
        "            if not JW:\n",
        "                t[i] = np.array([j, m, n+1]) \n",
        "                T[i] = -1.j\n",
        "                i+=1\n",
        "                t[i] = np.array([j, n+1, m])\n",
        "                T[i] =  1.j\n",
        "                i+=1\n",
        "                j+=1\n",
        "\n",
        "        ## constant for Cartan-genorators.\n",
        "        C = 1/np.sqrt( (n+1)*(n+2)/2 ) ## constant for Cartan-genorators.\n",
        "        for m in range(n+1): ## loop over sparse Cartan-generator elements\n",
        "            ## place-in Cartan-elements\n",
        "            t[i] = np.array([j, m, m])\n",
        "            T[i] = C\n",
        "            i+=1\n",
        "        ## last element of Cartan generator\n",
        "        t[i] = np.array([j, n+1, n+1])\n",
        "        T[i] = -(n+1)*C\n",
        "        i+=1\n",
        "        j+=1\n",
        "    out_shape = np.array([j,N,N])\n",
        "    return t, T, out_shape\n",
        "\n",
        "def Dense_to_Sparse(A, tol=1.E-8):\n",
        "    \"\"\"\n",
        "    Given:  A (arbitrary dimensional numpy.array)\n",
        "            tol (tolerance, range of values which may be set to \"0\")\n",
        "    Get:    sparse_array_object\n",
        "    \"\"\"\n",
        "    indices=np.asarray(np.where(np.abs(A) >= tol))\n",
        "    return pyftt.sparse_array(indices=indices, data=A[tuple( indices )], shape=np.asarray(A.shape), wellordered=True)\n",
        "\n",
        "def integers_to_tuplesX(numbers, dense_shape):\n",
        "    \"\"\"\n",
        "    GIVEN:  integer/integers (0d/1d int/int-numpy-array)\n",
        "            dense_shape (1d numpy array, shape of the dense representation)\n",
        "    GET:    list_of_tuples (2d int numpy int array)\n",
        "    \"\"\"\n",
        "\n",
        "    ### \n",
        "    #dense_shape = np.roll(np.flip(dense_shape), 1)\n",
        "    shapez    = np.roll(np.flip(dense_shape), 1)\n",
        "    shapez[0] = 1\n",
        "    shapez    = np.flip(np.cumprod(shapez))\n",
        "\n",
        "    ### \n",
        "    numbers   = np.array([numbers]).flatten()\n",
        "    out_tuple = np.zeros((len(numbers),len(dense_shape)), dtype=np.int64)\n",
        "    for i in range(len(shapez)): ## for each column in new-shape\n",
        "        out_tuple[:,i] = numbers // (shapez[i])\n",
        "        numbers        = np.mod( numbers, (shapez[i]))\n",
        "    return out_tuple\n",
        "\n",
        "def tuples_to_integersX(list_of_tuples, dense_shape):\n",
        "    \"\"\"\n",
        "    GIVEN:  list_of_tuples (1d/2d int numpy array)\n",
        "            dense_shape (1d numpy array, shape of the dense representation)\n",
        "    GET:    1d array of ints xor int (corresponding to pair-function)\n",
        "    \"\"\"\n",
        "    dense_shape = np.roll(np.flip(dense_shape), 1)\n",
        "    shapez    = 1*dense_shape\n",
        "    shapez[0] = 1\n",
        "    return list_of_tuples @ (np.flip(np.cumprod(shapez)))\n",
        "\n",
        "def Reshape(list_of_tuples, old_shape, reshapinglist):\n",
        "\n",
        "    ###### fit loose numbers into lists...[[1,0],[2,4],3] -> [[1,0],[2,4],[3]]\n",
        "    for i in range(len(reshapinglist)):\n",
        "        if isinstance(reshapinglist[i], int) or isinstance(reshapinglist[i], np.int32):\n",
        "            reshapinglist[i] = np.array([reshapinglist[i]])\n",
        "    ######\n",
        "\n",
        "    ###### find:  [expansion] whether to expand (get tuples) xor contract (get integers).\n",
        "    ######        [new_shape] shape of output sparse-tensor\n",
        "    ######        [coln_shapes] shapes of each column (in new sparsetensor) to preform reshape \n",
        "    coln_shapes = []\n",
        "    expansion   = []\n",
        "    new_shape   = []\n",
        "    for i in range(len(reshapinglist)):\n",
        "        if len(reshapinglist[i]) > 1:\n",
        "            if isinstance(reshapinglist[i][1], list):\n",
        "                coln_shapes.append(reshapinglist[i][1])\n",
        "                expansion.append(True)\n",
        "                new_shape.append(reshapinglist[i][1])\n",
        "            else:\n",
        "                coln_shapes.append(old_shape[reshapinglist[i]])\n",
        "                expansion.append(False)\n",
        "                new_shape.append(np.prod(old_shape[reshapinglist[i]]))\n",
        "        else:\n",
        "            coln_shapes.append(old_shape[reshapinglist[i]])\n",
        "            expansion.append(False)\n",
        "            new_shape.append(np.prod(old_shape[reshapinglist[i]]))\n",
        "    new_shape = np.asarray(new_shape)   \n",
        "    ######\n",
        "\n",
        "    ###### FINALLY, DETERMINE NEW_INDEX ARRAY\n",
        "    new_index_array = np.zeros((len(new_shape), list_of_tuples.shape[1]) , dtype=np.int64)\n",
        "    coln=0\n",
        "    j=0\n",
        "    for i in range(len(expansion)):\n",
        "        if expansion[i]:\n",
        "            l = (len(reshapinglist[i][1]))\n",
        "            new_index_array[j:(j+l),:] = integers_to_tuplesX(list_of_tuples[reshapinglist[i][0],:], np.asarray(coln_shapes[i]) ).T\n",
        "            j+=l\n",
        "        else:\n",
        "            new_index_array[j,:] = tuples_to_integersX(list_of_tuples[reshapinglist[i],:].T, coln_shapes[i])\n",
        "            j+=1\n",
        "    ######\n",
        "\n",
        "    return new_index_array, new_shape\n",
        "\n",
        "def cansum(D, label_D, S, label_S):\n",
        "    \"\"\"\n",
        "    Contract a Dense and Sparse array (not affecting D nor S itself)\n",
        "    GIVEN : D (Dense (regular) n-dimensional-numpy.array)\n",
        "            label_D (idenification of each index in D)\n",
        "            S (Sparse array, as defined in pyftt)\n",
        "            label_S (idenification of each index in S)\n",
        "    GET :   O (Dense (regular) n-dimensional-numpy.array)\n",
        "            label_O (idenification of each index in O)\n",
        "    \"\"\"\n",
        "\n",
        "    ### intersect labels\n",
        "    Intersection = np.intersect1d(label_D, label_S)\n",
        "\n",
        "    ### four labels...indices where...external and internal indices lie\n",
        "    L_In_D = [ np.where(label_D==Intersection[i])[0][0] for i in range(len(Intersection)) ]\n",
        "    L_Ex_D = np.delete( np.arange(len(label_D)) , L_In_D) \n",
        "    L_In_S = [ np.where(label_S==Intersection[i])[0][0] for i in range(len(Intersection)) ]\n",
        "    L_Ex_S = np.delete( np.arange(len(label_S)) , L_In_S)\n",
        "\n",
        "    ### get output label, shape, and tensor\n",
        "    label_O = np.concatenate(( label_D[L_Ex_D], label_S[L_Ex_S] )) ## output label\n",
        "    s_output = np.concatenate(( np.asarray(D.shape)[L_Ex_D], np.asarray(S.shape)[L_Ex_S] )) ## output-shape\n",
        "    O        = np.zeros(s_output)   ## construct empty (zeros) O\n",
        "    DS_divide= len(label_D[L_Ex_D]) ## divider for O into Dense-External & Sparse-External indices\n",
        "\n",
        "    ### transpose & reshape (O, D, S)\n",
        "    ExIndiv = len(L_Ex_D)\n",
        "    DD= D.transpose( np.concatenate((L_Ex_D, L_In_D)) ).reshape((np.prod(D.shape[:ExIndiv]), np.prod(D.shape[ExIndiv:])))\n",
        "    O = O.reshape(np.prod(O.shape[:DS_divide]), np.prod(O.shape[DS_divide:]))\n",
        "    S_indices, S_shape = Reshape(S.indices, S.shape, [L_Ex_S, L_In_S])\n",
        "\n",
        "    ### now sum over matrices\n",
        "    for i in range(len(S.indices.T)):\n",
        "        O[:,S_indices[0,i]] += DD[:,S_indices[1,i]]*S.data[i]\n",
        "    #O[:,S.indices[0]] += D[:,S.indices[1]]*S.data ### does not work, why not??\n",
        "\n",
        "    ### reshape O back to external-labels\n",
        "    return O.reshape(s_output), label_O\n",
        "\n",
        "def NN2_site(M, b):\n",
        "    \"\"\"\n",
        "    GIVEN : M (size) [int]\n",
        "            b (bitstring) [Boolean-np.array, int-np.array]\n",
        "    GET   : O (superoperator index-array) [2D int-np.array]\n",
        "    \"\"\"\n",
        "    b*=M\n",
        "    min=1\n",
        "    max=1\n",
        "    O    = np.zeros((len(b)*(M)+1,len(b)), dtype=int)\n",
        "    O[0] = b\n",
        "    for i in range(len(b)):\n",
        "        max+=M\n",
        "        if b[i]==M: ## if R\n",
        "            O[min:max,:] = b ## M xor 0\n",
        "            O[min:(max),i] = np.arange(M)\n",
        "        else: ## L\n",
        "            O[min:max,:] = b ## M xor 0\n",
        "            O[min:(max),i] = np.arange(1,M+1)\n",
        "        min=max\n",
        "    return O.T\n",
        "\n"
      ],
      "metadata": {
        "id": "gJdd5RDytTVv"
      },
      "execution_count": 2,
      "outputs": []
    },
    {
      "cell_type": "code",
      "source": [
        "def get_signature(G):\n",
        "    \"\"\"\n",
        "    GIVEN : G (networkX graph object, with '.edges()' & '.degree' opt)\n",
        "    GET   : signature (orientation for-all nodes in graph)\n",
        "    **idea get unidirectional edge 2-tuples (between nodes)\n",
        "    **associate each to 0 xor 1 data. transpose and NOT data\n",
        "    **lexsort and partition via nodes into list\n",
        "    \"\"\"\n",
        "    a = np.asarray(G.edges())\n",
        "    R = np.random.randint(2, size=len(a)) ## random orientation on Graph\n",
        "\n",
        "    aa = np.concatenate((a, a[:,[1,0]]), axis=0) ## swap-columns in a\n",
        "    R  = np.concatenate((R, np.logical_not(R).astype(int)))\n",
        "    R  = R[ np.lexsort( np.flip( aa.T , axis=0) , axis=0) ]\n",
        "\n",
        "    ### make signature list\n",
        "    j=0\n",
        "    signature=[]\n",
        "    for i in range(len(G.degree)):\n",
        "        signature.append( R[j:(j+G.degree[i])] )\n",
        "        j+=G.degree[i]\n",
        "    return signature\n",
        "\n",
        "def get_ncon(G):\n",
        "    \"\"\"\n",
        "    GIVEN :  G (networkx graph object, s.t. G.edges() only include 1-set of edges\n",
        "    GET   : ncon ( python-list of 1d np.arrays , tracing/contraction rule)\n",
        "    \"\"\"\n",
        "    edges = np.asarray( G.edges() ) ## edges 2-tuple (sparse-adjacency-matrix)\n",
        "    names = np.arange(1,len(edges)+1) ## edge enumeration ## each edge has an associtated alphabetical character\n",
        "    edges = np.concatenate((edges, edges[:,[1,0]]), axis=0) ## swap-columns in a\n",
        "    names = np.concatenate((names, names))\n",
        "\n",
        "    ## reorder names in terms of edges\n",
        "    names = names[ np.lexsort( np.flip( edges.T , axis=0) , axis=0) ]\n",
        "\n",
        "    j,k=0,1\n",
        "    ncon=[]\n",
        "    for i in range(len(G.degree)):\n",
        "        ncon.append( np.concatenate((-1*names[j:(j+G.degree[i])], [k,k+1])) )\n",
        "        j+=G.degree[i]\n",
        "        k+=2\n",
        "    return ncon\n",
        "\n",
        "##### iterative-Krylov-Solver\n"
      ],
      "metadata": {
        "id": "OzIUAvCouQ-P"
      },
      "execution_count": 45,
      "outputs": []
    },
    {
      "cell_type": "markdown",
      "source": [
        "# Constructing the generic tensor-MPO (that factorizes $H_\\text{NN2}$)\n",
        "\n",
        "given\n",
        "1.   $\\texttt{N}\\quad\\quad\\quad\\quad$       (s.t. su(N))\n",
        "2.   $\\texttt{b}\\quad\\quad\\quad\\quad$     (bitstring for the tensor)\n",
        "3.   $\\texttt{H1}\\quad\\quad\\quad\\,\\,$    (1-body Hamtilonian in sparse-matrix format, this is optional)\n",
        "\n",
        "get\n",
        "1.   sparse_array (pyftt object)\n",
        "\n",
        "\n",
        "\n"
      ],
      "metadata": {
        "id": "RPcFn_PKtTxU"
      }
    },
    {
      "cell_type": "code",
      "source": [
        "def get_tno_element(N, b, H1=None): ### do H1\n",
        "    t   = su(N)     ## interactions enumerated....\n",
        "    M   = N**2-1+1  ## super-operator length\n",
        "    TNO = NN2_site(M, b) #tno_structure(M, ell)\n",
        "    if H1==None:\n",
        "        tno_= [] ## index-array\n",
        "        tnod= [] ## data\n",
        "    else:\n",
        "        tno_= [H1.indices] ## cartesian-producted with bitstring!!!!!!!!!!!!!!!\n",
        "        tnod= [H1.data]\n",
        "    for I in range(1,TNO.shape[1]): ## start from 1 to negect nontrival 0 (xor 1-body Ham. here)\n",
        "\n",
        "        A = TNO[:,I]\n",
        "        ## find corners and save identity-matrix\n",
        "        cornerdetect = np.logical_or( A==0, A==M ) ## corner-detector\n",
        "        if np.all(cornerdetect):\n",
        "            corner = np.zeros((len(A)+2,M), dtype=int)\n",
        "            corner[:len(A),:]  = A[:,None]*np.ones(M,dtype=int)[None,:]\n",
        "            corner[len(A),:]   = np.arange(M)\n",
        "            corner[len(A)+1,:] = np.arange(M)\n",
        "            tno_.append(corner.T)\n",
        "            tnod.append(np.ones(M))\n",
        "        \n",
        "        ## save Lie-algebra (find non 0,M element: 1,2,3,4,5,...,M-2,M-1)\n",
        "        else:\n",
        "            q   = TNO[ np.logical_not(cornerdetect), I ][0]-1 ## search this\n",
        "            L,R = np.searchsorted(t[0][:,0], q, side=\"left\"), np.searchsorted(t[0][:,0], q, side=\"right\")\n",
        "            outt = ( t[0][:,1:][L:R,:] ) ## extract part of Lie-Algebra\n",
        "            side = np.zeros((len(A)+2,len(outt)), dtype=int)\n",
        "            side[:len(A),:]   = A[:,None]*np.ones(len(outt),dtype=int)[None,:]\n",
        "            side[(len(A)):,:] = outt.T\n",
        "            tno_.append(side.T)\n",
        "            tnod.append(t[1][L:R])\n",
        "\n",
        "    A = pyftt.sparse_array()\n",
        "    A.indices = np.concatenate(tno_)\n",
        "    A.data    = np.concatenate(tnod)\n",
        "    A.shape   = np.concatenate(( M*np.ones(len(b),dtype=int), t[2][1:]))\n",
        "    A.run()\n",
        "    return A\n",
        "\n",
        "get_tno_element(3, [0,1])"
      ],
      "metadata": {
        "colab": {
          "base_uri": "https://localhost:8080/"
        },
        "id": "pKwOtG9ItbQ6",
        "outputId": "0a6b9079-f7e7-4872-ed7a-c7babde5cb7d"
      },
      "execution_count": 7,
      "outputs": [
        {
          "output_type": "execute_result",
          "data": {
            "text/plain": [
              "<pyftt.pyftt.sparse_array at 0x7f39f0bf74f0>"
            ]
          },
          "metadata": {},
          "execution_count": 7
        }
      ]
    },
    {
      "cell_type": "markdown",
      "source": [
        "# Construct Tensor-Network from Graph/Network\n",
        "\n",
        "given G ---> get TNO (with LoT and TrRx)\n",
        "1.   $\\texttt{N}\\quad\\quad\\quad\\quad$       (s.t. su(N))\n",
        "2.   $\\texttt{G}\\quad\\quad\\quad\\quad$       (NetworkX Graph Object)\n",
        "3.   $\\texttt{H1}\\quad\\quad\\quad\\,\\,$    (1-body Hamtilonian in sparse-matrix format, this is optional)"
      ],
      "metadata": {
        "id": "MBlhHrIJtb2L"
      }
    },
    {
      "cell_type": "code",
      "source": [
        "def TNO(G, N, H1=None):\n",
        "    signs = get_signature(G)\n",
        "    ncon  = get_ncon(G) ## Tr-Rx\n",
        "\n",
        "    ## build List-of-Tensors (LoT), a collection of sparse-tensors\n",
        "    LoT = [ get_tno_element(N, signs[i], H1=H1) for i in range(len(signs)) ]\n",
        "\n",
        "    return LoT, ncon\n",
        "\n",
        "def greedy_path(G):\n",
        "    return None\n",
        "\n",
        "### save TNO as a: SciPy sparse.linalg.LinearOperator"
      ],
      "metadata": {
        "id": "57PeEPncxXUK"
      },
      "execution_count": 47,
      "outputs": []
    },
    {
      "cell_type": "markdown",
      "source": [
        "greedy-algorthim (the MF of contractions)"
      ],
      "metadata": {
        "id": "38jEBJ1qF-j0"
      }
    },
    {
      "cell_type": "code",
      "source": [
        "𝙶𝚛𝚒𝚍𝟸𝚍 = nx.erdos_renyi_graph(8, 0.1) #𝚗𝚡.dodecahedral_graph() #𝚗𝚡.𝚐𝚛𝚒𝚍_𝚐𝚛𝚊𝚙𝚑((4,4))\n",
        "\n",
        "nx.edge_bfs(𝙶𝚛𝚒𝚍𝟸𝚍, 2)\n",
        "print( 𝙶𝚛𝚒𝚍𝟸𝚍.edges() )\n",
        "\n",
        "#TNO(𝙶𝚛𝚒𝚍𝟸𝚍, 3)"
      ],
      "metadata": {
        "colab": {
          "base_uri": "https://localhost:8080/"
        },
        "id": "JYldSmsmF9_M",
        "outputId": "a3b2966b-8904-4ae6-ab14-80bc24f539ff"
      },
      "execution_count": 83,
      "outputs": [
        {
          "output_type": "stream",
          "name": "stdout",
          "text": [
            "[]\n"
          ]
        }
      ]
    },
    {
      "cell_type": "code",
      "source": [
        "bfs = np.asarray( list( nx.bfs_edges(𝙶𝚛𝚒𝚍𝟸𝚍, 2) ) )\n",
        "\n",
        "print(bfs)\n",
        "print(bfs[:,1]) ## for each domain along bfs[:,0], count/sort the degree on bfs[:,1]\n",
        "\n",
        "domains = np.concatenate( ([0], np.where( (bfs[:-1,0] - bfs[1:,0])!=0 )[0], [len(bfs)] ))\n",
        "for d in range(len(domains)-1):\n",
        "    print( [ 𝙶𝚛𝚒𝚍𝟸𝚍.degree[ bfs[i,1] ] for i in range(1+domains[d+1]-domains[d]) ] )\n",
        "print(domains)"
      ],
      "metadata": {
        "colab": {
          "base_uri": "https://localhost:8080/"
        },
        "id": "jfvF7V9AMR_9",
        "outputId": "0327d41e-41f6-492d-d381-786363d8dbe0"
      },
      "execution_count": 79,
      "outputs": [
        {
          "output_type": "stream",
          "name": "stdout",
          "text": [
            "[[ 2  1]\n",
            " [ 2  3]\n",
            " [ 2  6]\n",
            " [ 1  0]\n",
            " [ 1  8]\n",
            " [ 3  4]\n",
            " [ 3 19]\n",
            " [ 6  5]\n",
            " [ 6  7]\n",
            " [ 0 10]\n",
            " [ 8  9]\n",
            " [ 4 17]\n",
            " [19 18]\n",
            " [ 5 15]\n",
            " [ 7 14]\n",
            " [10 11]\n",
            " [ 9 13]\n",
            " [17 16]\n",
            " [11 12]]\n",
            "[ 1  3  6  0  8  4 19  5  7 10  9 17 18 15 14 11 13 16 12]\n",
            "[3, 3, 3]\n",
            "[3, 3, 3]\n",
            "[3, 3, 3]\n",
            "[3, 3, 3]\n",
            "[3, 3]\n",
            "[3, 3]\n",
            "[3, 3]\n",
            "[3, 3]\n",
            "[3, 3]\n",
            "[3, 3]\n",
            "[3, 3]\n",
            "[3, 3]\n",
            "[3, 3]\n",
            "[3, 3, 3]\n",
            "[ 0  2  4  6  8  9 10 11 12 13 14 15 16 17 19]\n"
          ]
        }
      ]
    },
    {
      "cell_type": "markdown",
      "source": [
        "# Applications\n",
        "\n",
        "We would like to consider 4 graphs\n",
        "1.   Path Graph $\\quad\\quad\\quad\\quad\\,\\left( \\texttt{Path22 = nx.path_graph(22)} \\right)$\n",
        "2. Petersen Graph $\\quad\\quad\\quad\\!\\left( \\texttt{Petersen = nx.petersen_graph()} \\right)$\n",
        "3.   2D Grid-graph (4x4) $\\quad\\quad\\!\\!\\left( \\texttt{Grid2d = nx.grid_graph((4,4))} \\right)$\n",
        "4.   Paley Graph $\\quad\\quad\\quad\\quad\\left( \\texttt{Paley = nx.paley_graph(17)} \\right)$\n",
        "\n"
      ],
      "metadata": {
        "id": "Ie5zn_cSvEfY"
      }
    },
    {
      "cell_type": "markdown",
      "source": [
        "## Path Graph"
      ],
      "metadata": {
        "id": "yxXJjxXqvDSy"
      }
    },
    {
      "cell_type": "code",
      "source": [],
      "metadata": {
        "id": "4nyAeae04EDY"
      },
      "execution_count": null,
      "outputs": []
    }
  ]
}