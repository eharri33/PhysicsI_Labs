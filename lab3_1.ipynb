{
  "nbformat": 4,
  "nbformat_minor": 0,
  "metadata": {
    "colab": {
      "name": "lab3_1.ipynb",
      "provenance": [],
      "collapsed_sections": [],
      "authorship_tag": "ABX9TyNOK4ZGaObX6ZSMi8U98hKl",
      "include_colab_link": true
    },
    "kernelspec": {
      "name": "python3",
      "display_name": "Python 3"
    },
    "language_info": {
      "name": "python"
    }
  },
  "cells": [
    {
      "cell_type": "markdown",
      "metadata": {
        "id": "view-in-github",
        "colab_type": "text"
      },
      "source": [
        "<a href=\"https://colab.research.google.com/github/jcandane/PhysicsI_Labs/blob/main/lab3_1.ipynb\" target=\"_parent\"><img src=\"https://colab.research.google.com/assets/colab-badge.svg\" alt=\"Open In Colab\"/></a>"
      ]
    },
    {
      "cell_type": "markdown",
      "source": [
        "Title-of-Work\n",
        "\n",
        "Your Name\n",
        "\n",
        "Date"
      ],
      "metadata": {
        "id": "t0Doe3CBQ3Ci"
      }
    },
    {
      "cell_type": "markdown",
      "source": [
        "$\\color{red}{\\text{ Import Necessary Modules }} $"
      ],
      "metadata": {
        "id": "ODKTQJak3iE-"
      }
    },
    {
      "cell_type": "code",
      "source": [
        ""
      ],
      "metadata": {
        "id": "eG_AnzCN3iy5"
      },
      "execution_count": null,
      "outputs": []
    },
    {
      "cell_type": "markdown",
      "source": [
        "$\\color{green}{\\text{ Necessary Defintions }} $"
      ],
      "metadata": {
        "id": "v5m-1sNOQ4k9"
      }
    },
    {
      "cell_type": "code",
      "source": [
        "class body(object):\n",
        "    # 11/22/21 \",\n",
        "    ''' A class of body in kinematics '''\n",
        "    def __init__(self): \n",
        "\n",
        "        ### basics \",\n",
        "        self.apply_force    = np.zeros(3) \n",
        "        self.position       = np.zeros(3) \n",
        "        self.mass           = 1. \n",
        "        self.velocity       = np.zeros(3) \n",
        "        self.size           = 0. \n",
        "        self.air_resistence = 0. \n",
        "\n",
        "    def on_ramp(self, Θ = 0., static_friction=0., kinetic_friction=0.): \n",
        "\n",
        "        Θ = np.pi*Θ/180 \n",
        "        self.e_tangent = np.array([ np.cos(Θ), np.sin(Θ), 0.]) \n",
        "        self.e_normal  = np.array([-np.sin(Θ), np.cos(Θ), 0.]) \n",
        "        self.static_friction  = static_friction \n",
        "        self.kinetic_friction = kinetic_friction\n",
        "        self.velocity = np.linalg.norm(self.velocity) * self.e_tangent\n",
        "\n",
        "        return None\n",
        "\n",
        "    def force_response(self, acting_force): \n",
        "\n",
        "        ### computes force normal to forces \",\n",
        "        f_react_normal  = - np.dot(acting_force, self.e_normal ) * self.e_normal \n",
        "\n",
        "        ### computes forces tangent to forces \",\n",
        "        f_react_tangent = - np.dot(acting_force, self.e_tangent) * self.e_tangent\n",
        "\n",
        "        ## kinetic friction\n",
        "        if np.linalg.norm(f_react_tangent) > np.linalg.norm(self.static_friction * f_react_normal): \n",
        "            f_react_tangent = np.linalg.norm(self.kinetic_friction * f_react_normal) * self.e_tangent \n",
        "\n",
        "        self.f_react_tangent = f_react_tangent\n",
        "        self.f_react_normal  = f_react_normal \n",
        "\n",
        "        return f_react_tangent, f_react_normal\n",
        "\n",
        "    \n",
        "def VelocityVerlet(T, cart, F=None): \n",
        "\n",
        "    Δt = T[1] - T[0]\n",
        "\n",
        "    if F is None:\n",
        "        F = np.zeros((len(T),3))\n",
        "\n",
        "    x_t = np.zeros((len(T),3))\n",
        "    v_t = np.zeros((len(T),3))\n",
        "\n",
        "    x_t[0] = cart.position\n",
        "    v_t[0] = cart.velocity\n",
        "    a_told = np.zeros(3)\n",
        "    for t in range(len(T)-1):\n",
        "        x_t[t+1] = x_t[t] + v_t[t] * Δt + 0.5 * a_told * (Δt*Δt) \n",
        "\n",
        "        f_react_tangent, f_react_normal = cart.force_response(F[t])\n",
        "        a_tnew  = (F[t] + f_react_tangent + f_react_normal) / cart.mass\n",
        "\n",
        "        v_t[t+1]  = v_t[t] + 0.5 * (a_told + a_tnew) * Δt \n",
        "        a_told = a_tnew\n",
        "\n",
        "    return x_t, v_t"
      ],
      "metadata": {
        "id": "6MyaTzmu3qiP"
      },
      "execution_count": 1,
      "outputs": []
    },
    {
      "cell_type": "markdown",
      "source": [
        "\n",
        "$\\color{red}{\\text{ Let's define the gravitational-acceleration vector.\n",
        " }} $"
      ],
      "metadata": {
        "id": "KdDjZFTcLNat"
      }
    },
    {
      "cell_type": "code",
      "source": [
        ""
      ],
      "metadata": {
        "id": "yooWwRstLQQc"
      },
      "execution_count": 1,
      "outputs": []
    },
    {
      "cell_type": "markdown",
      "source": [
        "\n",
        "$\\color{red}{\\text{ Experiment 1: Let's test the Body class\n",
        " }} $\n",
        "\n",
        "$\\color{red}{\\quad\\quad\\text{ Find the angle between the gravity-vector and your surface.\n",
        " }} $\n",
        "\n"
      ],
      "metadata": {
        "id": "FdoTIpK130pQ"
      }
    },
    {
      "cell_type": "code",
      "source": [
        ""
      ],
      "metadata": {
        "id": "_AL_aW-B3zpZ"
      },
      "execution_count": 1,
      "outputs": []
    },
    {
      "cell_type": "markdown",
      "source": [
        "$\\color{red}{\\text{ Experiment 2: Object going down a Ramp.\n",
        " }} $\n",
        "\n",
        "$\\color{red}{\\quad\\quad\\text{ Define a time_array and gravity_force array over this duration.\n",
        " }} $"
      ],
      "metadata": {
        "id": "9eaPtUcgTTuQ"
      }
    },
    {
      "cell_type": "code",
      "source": [
        ""
      ],
      "metadata": {
        "id": "DZVvNOH64phM"
      },
      "execution_count": 1,
      "outputs": []
    },
    {
      "cell_type": "markdown",
      "source": [
        "$\\color{red}{\\quad\\quad\\text{ Define a few objects (with same ramp angle, and static friction), with different names, and different kinetic friction.\n",
        " }} $"
      ],
      "metadata": {
        "id": "kP1SQ-E6dXJo"
      }
    },
    {
      "cell_type": "code",
      "source": [
        ""
      ],
      "metadata": {
        "id": "iSaTzlf6dXT8"
      },
      "execution_count": 1,
      "outputs": []
    },
    {
      "cell_type": "markdown",
      "source": [
        "$\\color{red}{\\quad\\quad\\text{ Integrate the equations of motion for each object (using the velocityvelerlet def. above.\n",
        " }} $"
      ],
      "metadata": {
        "id": "ZqT4zkjfeKsv"
      }
    },
    {
      "cell_type": "code",
      "source": [
        ""
      ],
      "metadata": {
        "id": "H6iMr6rjdaTL"
      },
      "execution_count": 1,
      "outputs": []
    },
    {
      "cell_type": "markdown",
      "source": [
        "$\\color{red}{\\quad\\quad\\text{ Compute time derivatives of velocity to get acceleration.\n",
        " }} $"
      ],
      "metadata": {
        "id": "pdhWydn4dm-R"
      }
    },
    {
      "cell_type": "code",
      "source": [
        ""
      ],
      "metadata": {
        "id": "nO_NGHCsdiRe"
      },
      "execution_count": 1,
      "outputs": []
    },
    {
      "cell_type": "markdown",
      "source": [
        "$\\color{red}{\\quad\\quad\\text{ Plot position, velocity, and acceleration for these several objects.\n",
        " }} $"
      ],
      "metadata": {
        "id": "5W7xFlktdmpf"
      }
    },
    {
      "cell_type": "code",
      "source": [
        ""
      ],
      "metadata": {
        "id": "E_s4IKOddleU"
      },
      "execution_count": 1,
      "outputs": []
    },
    {
      "cell_type": "markdown",
      "source": [
        "$\\color{red}{\\text{ Experiment 3: Object not going down a Ramp.\n",
        " }} $\n",
        "\n",
        " $\\color{red}{\\quad\\quad\\text{ Here we add the force vectors (gravity, normal, and static-frictional), to obtan a net-force vector. Then we may obtain the net acceleration vector from this.\n",
        " }} $\n",
        "\n",
        "$\\color{red}{\\quad\\quad\\text{ Let's start by defining the parameters we would like to test, i.e. the ramp angle & static coefficient of friction.\n",
        " }} $"
      ],
      "metadata": {
        "id": "-vbY0vj2Vb6f"
      }
    },
    {
      "cell_type": "code",
      "source": [
        ""
      ],
      "metadata": {
        "id": "4wHz0Pf1f2pO"
      },
      "execution_count": 1,
      "outputs": []
    },
    {
      "cell_type": "markdown",
      "source": [
        "$\\color{red}{\\quad\\quad\\text{ Next, define a body object, and specify a mass of your choice.\n",
        " }} $"
      ],
      "metadata": {
        "id": "UEipT5fJaE1V"
      }
    },
    {
      "cell_type": "code",
      "source": [
        ""
      ],
      "metadata": {
        "id": "w_kBJdFpaFCn"
      },
      "execution_count": 1,
      "outputs": []
    },
    {
      "cell_type": "markdown",
      "source": [
        "$\\color{red}{\\quad\\quad\\text{ Next, let's define the gravity FORCE vector, from the mass and acceleration defined above.\n",
        " }} $"
      ],
      "metadata": {
        "id": "d2lVXo6rbMtQ"
      }
    },
    {
      "cell_type": "code",
      "source": [
        ""
      ],
      "metadata": {
        "id": "y3JWCzrHbM1b"
      },
      "execution_count": 1,
      "outputs": []
    },
    {
      "cell_type": "markdown",
      "source": [
        "$\\color{red}{\\quad\\quad\\text{ Let's define a nested for-loop to go over all the configurations from above.\n",
        " }} $"
      ],
      "metadata": {
        "id": "mk1AJDqeY71C"
      }
    },
    {
      "cell_type": "code",
      "source": [
        ""
      ],
      "metadata": {
        "id": "b7g6j0DkYtJe"
      },
      "execution_count": 1,
      "outputs": []
    },
    {
      "cell_type": "markdown",
      "source": [
        "$\\color{red}{\\quad\\quad\\text{ Next, let's plot our results on a 2D meshplot.\n",
        " }} $"
      ],
      "metadata": {
        "id": "Hxpt7bPSb1yN"
      }
    },
    {
      "cell_type": "code",
      "source": [
        ""
      ],
      "metadata": {
        "id": "uef1_SgCb19u"
      },
      "execution_count": 1,
      "outputs": []
    },
    {
      "cell_type": "markdown",
      "source": [
        "$\\color{red}{\\text{ Write your Conclusion here, you may type in word-processor, only to copy-n-paste it here. This .ipynb file is your lab report.}} $\n",
        "\n",
        "$\\color{red}{\\text{ Demostrate you understand this lab, this is the most imporant part of the lab report worth half of the total points.}} $"
      ],
      "metadata": {
        "id": "9Pn8vG15cR-J"
      }
    },
    {
      "cell_type": "markdown",
      "source": [
        ""
      ],
      "metadata": {
        "id": "O7GUBWGNcSry"
      }
    }
  ]
}