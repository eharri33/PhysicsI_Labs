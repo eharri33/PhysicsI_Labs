{
  "nbformat": 4,
  "nbformat_minor": 0,
  "metadata": {
    "colab": {
      "name": "phy122_N3Lt.ipynb",
      "provenance": [],
      "collapsed_sections": [
        "piiO7Qo1xXWF",
        "hwDP78Scmd_w",
        "Za3Wu910wRuE"
      ],
      "include_colab_link": true
    },
    "kernelspec": {
      "name": "python3",
      "display_name": "Python 3"
    },
    "language_info": {
      "name": "python"
    }
  },
  "cells": [
    {
      "cell_type": "markdown",
      "metadata": {
        "id": "view-in-github",
        "colab_type": "text"
      },
      "source": [
        "<a href=\"https://colab.research.google.com/github/jcandane/PhysicsI_Labs/blob/main/phy122_N3Lt.ipynb\" target=\"_parent\"><img src=\"https://colab.research.google.com/assets/colab-badge.svg\" alt=\"Open In Colab\"/></a>"
      ]
    },
    {
      "cell_type": "markdown",
      "source": [
        "Title-of-Work\n",
        "\n",
        "Your Name\n",
        "\n",
        "Date"
      ],
      "metadata": {
        "id": "t0Doe3CBQ3Ci"
      }
    },
    {
      "cell_type": "markdown",
      "source": [
        "#  <font color='Red'> **Import Necessary Modules** </font>"
      ],
      "metadata": {
        "id": "ODKTQJak3iE-"
      }
    },
    {
      "cell_type": "code",
      "source": [
        ""
      ],
      "metadata": {
        "id": "eG_AnzCN3iy5"
      },
      "execution_count": null,
      "outputs": []
    },
    {
      "cell_type": "markdown",
      "source": [
        "###  <font color='Green'> Necessary Defintions. </font>"
      ],
      "metadata": {
        "id": "v5m-1sNOQ4k9"
      }
    },
    {
      "cell_type": "code",
      "source": [
        "###\n",
        "def rotation_xy(θ):\n",
        "    \"\"\" \n",
        "    GIVEN: θ (in degrees) \n",
        "    GET: rotation matrix\n",
        "    \"\"\"\n",
        "    θ *= np.pi/180\n",
        "    return np.array([ [np.cos(θ), -np.sin(θ), 0.], [np.sin(θ), np.cos(θ), 0.], [0., 0., 1.]])\n",
        "\n",
        "def projection(basis, f_in):\n",
        "    f_1 = np.dot( basis[0], f_in ) * basis[0]\n",
        "    f_2 = np.dot( basis[1], f_in ) * basis[1]\n",
        "    f_3 = np.dot( basis[2], f_in ) * basis[2]\n",
        "    return [f_1, f_2, f_3]\n",
        "\n",
        "def Ramp(θ, μS, μK, f_in):\n",
        "\n",
        "    basis = (rotation_xy(θ) @ np.eye(3)).T\n",
        "\n",
        "    f_fric, f_normal, f_z = projection(basis, -f_in)\n",
        "\n",
        "    if np.linalg.norm(f_fric) <= np.linalg.norm( μS * f_normal ):\n",
        "        None\n",
        "    if np.linalg.norm(f_fric) > np.linalg.norm( μS * f_normal ):\n",
        "        f_fric = np.linalg.norm(μK * f_normal) * f_fric\n",
        "\n",
        "    return f_normal + f_fric + f_z"
      ],
      "metadata": {
        "id": "i75bV7R5yvpd"
      },
      "execution_count": null,
      "outputs": []
    },
    {
      "cell_type": "markdown",
      "source": [
        "#  <font color='Red'> **Experiment 1: Familiarization with Defintions.** </font> "
      ],
      "metadata": {
        "id": "piiO7Qo1xXWF"
      }
    },
    {
      "cell_type": "markdown",
      "source": [
        "###  <font color='Red'> The Rotation Matrix, print the rotation matrix for 3 angles of your choosing (note the defintion requires the angle in degrees). </font> "
      ],
      "metadata": {
        "id": "NHH-pCzhxfiq"
      }
    },
    {
      "cell_type": "code",
      "source": [
        ""
      ],
      "metadata": {
        "colab": {
          "base_uri": "https://localhost:8080/"
        },
        "id": "xSGSojYqxxii",
        "outputId": "d38b6fff-cbd0-46a7-f99a-616b455f6b4f"
      },
      "execution_count": null,
      "outputs": [
        {
          "output_type": "stream",
          "name": "stdout",
          "text": [
            "[[ 0.9994 -0.0349  0.    ]\n",
            " [ 0.0349  0.9994  0.    ]\n",
            " [ 0.      0.      1.    ]]\n",
            "[[ 0.9397 -0.342   0.    ]\n",
            " [ 0.342   0.9397  0.    ]\n",
            " [ 0.      0.      1.    ]]\n",
            "[[ 0.0523 -0.9986  0.    ]\n",
            " [ 0.9986  0.0523  0.    ]\n",
            " [ 0.      0.      1.    ]]\n"
          ]
        }
      ]
    },
    {
      "cell_type": "markdown",
      "source": [
        "###  <font color='Red'> Choose a rotation matrix from above, to rotate the usual Cartesian Basis (i.e. (Rotation_Matrix @ np.eye(3)).T ) and print the result. </font> "
      ],
      "metadata": {
        "id": "pnJxjBS-x7Gx"
      }
    },
    {
      "cell_type": "code",
      "source": [
        ""
      ],
      "metadata": {
        "colab": {
          "base_uri": "https://localhost:8080/"
        },
        "id": "j05li8Rkx_oI",
        "outputId": "15df119e-90b9-4aab-87e3-92606b1fddf4"
      },
      "execution_count": null,
      "outputs": [
        {
          "output_type": "stream",
          "name": "stdout",
          "text": [
            "[[ 0.7071  0.7071  0.    ]\n",
            " [-0.7071  0.7071  0.    ]\n",
            " [ 0.      0.      1.    ]]\n"
          ]
        }
      ]
    },
    {
      "cell_type": "markdown",
      "source": [
        "###  <font color='Red'> Define an arbitrary acting force vector (3 component vector). </font> "
      ],
      "metadata": {
        "id": "EDm0IaqgzpF9"
      }
    },
    {
      "cell_type": "code",
      "source": [
        ""
      ],
      "metadata": {
        "colab": {
          "base_uri": "https://localhost:8080/"
        },
        "id": "W_qbGE77zw3H",
        "outputId": "198585b0-e98d-4ace-f3ee-c632db8c293c"
      },
      "execution_count": null,
      "outputs": [
        {
          "output_type": "stream",
          "name": "stdout",
          "text": [
            "[ 0.  -9.8  0. ]\n"
          ]
        }
      ]
    },
    {
      "cell_type": "markdown",
      "source": [
        "###  <font color='Red'> Use Newton's 3rd Law to get a Reacting force (tentative. </font> "
      ],
      "metadata": {
        "id": "kQpRqiduz7a7"
      }
    },
    {
      "cell_type": "code",
      "source": [
        ""
      ],
      "metadata": {
        "colab": {
          "base_uri": "https://localhost:8080/"
        },
        "id": "iJJf9si10Dlv",
        "outputId": "8b294360-ca8b-4010-afd4-513c023be296"
      },
      "execution_count": null,
      "outputs": [
        {
          "output_type": "stream",
          "name": "stdout",
          "text": [
            "[-0.   9.8 -0. ]\n"
          ]
        }
      ]
    },
    {
      "cell_type": "markdown",
      "source": [
        "###  <font color='Red'> Project an arbitrary force vector, i.e. decompose into 3 vectors, e.g. f_in, on the new basis defined above. </font> "
      ],
      "metadata": {
        "id": "LgL-tHtxyjQX"
      }
    },
    {
      "cell_type": "code",
      "source": [
        ""
      ],
      "metadata": {
        "id": "8AR946mQy0wJ"
      },
      "execution_count": null,
      "outputs": []
    },
    {
      "cell_type": "markdown",
      "source": [
        "###  <font color='Red'> Filter the frictional-projection. 1st, define the static friction coefficient (μS) and then the kinetic friction coefficient (μK). 2nd, define two if-statements to determine if friction component of the force above should be the static XOR kinetic one. </font> "
      ],
      "metadata": {
        "id": "-Sj4i1qazBEJ"
      }
    },
    {
      "cell_type": "code",
      "source": [
        ""
      ],
      "metadata": {
        "id": "fGkKdIT0zXm_"
      },
      "execution_count": null,
      "outputs": []
    },
    {
      "cell_type": "markdown",
      "source": [
        "###  <font color='Red'> Now determine the total force: f_in = -f_out $\\rightarrow$ f_in + f_out = f_net. e.g. in the static limit f_net = 0. Print this net force. </font> "
      ],
      "metadata": {
        "id": "tvUZ5ZCA06hS"
      }
    },
    {
      "cell_type": "code",
      "source": [
        ""
      ],
      "metadata": {
        "colab": {
          "base_uri": "https://localhost:8080/"
        },
        "id": "wOMeZyRu06tn",
        "outputId": "2646eaff-3776-4c20-e4ff-fae297a670aa"
      },
      "execution_count": null,
      "outputs": [
        {
          "output_type": "stream",
          "name": "stdout",
          "text": [
            "Net Force is 0.000 N\n"
          ]
        }
      ]
    },
    {
      "cell_type": "markdown",
      "source": [
        "###  <font color='Red'> Now use: Ramp(θ, μS, μK, f_in), to get the reactive force (f_out), with your choice of angle (θ), static friction coefficient (μS), kinetic friction coefficient (μK), and the f_in you defined above. \n",
        "\n",
        "### Add this to f_in, do the results match from above? </font> "
      ],
      "metadata": {
        "id": "l6EDJkQo1q5v"
      }
    },
    {
      "cell_type": "code",
      "source": [
        ""
      ],
      "metadata": {
        "colab": {
          "base_uri": "https://localhost:8080/"
        },
        "id": "d6hi8Khu1-78",
        "outputId": "661dda8c-18d4-4c38-e695-347984151eef"
      },
      "execution_count": null,
      "outputs": [
        {
          "output_type": "stream",
          "name": "stdout",
          "text": [
            "Net Force is 0.000 N\n"
          ]
        }
      ]
    },
    {
      "cell_type": "markdown",
      "source": [
        "#  <font color='Red'> **Experiment 2: Varying Angle.** </font> "
      ],
      "metadata": {
        "id": "hwDP78Scmd_w"
      }
    },
    {
      "cell_type": "markdown",
      "source": [
        "###  <font color='Red'> Define the range of angles you wish to test (using arange). </font> "
      ],
      "metadata": {
        "id": "IZ-ebOTP1hhJ"
      }
    },
    {
      "cell_type": "code",
      "source": [
        ""
      ],
      "metadata": {
        "id": "KaQyZZW7699F"
      },
      "execution_count": null,
      "outputs": []
    },
    {
      "cell_type": "markdown",
      "source": [
        "###  <font color='Red'> Define a for-loop over these values. And get the force-magnitude for every value in the angle array defined above. Fix the value of the static friction, set kinetic friction to 0. Free feel to use the Ramp method. </font> "
      ],
      "metadata": {
        "id": "ZZpj8AvY2kaH"
      }
    },
    {
      "cell_type": "code",
      "source": [
        ""
      ],
      "metadata": {
        "id": "5f5e6qWr2jDZ"
      },
      "execution_count": null,
      "outputs": []
    },
    {
      "cell_type": "markdown",
      "source": [
        "###  <font color='Red'> Plot your Results, make sure to leave a caption describing the physics of the graph. </font> "
      ],
      "metadata": {
        "id": "wMS5-GRG2_2F"
      }
    },
    {
      "cell_type": "code",
      "source": [
        ""
      ],
      "metadata": {
        "colab": {
          "base_uri": "https://localhost:8080/",
          "height": 279
        },
        "id": "9hsaJ23t3HI0",
        "outputId": "34d85381-085f-4684-df85-c6190de5c32c"
      },
      "execution_count": null,
      "outputs": [
        {
          "output_type": "display_data",
          "data": {
            "text/plain": [
              "<Figure size 432x288 with 1 Axes>"
            ],
            "image/png": "[encoded data removed]"
          },
          "metadata": {
            "needs_background": "light"
          }
        }
      ]
    },
    {
      "cell_type": "markdown",
      "source": [
        ""
      ],
      "metadata": {
        "id": "f-qSQGfG6Goq"
      }
    },
    {
      "cell_type": "markdown",
      "source": [
        "#  <font color='Red'> **Experiment 3: Varying Static Friction Coefficient.** </font> "
      ],
      "metadata": {
        "id": "Za3Wu910wRuE"
      }
    },
    {
      "cell_type": "markdown",
      "source": [
        "###  <font color='Red'> Define the range of static-friction-coefficients you wish to test (using arange). </font> "
      ],
      "metadata": {
        "id": "FDwl9oGj3ezN"
      }
    },
    {
      "cell_type": "code",
      "source": [
        ""
      ],
      "metadata": {
        "id": "ZZ7yeJZT3is6"
      },
      "execution_count": null,
      "outputs": []
    },
    {
      "cell_type": "markdown",
      "source": [
        "###  <font color='Red'> Define a for-loop over these values. And get the force-magnitude for every value in the static-friction-coefficient array defined above. Fix the value of the angle, and set kinetic friction to 0. Free feel to use the Ramp method. </font> "
      ],
      "metadata": {
        "id": "W0oXCQNx3mVu"
      }
    },
    {
      "cell_type": "code",
      "source": [
        ""
      ],
      "metadata": {
        "id": "pE16JEdD_U1o"
      },
      "execution_count": null,
      "outputs": []
    },
    {
      "cell_type": "markdown",
      "source": [
        "###  <font color='Red'> Plot your Results, make sure to leave a caption describing the physics of the graph. </font> "
      ],
      "metadata": {
        "id": "XDUlA93g3vxg"
      }
    },
    {
      "cell_type": "code",
      "source": [
        ""
      ],
      "metadata": {
        "colab": {
          "base_uri": "https://localhost:8080/",
          "height": 279
        },
        "id": "DU-hVoF43uoj",
        "outputId": "dc3a9be2-7d4f-4759-b85c-9119598bd8e1"
      },
      "execution_count": null,
      "outputs": [
        {
          "output_type": "display_data",
          "data": {
            "text/plain": [
              "<Figure size 432x288 with 1 Axes>"
            ],
            "image/png": "[encoded data removed]"
          },
          "metadata": {
            "needs_background": "light"
          }
        }
      ]
    },
    {
      "cell_type": "markdown",
      "source": [
        ""
      ],
      "metadata": {
        "id": "gwHDGEOh6D9Z"
      }
    },
    {
      "cell_type": "markdown",
      "source": [
        "#  <font color='Red'> **Experiment 4: Kinetic Friction and Dynamics.** </font> \n",
        "\n",
        "###  <font color='Red'> Lets consider kinematics as discussed before, using the familiar Velocity-Verlet algorithm. </font> "
      ],
      "metadata": {
        "id": "nwpCIOMQ1XBR"
      }
    },
    {
      "cell_type": "markdown",
      "source": [
        "###  <font color='Red'> Define the following 9 variables (similar to lab 2):\n",
        "*   Time Resolution (dt)\n",
        "*   Time-array\n",
        "*   Mass of your particle\n",
        "*   Initial Position (x0)\n",
        "*   Initial Velocity set to zeros (v0 = np.zeros(3))\n",
        "*   Initial Acceleration set to zeros (v0 = np.zeros(3))\n",
        "*   Angle (θ)\n",
        "*   Static Friction Coefficient (μs)\n",
        "*   Static Friction Coefficient (μk) \n",
        " </font> "
      ],
      "metadata": {
        "id": "fIlCZ3Bw4JNq"
      }
    },
    {
      "cell_type": "code",
      "source": [
        ""
      ],
      "metadata": {
        "id": "tV1MJKZR45fj"
      },
      "execution_count": null,
      "outputs": []
    },
    {
      "cell_type": "markdown",
      "source": [
        "###  <font color='Red'> Define an acting force on this particle acting for all times, e.g. the force of gravity (it can be any force), i.e. f_t a 2D array, the same shape of the force defined in lab 2.  </font> "
      ],
      "metadata": {
        "id": "WpVramLp4ld0"
      }
    },
    {
      "cell_type": "code",
      "source": [
        ""
      ],
      "metadata": {
        "id": "OaRGAfd844Ti"
      },
      "execution_count": null,
      "outputs": []
    },
    {
      "cell_type": "markdown",
      "source": [
        "###  <font color='Red'> Define your Velocity Verlet, but with the new Force acting-reacting force term! To get the trajectory (for position, velocity, and acceleration)  </font> "
      ],
      "metadata": {
        "id": "H7AXQYtP5rKs"
      }
    },
    {
      "cell_type": "code",
      "source": [
        ""
      ],
      "metadata": {
        "id": "WtJsLt0r5yHi"
      },
      "execution_count": null,
      "outputs": []
    },
    {
      "cell_type": "markdown",
      "source": [
        "###  <font color='Red'> Plot your Results, make sure to leave a caption describing the physics of the graph. </font> "
      ],
      "metadata": {
        "id": "6V34e3DM55WR"
      }
    },
    {
      "cell_type": "code",
      "source": [
        ""
      ],
      "metadata": {
        "colab": {
          "base_uri": "https://localhost:8080/",
          "height": 308
        },
        "id": "KsYjE9ko55dQ",
        "outputId": "2198b53d-da40-4957-a224-b152c37399fd"
      },
      "execution_count": null,
      "outputs": [
        {
          "output_type": "display_data",
          "data": {
            "text/plain": [
              "<Figure size 432x288 with 3 Axes>"
            ],
            "image/png": "[encoded data removed]"
          },
          "metadata": {
            "needs_background": "light"
          }
        }
      ]
    },
    {
      "cell_type": "markdown",
      "source": [
        ""
      ],
      "metadata": {
        "id": "rW4I7dNH6DJ8"
      }
    },
    {
      "cell_type": "markdown",
      "source": [
        "#  <font color='Red'> **Conclusion:** </font>\n",
        "\n",
        "###  <font color='Red'> Write your Conclusion here, you may type in word-processor, only to copy-n-paste it here. This .ipynb file is your lab report. </font>\n",
        "\n",
        "###  <font color='Red'> Demostrate you understand this lab, this is the most imporant part of the lab report worth half of the total points. </font>\n"
      ],
      "metadata": {
        "id": "wT8I5Mzbuh57"
      }
    },
    {
      "cell_type": "markdown",
      "source": [
        ""
      ],
      "metadata": {
        "id": "Eq10Xab463PY"
      }
    },
    {
      "cell_type": "markdown",
      "source": [
        "###  <font color='Red'> If your surface is completely parallel to the gravity-vector $\\mathbf{g}$ (i.e. angle is 90 degrees from horizontal surface), can static friction support the object on this surface? </font>"
      ],
      "metadata": {
        "id": "O7GUBWGNcSry"
      }
    },
    {
      "cell_type": "markdown",
      "source": [
        ""
      ],
      "metadata": {
        "id": "YlfSVXNm8jLT"
      }
    },
    {
      "cell_type": "markdown",
      "source": [
        "###  <font color='Red'> Is there an angle, such that no motion occurs with a static friction coefficient of 0.0? </font>"
      ],
      "metadata": {
        "id": "6zB8fqzX8kly"
      }
    },
    {
      "cell_type": "markdown",
      "source": [
        ""
      ],
      "metadata": {
        "id": "ZINhIKzE7DEf"
      }
    }
  ]
}