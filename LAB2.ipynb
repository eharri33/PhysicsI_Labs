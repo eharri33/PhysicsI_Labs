{
  "nbformat": 4,
  "nbformat_minor": 0,
  "metadata": {
    "colab": {
      "name": "LAB2.ipynb",
      "provenance": [],
      "authorship_tag": "ABX9TyNbMiOMmmIPb5K3s+dySZXX",
      "include_colab_link": true
    },
    "kernelspec": {
      "name": "python3",
      "display_name": "Python 3"
    },
    "language_info": {
      "name": "python"
    }
  },
  "cells": [
    {
      "cell_type": "markdown",
      "metadata": {
        "id": "view-in-github",
        "colab_type": "text"
      },
      "source": [
        "<a href=\"https://colab.research.google.com/github/jcandane/PhysicsI_Labs/blob/main/LAB2.ipynb\" target=\"_parent\"><img src=\"https://colab.research.google.com/assets/colab-badge.svg\" alt=\"Open In Colab\"/></a>"
      ]
    },
    {
      "cell_type": "markdown",
      "source": [
        "Title-of-Work\n",
        "\n",
        "Your Name\n",
        "\n",
        "Date"
      ],
      "metadata": {
        "id": "QhzLwslCWY0h"
      }
    },
    {
      "cell_type": "markdown",
      "source": [
        "$\\color{red}{\\text{ Import Necessary Modules }} $"
      ],
      "metadata": {
        "id": "loBwRxREWc-M"
      }
    },
    {
      "cell_type": "code",
      "source": [
        ""
      ],
      "metadata": {
        "id": "85sjy6nLWb0a"
      },
      "execution_count": null,
      "outputs": []
    },
    {
      "cell_type": "markdown",
      "source": [
        "$\\color{red}{\\text{ Before we start lets define the times in which all our experiments will take place. }} $\n",
        "\n",
        "$\\color{red}{\\text{ Define a time-increment (Δt), initial (t0), and a final (tf) time for your experiment. \n",
        "And with it a time_array. }} $"
      ],
      "metadata": {
        "id": "90bX6DwmWizz"
      }
    },
    {
      "cell_type": "code",
      "source": [
        ""
      ],
      "metadata": {
        "id": "Q-BUi2biWkDJ"
      },
      "execution_count": null,
      "outputs": []
    },
    {
      "cell_type": "markdown",
      "source": [
        "$\\color{red}{\\text{ Let's define the mass of two objects of very different masses. Pheraps call them mass1 and mass2 }} $"
      ],
      "metadata": {
        "id": "MdQp4PyKfLoL"
      }
    },
    {
      "cell_type": "code",
      "source": [
        ""
      ],
      "metadata": {
        "id": "tnQMVnc2fL8U"
      },
      "execution_count": null,
      "outputs": []
    },
    {
      "cell_type": "markdown",
      "source": [
        "$\\color{red}{\\text{ Experiment I }} $\n",
        "\n",
        "$\\color{red}{\\quad\\quad \\text{ To begin lets start with by defining an initial position & velocity }} $"
      ],
      "metadata": {
        "id": "-prya3siWyAn"
      }
    },
    {
      "cell_type": "code",
      "source": [
        ""
      ],
      "metadata": {
        "id": "8ZtA18UpWr_i"
      },
      "execution_count": null,
      "outputs": []
    },
    {
      "cell_type": "markdown",
      "source": [
        "$\\color{red}{\\quad\\quad \\text{ Now lets define our force as a function of time, f_t }} $"
      ],
      "metadata": {
        "id": "A89x8su3XKWn"
      }
    },
    {
      "cell_type": "code",
      "source": [
        ""
      ],
      "metadata": {
        "id": "l_PRVbXxWvEK"
      },
      "execution_count": null,
      "outputs": []
    },
    {
      "cell_type": "markdown",
      "source": [
        "$\\color{red}{\\quad\\quad \\text{ Define a for-loop to Velocity-Verlet integrate the motion to obtain a x_t, v_t, and a_t. }} $"
      ],
      "metadata": {
        "id": "CaSlmdBYXflk"
      }
    },
    {
      "cell_type": "code",
      "source": [
        ""
      ],
      "metadata": {
        "id": "Kr_uEBvtXT1y"
      },
      "execution_count": null,
      "outputs": []
    },
    {
      "cell_type": "markdown",
      "source": [
        "$\\color{red}{\\quad\\quad \\text{ Take a time-derivative of x_t to obtain dxdt_t. }} $\n",
        "\n",
        "$\\color{red}{\\quad\\quad \\text{ Take a time-derivative of v_t to obtain dvdt_t. }} $\n"
      ],
      "metadata": {
        "id": "AG1LpRIWhB78"
      }
    },
    {
      "cell_type": "code",
      "source": [
        ""
      ],
      "metadata": {
        "id": "QZz2ww4TX7fq"
      },
      "execution_count": null,
      "outputs": []
    },
    {
      "cell_type": "markdown",
      "source": [
        "$\\color{red}{\\quad\\quad\\quad \\text{ Make 3 plots of with: x_t, \\{v_t, dxdt_t\\}, and \\{ a_t, dvdt_t, f_t/mass\\} in matplotlib, all as a function of time. Make sure to include all LABELS!. }} $"
      ],
      "metadata": {
        "id": "zF6W1iOIhIQV"
      }
    },
    {
      "cell_type": "code",
      "source": [
        ""
      ],
      "metadata": {
        "id": "32kHQVejX-NJ"
      },
      "execution_count": null,
      "outputs": []
    },
    {
      "cell_type": "markdown",
      "source": [
        "$\\color{red}{\\quad\\quad \\text{ Define a for-loop to Velocity-Verlet integrate the motion to obtain a x_t, v_t, and a_t. }} $"
      ],
      "metadata": {
        "id": "Y_xjvvVndbhH"
      }
    },
    {
      "cell_type": "code",
      "source": [
        ""
      ],
      "metadata": {
        "id": "jjb8zITpef1q"
      },
      "execution_count": null,
      "outputs": []
    },
    {
      "cell_type": "markdown",
      "source": [
        "$\\color{red}{\\quad\\quad \\text{ Take a time-derivative of x_t to obtain dxdt_t. }} $\n",
        "\n",
        "$\\color{red}{\\quad\\quad \\text{ Take a time-derivative of v_t to obtain dvdt_t. }} $\n"
      ],
      "metadata": {
        "id": "ZPgs3ZHKhGX2"
      }
    },
    {
      "cell_type": "code",
      "source": [
        ""
      ],
      "metadata": {
        "id": "CAfeTzg0ehfa"
      },
      "execution_count": null,
      "outputs": []
    },
    {
      "cell_type": "markdown",
      "source": [
        "$\\color{red}{\\quad\\quad\\quad \\text{ Make 3 plots of with: x_t, \\{v_t, dxdt_t\\}, and \\{ a_t, dvdt_t, f_t/mass\\} in matplotlib, all as a function of time. Make sure to include all LABELS!. }} $"
      ],
      "metadata": {
        "id": "rRLNMHa8hOjb"
      }
    },
    {
      "cell_type": "code",
      "source": [
        ""
      ],
      "metadata": {
        "id": "KYx2Aq6TeixK"
      },
      "execution_count": null,
      "outputs": []
    },
    {
      "cell_type": "markdown",
      "source": [
        "$\\color{red}{\\text{ Experiment II }} $\n",
        "\n",
        "$\\color{red}{\\quad\\quad \\text{ To begin lets start with by defining an initial position & velocity }} $"
      ],
      "metadata": {
        "id": "buC9F92JgOcB"
      }
    },
    {
      "cell_type": "code",
      "source": [
        ""
      ],
      "metadata": {
        "id": "jiUK8tQKgNvK"
      },
      "execution_count": null,
      "outputs": []
    },
    {
      "cell_type": "markdown",
      "source": [
        "$\\color{red}{\\quad\\quad \\text{ Now lets define our force as a function of time, f_t }} $"
      ],
      "metadata": {
        "id": "9Of5oTCdgb_k"
      }
    },
    {
      "cell_type": "code",
      "source": [
        ""
      ],
      "metadata": {
        "id": "_OxLSg-9gYp5"
      },
      "execution_count": null,
      "outputs": []
    },
    {
      "cell_type": "markdown",
      "source": [
        "$\\color{red}{\\quad\\quad \\text{ Define a for-loop to Velocity-Verlet integrate the motion to obtain a x_t, v_t, and a_t. }} $"
      ],
      "metadata": {
        "id": "SQIIo3CBhPTa"
      }
    },
    {
      "cell_type": "code",
      "source": [
        ""
      ],
      "metadata": {
        "id": "-FgkeDOPgjew"
      },
      "execution_count": null,
      "outputs": []
    },
    {
      "cell_type": "markdown",
      "source": [
        "$\\color{red}{\\quad\\quad \\text{ Take a time-derivative of x_t to obtain dxdt_t. }} $\n",
        "\n",
        "$\\color{red}{\\quad\\quad \\text{ Take a time-derivative of v_t to obtain dvdt_t. }} $\n"
      ],
      "metadata": {
        "id": "fhIvJag8hRcI"
      }
    },
    {
      "cell_type": "code",
      "source": [
        ""
      ],
      "metadata": {
        "id": "TwmNwVGbgmcx"
      },
      "execution_count": null,
      "outputs": []
    },
    {
      "cell_type": "markdown",
      "source": [
        "$\\color{red}{\\quad\\quad\\quad \\text{ Make 3 plots of with: x_t, \\{v_t, dxdt_t\\}, and \\{ a_t, dvdt_t, f_t/mass\\} in matplotlib, all as a function of time. Make sure to include all LABELS!. }} $"
      ],
      "metadata": {
        "id": "LHlqPYffhUcJ"
      }
    },
    {
      "cell_type": "code",
      "source": [
        ""
      ],
      "metadata": {
        "id": "lubGmaeMgoOJ"
      },
      "execution_count": null,
      "outputs": []
    },
    {
      "cell_type": "markdown",
      "source": [
        "$\\color{red}{\\quad\\quad \\text{ Repeat the analysis for mass2. }} $"
      ],
      "metadata": {
        "id": "IaKk12ChhtTm"
      }
    },
    {
      "cell_type": "code",
      "source": [
        ""
      ],
      "metadata": {
        "id": "YqH7e2QQgqHK"
      },
      "execution_count": null,
      "outputs": []
    },
    {
      "cell_type": "markdown",
      "source": [
        "$\\color{red}{\\quad\\quad\\quad \\text{ Make 3 plots of with: x_t, \\{v_t, dxdt_t\\}, and \\{ a_t, dvdt_t, f_t/mass\\} in matplotlib, all as a function of time. Make sure to include all LABELS!. }} $"
      ],
      "metadata": {
        "id": "5MyMPG9Jhqth"
      }
    },
    {
      "cell_type": "code",
      "source": [
        ""
      ],
      "metadata": {
        "id": "1x8md9VmhsQt"
      },
      "execution_count": null,
      "outputs": []
    },
    {
      "cell_type": "markdown",
      "source": [
        "$\\color{red}{\\text{ Experiment III }} $\n",
        "\n",
        "$\\color{red}{\\quad\\quad \\text{ Now repeat the above analysis for a new f(t) or f_t for both masses. }} $"
      ],
      "metadata": {
        "id": "23950vADguhs"
      }
    },
    {
      "cell_type": "code",
      "source": [
        ""
      ],
      "metadata": {
        "id": "5BESCSqLg1SY"
      },
      "execution_count": null,
      "outputs": []
    },
    {
      "cell_type": "code",
      "source": [
        ""
      ],
      "metadata": {
        "id": "CcMAIv37g16r"
      },
      "execution_count": null,
      "outputs": []
    },
    {
      "cell_type": "code",
      "source": [
        ""
      ],
      "metadata": {
        "id": "XO-Wg5h7g2D3"
      },
      "execution_count": null,
      "outputs": []
    },
    {
      "cell_type": "markdown",
      "source": [
        "$\\color{red}{\\text{ Write your Conclusion here, you may type in word-processor, only to copy-n-paste it here. This .ipynb file is your lab report.}} $\n",
        "\n",
        "$\\color{red}{\\text{ Demostrate you understand this lab, this is the most imporant part of the lab report worth half of the total points.}} $"
      ],
      "metadata": {
        "id": "iJHWPPzng2Uw"
      }
    },
    {
      "cell_type": "code",
      "source": [
        ""
      ],
      "metadata": {
        "id": "-uQmqZorg5JQ"
      },
      "execution_count": null,
      "outputs": []
    }
  ]
}