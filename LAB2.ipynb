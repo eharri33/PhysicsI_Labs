{
  "nbformat": 4,
  "nbformat_minor": 0,
  "metadata": {
    "colab": {
      "name": "phy122_lab2o.ipynb",
      "provenance": [],
      "collapsed_sections": [],
      "authorship_tag": "ABX9TyOkVNeUuL05BhyAZ237r9lz",
      "include_colab_link": true
    },
    "kernelspec": {
      "name": "python3",
      "display_name": "Python 3"
    },
    "language_info": {
      "name": "python"
    }
  },
  "cells": [
    {
      "cell_type": "markdown",
      "metadata": {
        "id": "view-in-github",
        "colab_type": "text"
      },
      "source": [
        "<a href=\"https://colab.research.google.com/github/jcandane/PhysicsI_Labs/blob/main/LAB2.ipynb\" target=\"_parent\"><img src=\"https://colab.research.google.com/assets/colab-badge.svg\" alt=\"Open In Colab\"/></a>"
      ]
    },
    {
      "cell_type": "markdown",
      "source": [
        "Title-of-Work\n",
        "\n",
        "Your Name\n",
        "\n",
        "Date"
      ],
      "metadata": {
        "id": "l6iIvPZLUkbb"
      }
    },
    {
      "cell_type": "markdown",
      "source": [
        "$\\color{red}{\\text{ Import Necessary Modules }} $"
      ],
      "metadata": {
        "id": "rFduIRUl7KYf"
      }
    },
    {
      "cell_type": "code",
      "source": [
        ""
      ],
      "metadata": {
        "id": "Ac_qX-LwUh9U"
      },
      "execution_count": null,
      "outputs": []
    },
    {
      "cell_type": "markdown",
      "source": [
        "$\\color{red}{\\text{ Before we start lets define the times in which all our experiments will take place. }} $\n",
        "\n",
        "$\\color{red}{\\text{ Define a time-increment (Δt), initial (t0), and a final (tf) time for your experiment. \n",
        "And with it a time_array. }} $"
      ],
      "metadata": {
        "id": "hC1oex657K7o"
      }
    },
    {
      "cell_type": "code",
      "source": [
        ""
      ],
      "metadata": {
        "id": "B2jcaI6FUm-N"
      },
      "execution_count": null,
      "outputs": []
    },
    {
      "cell_type": "markdown",
      "source": [
        "$\\color{red}{\\text{ Experiment I: Gravity Free-Fall }, \\S 5} $\n",
        "\n",
        "$\\color{red}{\\quad\\quad \\text{ To begin lets start with by defining an initial position & velocity and mass }} $"
      ],
      "metadata": {
        "id": "tCM04tvtWYFf"
      }
    },
    {
      "cell_type": "code",
      "source": [
        ""
      ],
      "metadata": {
        "id": "Tiap5DaYUqq_"
      },
      "execution_count": null,
      "outputs": []
    },
    {
      "cell_type": "markdown",
      "source": [
        "$\\color{red}{\\quad\\quad \\text{ Now lets define our force as a function of time, f_t }} $"
      ],
      "metadata": {
        "id": "GYiGgmQ57Rvo"
      }
    },
    {
      "cell_type": "code",
      "source": [
        ""
      ],
      "metadata": {
        "id": "yptqucSvVpMB"
      },
      "execution_count": null,
      "outputs": []
    },
    {
      "cell_type": "markdown",
      "source": [
        "$\\color{red}{\\quad\\quad \\text{ Define a for-loop to Velocity-Verlet integrate the motion to obtain a x_t, v_t, and a_t. }} $"
      ],
      "metadata": {
        "id": "Pnn_hwlS7TYG"
      }
    },
    {
      "cell_type": "code",
      "source": [
        ""
      ],
      "metadata": {
        "id": "uc2izrOlWjwJ"
      },
      "execution_count": null,
      "outputs": []
    },
    {
      "cell_type": "markdown",
      "source": [
        "$\\color{red}{\\quad\\quad \\text{ Take a time-derivative of x_t to obtain dxdt_t. }} $\n",
        "\n",
        "$\\color{red}{\\quad\\quad \\text{ Take a time-derivative of v_t to obtain dvdt_t. }} $"
      ],
      "metadata": {
        "id": "NcD7ypM393ui"
      }
    },
    {
      "cell_type": "code",
      "source": [
        ""
      ],
      "metadata": {
        "id": "pp9caFz9935y"
      },
      "execution_count": null,
      "outputs": []
    },
    {
      "cell_type": "markdown",
      "source": [
        "$\\color{red}{\\quad\\quad\\quad \\text{ Make 3 plots of with: x_t, \\{v_t, dxdt_t\\}, and \\{ a_t, dv/dt_t f_t/mass\\} in matplotlib, all as a function of time. Make sure to include all LABELS!. }} $"
      ],
      "metadata": {
        "id": "DpI40ed-7Sn-"
      }
    },
    {
      "cell_type": "code",
      "source": [
        ""
      ],
      "metadata": {
        "id": "8AehYoqXW9-T"
      },
      "execution_count": null,
      "outputs": []
    },
    {
      "cell_type": "markdown",
      "source": [
        "$\\color{red}{\\quad\\quad\\quad \\text{ Let's replot these graphs but for the magnitude of the vectors. }} $"
      ],
      "metadata": {
        "id": "FgSmYW0e7VUz"
      }
    },
    {
      "cell_type": "code",
      "source": [
        ""
      ],
      "metadata": {
        "id": "vb6EiILCXG_y"
      },
      "execution_count": null,
      "outputs": []
    },
    {
      "cell_type": "markdown",
      "source": [
        "$\\color{red}{\\text{ Experiment II: Forces on a Cart I }} $\n",
        "\n",
        "$\\color{red}{\\quad\\quad \\text{ To begin lets start with by defining an initial position & velocity, and mass. }} $"
      ],
      "metadata": {
        "id": "bqaP8opzZRCN"
      }
    },
    {
      "cell_type": "code",
      "source": [
        ""
      ],
      "metadata": {
        "id": "O20O-sDKZPqc"
      },
      "execution_count": null,
      "outputs": []
    },
    {
      "cell_type": "markdown",
      "source": [
        "$\\color{red}{\\quad\\quad \\text{ Define a force as a function of time, with a bump function. Plot the result in time. }} $"
      ],
      "metadata": {
        "id": "8PayyotO7XCL"
      }
    },
    {
      "cell_type": "code",
      "source": [
        ""
      ],
      "metadata": {
        "id": "I5XfTBf2ZXIR"
      },
      "execution_count": null,
      "outputs": []
    },
    {
      "cell_type": "markdown",
      "source": [
        "$\\color{red}{\\quad\\quad \\text{ Define a for-loop to Velocity-Verlet integrate the motion to obtain a x_t, v_t, and a_t. }} $"
      ],
      "metadata": {
        "id": "akP3b6Yv7YOb"
      }
    },
    {
      "cell_type": "code",
      "source": [
        ""
      ],
      "metadata": {
        "id": "TuVZ4fheZYd1"
      },
      "execution_count": null,
      "outputs": []
    },
    {
      "cell_type": "markdown",
      "source": [
        "$\\color{red}{\\quad\\quad \\text{ Take a time-derivative of x_t to obtain dxdt_t. }} $\n",
        "\n",
        "$\\color{red}{\\quad\\quad \\text{ Take a time-derivative of v_t to obtain dvdt_t. }} $\n"
      ],
      "metadata": {
        "id": "tBtXgiHd7ZZR"
      }
    },
    {
      "cell_type": "code",
      "source": [
        ""
      ],
      "metadata": {
        "id": "E4lEt98GZacU"
      },
      "execution_count": null,
      "outputs": []
    },
    {
      "cell_type": "markdown",
      "source": [
        "$\\color{red}{\\quad\\quad\\quad \\text{ Make 3 plots of with: x_t, \\{v_t, dxdt_t\\}, and \\{ a_t, dv/dt_t f_t/mass\\} in matplotlib, all as a function of time. Make sure to include all LABELS!. }} $"
      ],
      "metadata": {
        "id": "BReV4yUu7ZxT"
      }
    },
    {
      "cell_type": "code",
      "source": [
        ""
      ],
      "metadata": {
        "id": "EZ1RA-MeZbo0"
      },
      "execution_count": null,
      "outputs": []
    },
    {
      "cell_type": "markdown",
      "source": [
        "$\\color{red}{\\text{ Experiment III: Forces on a Cart II }} $\n",
        "\n",
        "$\\color{red}{\\quad\\quad \\text{ To begin lets start with by defining an initial position & velocity }} $"
      ],
      "metadata": {
        "id": "Xk574ag1aW4y"
      }
    },
    {
      "cell_type": "code",
      "source": [
        ""
      ],
      "metadata": {
        "id": "PBUONJ6QaYCX"
      },
      "execution_count": null,
      "outputs": []
    },
    {
      "cell_type": "markdown",
      "source": [
        "$\\color{red}{\\text{ Define a time-increment (Δt), initial (t0), and a final (tf) time for your experiment. \n",
        "And with it a time_array. }} $"
      ],
      "metadata": {
        "id": "9i0hgYYg7a5r"
      }
    },
    {
      "cell_type": "code",
      "source": [
        ""
      ],
      "metadata": {
        "id": "KCy2u0rLaqxT"
      },
      "execution_count": null,
      "outputs": []
    },
    {
      "cell_type": "markdown",
      "source": [
        "$\\color{red}{\\quad\\quad \\text{ Define a force as a function of time, with a bump function. Plot the result in time. }} $"
      ],
      "metadata": {
        "id": "uQzyuOSj7bXr"
      }
    },
    {
      "cell_type": "code",
      "source": [
        ""
      ],
      "metadata": {
        "id": "VuSAJ1W6aZsB"
      },
      "execution_count": null,
      "outputs": []
    },
    {
      "cell_type": "markdown",
      "source": [
        "$\\color{red}{\\quad\\quad \\text{ Define a for-loop to Velocity-Verlet integrate the motion to obtain a x_t, v_t, and a_t. }} $"
      ],
      "metadata": {
        "id": "N36sLVMX7qNO"
      }
    },
    {
      "cell_type": "code",
      "source": [
        ""
      ],
      "metadata": {
        "id": "kvOH7sXGaaoY"
      },
      "execution_count": null,
      "outputs": []
    },
    {
      "cell_type": "markdown",
      "source": [
        "$\\color{red}{\\quad\\quad \\text{ Take a time-derivative of x_t to obtain dxdt_t. }} $\n",
        "\n",
        "$\\color{red}{\\quad\\quad \\text{ Take a time-derivative of v_t to obtain dvdt_t. }} $\n"
      ],
      "metadata": {
        "id": "e-cwrNBl7q1X"
      }
    },
    {
      "cell_type": "code",
      "source": [
        ""
      ],
      "metadata": {
        "id": "4a3o61dTaxUO"
      },
      "execution_count": null,
      "outputs": []
    },
    {
      "cell_type": "markdown",
      "source": [
        "$\\color{red}{\\quad\\quad\\quad \\text{ Make 3 plots of with: x_t, \\{v_t, dxdt_t\\}, and \\{ a_t, dvdt_t, f_t/mass\\} in matplotlib, all as a function of time. Make sure to include all LABELS!. }} $"
      ],
      "metadata": {
        "id": "9YdHushL7rgE"
      }
    },
    {
      "cell_type": "code",
      "source": [
        ""
      ],
      "metadata": {
        "id": "5HESitz4axl4"
      },
      "execution_count": null,
      "outputs": []
    },
    {
      "cell_type": "markdown",
      "source": [
        "$\\color{red}{\\text{ Write your Conclusion here, you may type in word-processor, only to copy-n-paste it here. This .ipynb file is your lab report.}} $\n",
        "\n",
        "$\\color{red}{\\text{ Demostrate you understand this lab, this is the most imporant part of the lab report worth half of the total points.}} $"
      ],
      "metadata": {
        "id": "XSGyLcvu3U77"
      }
    },
    {
      "cell_type": "code",
      "source": [
        ""
      ],
      "metadata": {
        "id": "mIPr2qvel3WQ"
      },
      "execution_count": null,
      "outputs": []
    }
  ]
}