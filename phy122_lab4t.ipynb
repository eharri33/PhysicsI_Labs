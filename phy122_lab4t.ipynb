{
  "nbformat": 4,
  "nbformat_minor": 0,
  "metadata": {
    "colab": {
      "name": "phy122_lab4t.ipynb",
      "provenance": [],
      "collapsed_sections": [
        "CZJ9inuumGfS"
      ],
      "include_colab_link": true
    },
    "kernelspec": {
      "name": "python3",
      "display_name": "Python 3"
    },
    "language_info": {
      "name": "python"
    }
  },
  "cells": [
    {
      "cell_type": "markdown",
      "metadata": {
        "id": "view-in-github",
        "colab_type": "text"
      },
      "source": [
        "<a href=\"https://colab.research.google.com/github/jcandane/PhysicsI_Labs/blob/main/phy122_lab4t.ipynb\" target=\"_parent\"><img src=\"https://colab.research.google.com/assets/colab-badge.svg\" alt=\"Open In Colab\"/></a>"
      ]
    },
    {
      "cell_type": "markdown",
      "source": [
        "Title of Work\n",
        "\n",
        "Name\n",
        "\n",
        "Date"
      ],
      "metadata": {
        "id": "ktbMd1V1U2FG"
      }
    },
    {
      "cell_type": "markdown",
      "source": [
        "#   <font color='Green'> **Setup** </font>"
      ],
      "metadata": {
        "id": "CZJ9inuumGfS"
      }
    },
    {
      "cell_type": "code",
      "execution_count": null,
      "metadata": {
        "id": "TWlI_-aaNKz3"
      },
      "outputs": [],
      "source": [
        "import numpy as np\n",
        "import matplotlib.pyplot as plt\n",
        "\n",
        "np.set_printoptions(precision=4, linewidth=200, threshold=2000, suppress=True)\n",
        "\n",
        "π = np.pi"
      ]
    },
    {
      "cell_type": "code",
      "source": [
        "class body(object):\n",
        "    # 11/22/21 \",\n",
        "    ''' A class of body in kinematics '''\n",
        "    def __init__(self): \n",
        "\n",
        "        ### basics \",\n",
        "        self.apply_force    = np.zeros(3) \n",
        "        self.position       = np.zeros(3) \n",
        "        self.mass           = 1. \n",
        "        self.velocity       = np.zeros(3) \n",
        "        self.size           = 0. \n",
        "        self.air_resistence = 0. \n",
        "\n",
        "    def on_ramp(self, Θ = 0., static_friction=0., kinetic_friction=0.): \n",
        "\n",
        "        Θ = np.pi*Θ/180 \n",
        "        self.e_tangent = np.array([ np.cos(Θ), np.sin(Θ), 0.]) \n",
        "        self.e_normal  = np.array([-np.sin(Θ), np.cos(Θ), 0.]) \n",
        "        self.static_friction  = static_friction \n",
        "        self.kinetic_friction = kinetic_friction \n",
        "\n",
        "        return None\n",
        "\n",
        "    def force_response(self, acting_force): \n",
        "\n",
        "        ### computes force normal to forces \",\n",
        "        f_react_normal  = - np.dot(acting_force, self.e_normal ) * self.e_normal \n",
        "\n",
        "        ### computes forces tangent to forces \",\n",
        "        f_react_tangent = - np.dot(acting_force, self.e_tangent) * self.e_tangent\n",
        "\n",
        "        ## kinetic friction\n",
        "        if np.linalg.norm(f_react_tangent) > np.linalg.norm(self.static_friction * f_react_normal): \n",
        "            f_react_tangent = np.linalg.norm(self.kinetic_friction * f_react_normal) * self.e_tangent \n",
        "\n",
        "        self.f_react_tangent = f_react_tangent\n",
        "        self.f_react_normal  = f_react_normal \n",
        "\n",
        "        return f_react_tangent, f_react_normal\n",
        "\n",
        "    \n",
        "def VelocityVerlet(T, cart, F=None): \n",
        "\n",
        "    Δt = T[1] - T[0]\n",
        "\n",
        "    if F is None:\n",
        "        F = np.zeros((len(T),3))\n",
        "\n",
        "    x_t = np.zeros((len(T),3))\n",
        "    v_t = np.zeros((len(T),3))\n",
        "\n",
        "    x_t[0] = cart.position\n",
        "    v_t[0] = cart.velocity\n",
        "    a_told = np.zeros(3)\n",
        "    for t in range(len(T)-1):\n",
        "        x_t[t+1] = x_t[t] + v_t[t] * Δt + 0.5 * a_told * (Δt*Δt) \n",
        "\n",
        "        f_react_tangent, f_react_normal = cart.force_response(F[t])\n",
        "        a_tnew  = (F[t] + f_react_tangent + f_react_normal) / cart.mass\n",
        "\n",
        "        v_t[t+1]  = v_t[t] + 0.5 * (a_told + a_tnew) * Δt \n",
        "        a_told = a_tnew\n",
        "\n",
        "    return x_t, v_t\n",
        "\n",
        "def VelocityVerletRot(T, cart, F=None): \n",
        "\n",
        "    Δt = T[1] - T[0]\n",
        "\n",
        "    if F is None:\n",
        "        F = np.zeros((len(T),3))\n",
        "\n",
        "    x_t = np.zeros((len(T),3))\n",
        "    v_t = np.zeros((len(T),3))\n",
        "    f_t = np.zeros((len(T),3))\n",
        "\n",
        "    x_t[0] = cart.position\n",
        "    v_t[0] = cart.velocity\n",
        "    f_t[0] = -np.dot( v_t[0], v_t[0]) / (np.linalg.norm(x_t[0])**2) * ( x_t[0] - np.zeros(3) )\n",
        "    a_told = np.zeros(3)\n",
        "    for t in range(len(T)-1):\n",
        "        x_t[t+1] = x_t[t] + v_t[t] * Δt + 0.5 * a_told * (Δt*Δt) \n",
        "\n",
        "        a_centri = -np.dot( v_t[t], v_t[t]) / (np.linalg.norm(x_t[t])**2) * ( x_t[t] - np.zeros(3) )\n",
        "        #a_cenfu  = np.dot( v_t[t], v_t[t]) / (np.linalg.norm(x_t[t])**2) * ( x_t[t] - np.zeros(3) )\n",
        "\n",
        "        ##f_react_tangent, f_react_normal = cart.force_response(F[t])\n",
        "        a_tnew   = a_centri ##+ (F[t] + f_react_tangent + f_react_normal) / cart.mass\n",
        "        f_t[t+1] = cart.mass * a_tnew\n",
        "\n",
        "        v_t[t+1]  = v_t[t] + 0.5 * (a_told + a_tnew) * Δt \n",
        "        a_told    = a_tnew\n",
        "\n",
        "    return x_t, v_t, f_t"
      ],
      "metadata": {
        "id": "PHw4RwWQNPVm"
      },
      "execution_count": null,
      "outputs": []
    },
    {
      "cell_type": "markdown",
      "source": [
        "#   <font color='Red'> **Experiment 1** </font>\n",
        "\n",
        "### <font color='Red'>  Let's get acquainted with rotational motion. </font>"
      ],
      "metadata": {
        "id": "Pk9ELXX6UEN2"
      }
    },
    {
      "cell_type": "markdown",
      "source": [
        "#### <font color='Red'>  In this lab we assume the center of the circular motion is at the origin (0, 0, 0), and the circular motion occurs in the x-y plane. Therefore lets define a body class, and give it initial velocity (in the y-direction) and some initial dispalcement (say in the x direction) from the origin. Then lets place it on a ramp with 0 degrees and no friction. </font>"
      ],
      "metadata": {
        "id": "CyCKMqMBrbPI"
      }
    },
    {
      "cell_type": "code",
      "source": [
        ""
      ],
      "metadata": {
        "id": "S5O3RszRPIl2"
      },
      "execution_count": null,
      "outputs": []
    },
    {
      "cell_type": "markdown",
      "source": [
        "#### <font color='Red'>  Lets define a time array to indicate all moment of time considered, i.e. as done in previous labs. </font>"
      ],
      "metadata": {
        "id": "oVtXaZj0seMr"
      }
    },
    {
      "cell_type": "code",
      "source": [
        ""
      ],
      "metadata": {
        "id": "SQ5qMQiusn6r"
      },
      "execution_count": null,
      "outputs": []
    },
    {
      "cell_type": "markdown",
      "source": [
        "#### <font color='Red'>  Next lets use the VelocityVerletRot (rotational) defintion to integrate our equations-of-motion, and obtain a trajectory and forces. Set External forces to None. </font>"
      ],
      "metadata": {
        "id": "EAPsr0PQsH1D"
      }
    },
    {
      "cell_type": "code",
      "source": [
        ""
      ],
      "metadata": {
        "id": "4dZjmlUmsaag"
      },
      "execution_count": null,
      "outputs": []
    },
    {
      "cell_type": "markdown",
      "source": [
        "####   <font color='Red'> Plot x(t), y(t), z(t) trajectories (in time) on 1 graph, in conclusion explain this graph </font>"
      ],
      "metadata": {
        "id": "-VD4zN8OWfze"
      }
    },
    {
      "cell_type": "code",
      "source": [
        ""
      ],
      "metadata": {
        "colab": {
          "base_uri": "https://localhost:8080/",
          "height": 295
        },
        "id": "uqKASgFqVxfc",
        "outputId": "d1d6e2c4-84cb-4f73-bc95-b9723e4babb3"
      },
      "execution_count": null,
      "outputs": [
        {
          "output_type": "display_data",
          "data": {
            "image/png": "[encoded data removed]",
            "text/plain": [
              "<Figure size 432x288 with 1 Axes>"
            ]
          },
          "metadata": {
            "needs_background": "light"
          }
        }
      ]
    },
    {
      "cell_type": "markdown",
      "source": [
        "####   <font color='Red'> Plot v_x(t), v_y(t), v_z(t) velocities (in time) on 1 graph, in conclusion explain this graph </font>"
      ],
      "metadata": {
        "id": "NlvWBkdOs-Ll"
      }
    },
    {
      "cell_type": "code",
      "source": [
        ""
      ],
      "metadata": {
        "colab": {
          "base_uri": "https://localhost:8080/",
          "height": 295
        },
        "id": "YDyxjCV1s3rE",
        "outputId": "dc4637e0-b1f1-490c-c1a0-8b91bcb2344d"
      },
      "execution_count": null,
      "outputs": [
        {
          "output_type": "display_data",
          "data": {
            "image/png": "[encoded data removed]",
            "text/plain": [
              "<Figure size 432x288 with 1 Axes>"
            ]
          },
          "metadata": {
            "needs_background": "light"
          }
        }
      ]
    },
    {
      "cell_type": "markdown",
      "source": [
        "###   <font color='Red'> Plot a parametric plot with x and y </font>"
      ],
      "metadata": {
        "id": "Gi5OnGDuWys_"
      }
    },
    {
      "cell_type": "code",
      "source": [
        ""
      ],
      "metadata": {
        "colab": {
          "base_uri": "https://localhost:8080/",
          "height": 269
        },
        "id": "rhJ3jbowV8Dy",
        "outputId": "5bd00b80-0778-4c55-df4b-eb5a88ff793c"
      },
      "execution_count": null,
      "outputs": [
        {
          "output_type": "display_data",
          "data": {
            "image/png": "[encoded data removed]",
            "text/plain": [
              "<Figure size 288x288 with 1 Axes>"
            ]
          },
          "metadata": {
            "needs_background": "light"
          }
        }
      ]
    },
    {
      "cell_type": "markdown",
      "source": [
        "#   <font color='Red'> **Experiment 2**  </font>\n",
        "\n",
        "### <font color='Red'>  Let's now experiment *for-loop over object configurations*. Let's begin with by **varying the velocity**, keeping the objects mass and radius fixed. </font>\n",
        "\n"
      ],
      "metadata": {
        "id": "k4jeA9q2UfH1"
      }
    },
    {
      "cell_type": "markdown",
      "source": [
        "#### <font color='Red'> Specify a range of speeds, you'd like to test. And an empty array of what you'd like to measure, i.e. the force (of the same length of the array of speeds). </font>"
      ],
      "metadata": {
        "id": "GD1Pxyq6ZK8F"
      }
    },
    {
      "cell_type": "code",
      "source": [
        ""
      ],
      "metadata": {
        "id": "6rcp2sxIZYKI"
      },
      "execution_count": null,
      "outputs": []
    },
    {
      "cell_type": "markdown",
      "source": [
        "#### <font color='Red'> Setup a time-array like before to test the dynamics.  </font>"
      ],
      "metadata": {
        "id": "-pIVk4UIaOwx"
      }
    },
    {
      "cell_type": "code",
      "source": [
        ""
      ],
      "metadata": {
        "id": "EOM_-tguaPDT"
      },
      "execution_count": null,
      "outputs": []
    },
    {
      "cell_type": "markdown",
      "source": [
        "#### <font color='Red'> Let's run the for-loop, over the velocities we wish to experiment over. </font>"
      ],
      "metadata": {
        "id": "J0L8orcyZYeV"
      }
    },
    {
      "cell_type": "code",
      "source": [
        ""
      ],
      "metadata": {
        "id": "3dywnlORRHMv"
      },
      "execution_count": null,
      "outputs": []
    },
    {
      "cell_type": "markdown",
      "source": [
        "#### <font color='Red'> Plot your data: F vs. v </font>"
      ],
      "metadata": {
        "id": "2P09jGnKbYXa"
      }
    },
    {
      "cell_type": "code",
      "source": [
        ""
      ],
      "metadata": {
        "colab": {
          "base_uri": "https://localhost:8080/",
          "height": 54
        },
        "id": "KK2hKycVaonS",
        "outputId": "16b65269-80c5-4a2c-f7be-5c6b42dd9770"
      },
      "execution_count": null,
      "outputs": [
        {
          "output_type": "display_data",
          "data": {
            "image/png": "[encoded data removed]",
            "text/plain": [
              "<Figure size 432x288 with 1 Axes>"
            ]
          },
          "metadata": {
            "needs_background": "light"
          }
        }
      ]
    },
    {
      "cell_type": "markdown",
      "source": [
        "#### <font color='Red'> Solve Least-Squares Linear fit to the Data, i.e. obtain a linear form of your data (e.g. f(R) ~ R). Get linear coefficients y = m * x + c, i.e. get m and c (with y = f, and x = R). And print the values of m and c with units. </font>"
      ],
      "metadata": {
        "id": "BUbC-8TzrCSC"
      }
    },
    {
      "cell_type": "code",
      "source": [
        ""
      ],
      "metadata": {
        "colab": {
          "base_uri": "https://localhost:8080/"
        },
        "id": "P36q3OaMrDiz",
        "outputId": "db7b36ab-a95e-41a7-d4fe-4f8e7f30e1cb"
      },
      "execution_count": null,
      "outputs": [
        {
          "output_type": "stream",
          "name": "stdout",
          "text": [
            "slope       = 0.329 kg/m\n",
            "y-intercept = -0.005 N\n"
          ]
        }
      ]
    },
    {
      "cell_type": "markdown",
      "source": [
        "### <font color='Red'> Get the theoritical slope ratio, e.g. m/R, and print it with units how does it compare with your linear fit? </font>"
      ],
      "metadata": {
        "id": "mSDdnRTrrQ7G"
      }
    },
    {
      "cell_type": "code",
      "source": [
        ""
      ],
      "metadata": {
        "colab": {
          "base_uri": "https://localhost:8080/"
        },
        "id": "4wejb6kIrT9e",
        "outputId": "aefd4721-981c-44b6-afcf-dbf16d6945af"
      },
      "execution_count": null,
      "outputs": [
        {
          "output_type": "stream",
          "name": "stdout",
          "text": [
            "slope-theory= 0.318 kg/m\n"
          ]
        }
      ]
    },
    {
      "cell_type": "markdown",
      "source": [
        "#### <font color='Red'> Let's plot this linear function (in F vs. v^2): data, simulation-fit, and theory-fit </font>"
      ],
      "metadata": {
        "id": "Fd1eJkGTqkWr"
      }
    },
    {
      "cell_type": "code",
      "source": [
        ""
      ],
      "metadata": {
        "colab": {
          "base_uri": "https://localhost:8080/",
          "height": 301
        },
        "id": "mWPwMDOEqzfv",
        "outputId": "2c8c209a-4a66-4521-c9db-fbe4f0d11c75"
      },
      "execution_count": null,
      "outputs": [
        {
          "output_type": "display_data",
          "data": {
            "image/png": "[encoded data removed]",
            "text/plain": [
              "<Figure size 432x288 with 1 Axes>"
            ]
          },
          "metadata": {
            "needs_background": "light"
          }
        }
      ]
    },
    {
      "cell_type": "markdown",
      "source": [
        "#   <font color='Red'> **Experiment 3** </font>\n",
        "\n",
        "### <font color='Red'>  Let's now experiment *for-loop over object configurations*. Next let's **varying the Radius** of rotation, keeping the objects mass and velocity fixed. </font>"
      ],
      "metadata": {
        "id": "wYk7vr6uUt4t"
      }
    },
    {
      "cell_type": "code",
      "source": [
        ""
      ],
      "metadata": {
        "id": "Xe7r9-MLPnxl"
      },
      "execution_count": null,
      "outputs": []
    },
    {
      "cell_type": "markdown",
      "source": [
        "### <font color='Red'> Define the time array, indicating all moments of time considered </font>"
      ],
      "metadata": {
        "id": "UzmiqNTTpLms"
      }
    },
    {
      "cell_type": "code",
      "source": [
        ""
      ],
      "metadata": {
        "id": "n0tRfvadcYJH"
      },
      "execution_count": null,
      "outputs": []
    },
    {
      "cell_type": "markdown",
      "source": [
        "### <font color='Red'> For-loop over Radii considered </font>"
      ],
      "metadata": {
        "id": "bne4xgM6pXLU"
      }
    },
    {
      "cell_type": "code",
      "source": [
        ""
      ],
      "metadata": {
        "id": "MZhpx73Acc10"
      },
      "execution_count": null,
      "outputs": []
    },
    {
      "cell_type": "markdown",
      "source": [
        "### <font color='Red'> Plot the Radii vs. Force graph </font>"
      ],
      "metadata": {
        "id": "LOVeZdtNpf9X"
      }
    },
    {
      "cell_type": "code",
      "source": [
        ""
      ],
      "metadata": {
        "colab": {
          "base_uri": "https://localhost:8080/",
          "height": 54
        },
        "id": "fWOEbONtc6zz",
        "outputId": "093d4403-1c83-4aeb-b437-bd1c96847016"
      },
      "execution_count": null,
      "outputs": [
        {
          "output_type": "display_data",
          "data": {
            "image/png": "[encoded data removed]",
            "text/plain": [
              "<Figure size 432x288 with 1 Axes>"
            ]
          },
          "metadata": {
            "needs_background": "light"
          }
        }
      ]
    },
    {
      "cell_type": "markdown",
      "source": [
        "### <font color='Red'> Solve Least-Squares Linear fit to the Data, i.e. obtain a linear form of your data (e.g. f(R) ~ R). Get linear coefficients y = m * x + c, i.e. get m and c (with y = f, and x = R). And print the values of m and c with units. </font>"
      ],
      "metadata": {
        "id": "e9poKN70pnnZ"
      }
    },
    {
      "cell_type": "code",
      "source": [
        ""
      ],
      "metadata": {
        "colab": {
          "base_uri": "https://localhost:8080/"
        },
        "id": "GcaLN46xdD39",
        "outputId": "25172448-ca43-4eae-e095-c3ddf0550a04"
      },
      "execution_count": null,
      "outputs": [
        {
          "output_type": "stream",
          "name": "stdout",
          "text": [
            "slope       =  1.075 Nm\n",
            "y-intercept = -0.028 N\n"
          ]
        }
      ]
    },
    {
      "cell_type": "markdown",
      "source": [
        "### <font color='Red'> Get the theoritical slope ratio, e.g. m v^2, and print it with units how does it compare with your linear fit? </font>"
      ],
      "metadata": {
        "id": "eOaSFAq-qJfE"
      }
    },
    {
      "cell_type": "code",
      "source": [
        ""
      ],
      "metadata": {
        "id": "NX6VQ2Bvef4F",
        "colab": {
          "base_uri": "https://localhost:8080/"
        },
        "outputId": "1a873f03-c120-4026-d454-a7cc0e903ad4"
      },
      "execution_count": null,
      "outputs": [
        {
          "output_type": "stream",
          "name": "stdout",
          "text": [
            "theory-slope=  1.000 Nm\n"
          ]
        }
      ]
    },
    {
      "cell_type": "markdown",
      "source": [
        "#   <font color='Red'> **Conclusion** </font>\n",
        "\n",
        "### <font color='Red'> Explain all graphs, and relevant physics invovled in the simulations. Explain the need for a good integration time step $\\Delta$t. </font>"
      ],
      "metadata": {
        "id": "z_yz6tYtUwO_"
      }
    },
    {
      "cell_type": "markdown",
      "source": [
        "Write your Conclusion here"
      ],
      "metadata": {
        "id": "r5QcxHQvfy0Y"
      }
    }
  ]
}