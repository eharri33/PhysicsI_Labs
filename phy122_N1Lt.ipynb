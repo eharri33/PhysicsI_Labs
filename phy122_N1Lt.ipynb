{
  "cells": [
    {
      "cell_type": "markdown",
      "metadata": {
        "id": "view-in-github",
        "colab_type": "text"
      },
      "source": [
        "<a href=\"https://colab.research.google.com/github/jcandane/PhysicsI_Labs/blob/main/phy122_N1Lt.ipynb\" target=\"_parent\"><img src=\"https://colab.research.google.com/assets/colab-badge.svg\" alt=\"Open In Colab\"/></a>"
      ]
    },
    {
      "cell_type": "markdown",
      "metadata": {
        "id": "oKNK3iMn79o0"
      },
      "source": [
        "Title-of-Work\n",
        "\n",
        "Your Name\n",
        "\n",
        "Date"
      ]
    },
    {
      "cell_type": "markdown",
      "metadata": {
        "id": "e9gm2jlZ3mG_"
      },
      "source": [
        "#   <font color='Red'> **Import Necessary Modules** </font>"
      ]
    },
    {
      "cell_type": "code",
      "execution_count": null,
      "metadata": {
        "id": "P3RG-BIQ3AVX"
      },
      "outputs": [],
      "source": [
        ""
      ]
    },
    {
      "cell_type": "markdown",
      "metadata": {
        "id": "PIaHrzp8B-dj"
      },
      "source": [
        "### <font color='Red'> Before we start lets define the times in which all our experiments will take place. </font>\n",
        "\n",
        "### <font color='Red'> Define a time-increment (Δt), initial (t0), and a final (tf) time for your experiment. And with it a time_array. </font>"
      ]
    },
    {
      "cell_type": "code",
      "execution_count": null,
      "metadata": {
        "id": "Qnoj6Tw8B-z4"
      },
      "outputs": [],
      "source": [
        ""
      ]
    },
    {
      "cell_type": "markdown",
      "source": [
        "#   <font color='Red'> **Experiment 1** </font>"
      ],
      "metadata": {
        "id": "hpIvyIymEInM"
      }
    },
    {
      "cell_type": "markdown",
      "metadata": {
        "id": "fRrrh8d4972i"
      },
      "source": [
        "### <font color='Red'> To begin lets start with by defining an initial position. </font>"
      ]
    },
    {
      "cell_type": "code",
      "execution_count": null,
      "metadata": {
        "id": "C2JeifS89-q_"
      },
      "outputs": [],
      "source": [
        ""
      ]
    },
    {
      "cell_type": "markdown",
      "metadata": {
        "id": "wYfqEwxMBbd-"
      },
      "source": [
        "### <font color='Red'> PRINT the distance of the previously defined position vector (give units!): </font>"
      ]
    },
    {
      "cell_type": "code",
      "execution_count": null,
      "metadata": {
        "colab": {
          "base_uri": "https://localhost:8080/"
        },
        "id": "MeQhANuwBUnT",
        "outputId": "7b7df04b-1852-4d4f-dbc1-8b74e9515825"
      },
      "outputs": [
        {
          "output_type": "stream",
          "name": "stdout",
          "text": [
            "the initial distance is 1.000 meters \n"
          ]
        }
      ],
      "source": [
        ""
      ]
    },
    {
      "cell_type": "markdown",
      "metadata": {
        "id": "IXMFB6BdCnEE"
      },
      "source": [
        "### <font color='Red'> Define a for-loop to Velocity-Verlet integrate the motion to obtain a x_t. </font>"
      ]
    },
    {
      "cell_type": "code",
      "execution_count": null,
      "metadata": {
        "id": "3jHQd2UnBieT"
      },
      "outputs": [],
      "source": [
        ""
      ]
    },
    {
      "cell_type": "markdown",
      "metadata": {
        "id": "lnVHqv4mC5MS"
      },
      "source": [
        "### <font color='Red'> Take a time-derivative of x_t to obtain dxdt_t. </font>"
      ]
    },
    {
      "cell_type": "code",
      "execution_count": null,
      "metadata": {
        "id": "tfoxqNRiCyym"
      },
      "outputs": [],
      "source": [
        ""
      ]
    },
    {
      "cell_type": "markdown",
      "metadata": {
        "id": "pQINm1ytDDbK"
      },
      "source": [
        "### <font color='Red'> Make 2 plots of with: x_t and \\{v_t, dxdt_t\\} in matplotlib, both as a function of time. Make sure to include all LABELS!. </font>"
      ]
    },
    {
      "cell_type": "code",
      "execution_count": null,
      "metadata": {
        "colab": {
          "base_uri": "https://localhost:8080/",
          "height": 308
        },
        "id": "EbvQZMj9C6gX",
        "outputId": "115fcdc9-8aad-4c17-ffc0-cca20acf49c9"
      },
      "outputs": [
        {
          "output_type": "display_data",
          "data": {
            "text/plain": [
              "<Figure size 432x288 with 2 Axes>"
            ],
            "image/png": "[encoded data removed]"
          },
          "metadata": {
            "needs_background": "light"
          }
        }
      ],
      "source": [
        ""
      ]
    },
    {
      "cell_type": "markdown",
      "source": [
        ""
      ],
      "metadata": {
        "id": "o3BfQG_3eKbG"
      }
    },
    {
      "cell_type": "markdown",
      "metadata": {
        "id": "AatksBws5jaw"
      },
      "source": [
        "#   <font color='Red'> **Experiment 2** </font>"
      ]
    },
    {
      "cell_type": "markdown",
      "source": [
        "### <font color='Red'> To begin lets start with by defining an initial position and velocity </font>"
      ],
      "metadata": {
        "id": "LYv4FonITRzP"
      }
    },
    {
      "cell_type": "code",
      "execution_count": null,
      "metadata": {
        "id": "YXihspnM3Tom"
      },
      "outputs": [],
      "source": [
        ""
      ]
    },
    {
      "cell_type": "markdown",
      "metadata": {
        "id": "ifmVZSCJ59g9"
      },
      "source": [
        "### <font color='Red'> PRINT out the distance and speed of the previously defined position and velocity vectors: </font>"
      ]
    },
    {
      "cell_type": "code",
      "execution_count": null,
      "metadata": {
        "colab": {
          "base_uri": "https://localhost:8080/"
        },
        "id": "01gIhjIS6Hss",
        "outputId": "e2990f20-07b6-42b3-d60b-85d49fb6b5ae"
      },
      "outputs": [
        {
          "output_type": "stream",
          "name": "stdout",
          "text": [
            "the initial distance is 1.000 meters \n",
            "the initial speed    is 1.000 meters/second \n"
          ]
        }
      ],
      "source": [
        ""
      ]
    },
    {
      "cell_type": "markdown",
      "metadata": {
        "id": "xmAdr4np6opY"
      },
      "source": [
        "### <font color='Red'> Define a for-loop to Velocity-Verlet integrate the motion to obtain a x_t. </font>"
      ]
    },
    {
      "cell_type": "code",
      "execution_count": null,
      "metadata": {
        "id": "7V87C16B6n9B"
      },
      "outputs": [],
      "source": [
        ""
      ]
    },
    {
      "cell_type": "markdown",
      "metadata": {
        "id": "PlEX8NRZ7AH8"
      },
      "source": [
        "### <font color='Red'> Take a time-derivative of x_t to obtain dxdt_t. </font>\n",
        "\n",
        "### <font color='Red'> Take a time-derivative of v_t to obtain dvdt_t. </font>\n",
        "\n"
      ]
    },
    {
      "cell_type": "code",
      "execution_count": null,
      "metadata": {
        "id": "fhZcODeo7APm"
      },
      "outputs": [],
      "source": [
        ""
      ]
    },
    {
      "cell_type": "markdown",
      "metadata": {
        "id": "LsWkbzT87s8-"
      },
      "source": [
        "### <font color='Red'> Calculate the Average Velocity over time, v_t. </font>"
      ]
    },
    {
      "cell_type": "code",
      "execution_count": null,
      "metadata": {
        "colab": {
          "base_uri": "https://localhost:8080/"
        },
        "id": "0BNA-owP7tJp",
        "outputId": "8ee48a88-71b3-41c1-82a8-63b5fa214b66"
      },
      "outputs": [
        {
          "output_type": "execute_result",
          "data": {
            "text/plain": [
              "1.0"
            ]
          },
          "metadata": {},
          "execution_count": 12
        }
      ],
      "source": [
        ""
      ]
    },
    {
      "cell_type": "markdown",
      "metadata": {
        "id": "9_HxKP_G62KQ"
      },
      "source": [
        "### <font color='Red'> Make 3 plots of with: x_t, \\{v_t, dxdt_t\\}, and dvdt_t in matplotlib, both as a function of time. Make sure to include all LABELS!. </font>"
      ]
    },
    {
      "cell_type": "code",
      "execution_count": null,
      "metadata": {
        "colab": {
          "base_uri": "https://localhost:8080/",
          "height": 308
        },
        "id": "u4-vHVgC62kh",
        "outputId": "a7101c90-bb27-42f0-eeda-e8210c45d293"
      },
      "outputs": [
        {
          "output_type": "display_data",
          "data": {
            "text/plain": [
              "<Figure size 432x288 with 3 Axes>"
            ],
            "image/png": "[encoded data removed]"
          },
          "metadata": {
            "needs_background": "light"
          }
        }
      ],
      "source": [
        ""
      ]
    },
    {
      "cell_type": "markdown",
      "source": [
        ""
      ],
      "metadata": {
        "id": "M9whUfbCeJlz"
      }
    },
    {
      "cell_type": "markdown",
      "metadata": {
        "id": "CdwiQSAoE3pY"
      },
      "source": [
        "#   <font color='Red'> **Experiment 3** </font>"
      ]
    },
    {
      "cell_type": "markdown",
      "source": [
        "###  <font color='Red'> To begin lets start with by defining an initial position, velocity, and acceleration </font>"
      ],
      "metadata": {
        "id": "h34NjKFnTXYm"
      }
    },
    {
      "cell_type": "code",
      "execution_count": null,
      "metadata": {
        "id": "Ey0czpxzE2g7"
      },
      "outputs": [],
      "source": [
        ""
      ]
    },
    {
      "cell_type": "markdown",
      "metadata": {
        "id": "54ZwZZSrFOZl"
      },
      "source": [
        "###  <font color='Red'> PRINT out the distance, speed, and magnitude of the acceleration of the previously defined vectors: </font>"
      ]
    },
    {
      "cell_type": "code",
      "execution_count": null,
      "metadata": {
        "colab": {
          "base_uri": "https://localhost:8080/"
        },
        "id": "KSw_7CcSFKLu",
        "outputId": "dd26fd02-0c32-4b66-aaea-5b0e71016596"
      },
      "outputs": [
        {
          "output_type": "stream",
          "name": "stdout",
          "text": [
            "the initial distance     is 1.000 meters \n",
            "the initial speed        is 1.000 meters/second \n",
            "the initial acceleration is 2.000 meters/second/second \n"
          ]
        }
      ],
      "source": [
        ""
      ]
    },
    {
      "cell_type": "markdown",
      "metadata": {
        "id": "nPCymXb0Fpo-"
      },
      "source": [
        "###  <font color='Red'> Define a for-loop to Velocity-Verlet integrate the motion to obtain a x_t, v_t, and a_t. </font>"
      ]
    },
    {
      "cell_type": "code",
      "execution_count": null,
      "metadata": {
        "id": "vqMTVUTFFhRa"
      },
      "outputs": [],
      "source": [
        ""
      ]
    },
    {
      "cell_type": "markdown",
      "metadata": {
        "id": "WhoX5PZBGXJS"
      },
      "source": [
        "###  <font color='Red'> Take a time-derivative of x_t to obtain dxdt_t. </font>\n",
        "\n",
        "###  <font color='Red'> Take a time-derivative of v_t to obtain dvdt_t. </font>\n",
        "\n",
        "###  <font color='Red'> Take a time-derivative of a_t to obtain dadt_t. </font>"
      ]
    },
    {
      "cell_type": "code",
      "execution_count": null,
      "metadata": {
        "id": "zWP6KVbGGDMk"
      },
      "outputs": [],
      "source": [
        ""
      ]
    },
    {
      "cell_type": "markdown",
      "metadata": {
        "id": "oygDwI1qGfpV"
      },
      "source": [
        "###  <font color='Red'> Make 4 plots of with: x_t, \\{v_t, dxdt_t\\}, \\{ a_t, dvdt_t\\}, and dadt_t in matplotlib, all as a function of time. Make sure to include all LABELS!. </font>"
      ]
    },
    {
      "cell_type": "code",
      "execution_count": null,
      "metadata": {
        "colab": {
          "base_uri": "https://localhost:8080/",
          "height": 308
        },
        "id": "34qS5DvaGWYB",
        "outputId": "ea4c77b4-5c68-4d85-8b92-51cafc396302"
      },
      "outputs": [
        {
          "output_type": "display_data",
          "data": {
            "text/plain": [
              "<Figure size 432x288 with 4 Axes>"
            ],
            "image/png": "[encoded data removed]"
          },
          "metadata": {
            "needs_background": "light"
          }
        }
      ],
      "source": [
        ""
      ]
    },
    {
      "cell_type": "markdown",
      "source": [
        ""
      ],
      "metadata": {
        "id": "O7qPPw-seIj2"
      }
    },
    {
      "cell_type": "markdown",
      "metadata": {
        "id": "Gk9ovZyvHs-P"
      },
      "source": [
        "#   <font color='Red'> **Experiment 4** </font>"
      ]
    },
    {
      "cell_type": "markdown",
      "source": [
        "###   <font color='Red'> To begin lets start given the following initial position, velocity, and acceleration, WITH velocity and acceleration in different directions! </font>"
      ],
      "metadata": {
        "id": "WNINnSGHTbz4"
      }
    },
    {
      "cell_type": "code",
      "execution_count": null,
      "metadata": {
        "id": "tvBpr1p6HsWG"
      },
      "outputs": [],
      "source": [
        ""
      ]
    },
    {
      "cell_type": "markdown",
      "metadata": {
        "id": "2q2jCTbJHzTv"
      },
      "source": [
        "###  <font color='Red'> Define a for-loop to Velocity-Verlet integrate the motion to obtain a x_t, v_t, and a_t. </font>"
      ]
    },
    {
      "cell_type": "code",
      "execution_count": null,
      "metadata": {
        "id": "lseF9S1MHzve"
      },
      "outputs": [],
      "source": [
        ""
      ]
    },
    {
      "cell_type": "markdown",
      "metadata": {
        "id": "vJAFbAfUH9wV"
      },
      "source": [
        "###  <font color='Red'> Take a time-derivative of x_t to obtain dxdt_t. </font>\n",
        "\n",
        "###  <font color='Red'> Take a time-derivative of v_t to obtain dvdt_t. </font>\n",
        "\n",
        "###  <font color='Red'> Take a time-derivative of a_t to obtain dadt_t. </font>"
      ]
    },
    {
      "cell_type": "code",
      "execution_count": null,
      "metadata": {
        "id": "f08dkiU5H9Bl"
      },
      "outputs": [],
      "source": [
        ""
      ]
    },
    {
      "cell_type": "markdown",
      "metadata": {
        "id": "xAJmFy9QIDCV"
      },
      "source": [
        "###  <font color='Red'> Make 4 plots of with: x_t, \\{v_t, dxdt_t\\}, \\{ a_t, dvdt_t\\}, and dadt_t in matplotlib, all as a function of time. Make sure to include all LABELS!. </font>"
      ]
    },
    {
      "cell_type": "code",
      "execution_count": null,
      "metadata": {
        "colab": {
          "base_uri": "https://localhost:8080/",
          "height": 308
        },
        "id": "3QJDgQZ7IDmE",
        "outputId": "956d0cd1-797a-47d1-9f42-a7b8f4fe1c62"
      },
      "outputs": [
        {
          "output_type": "display_data",
          "data": {
            "text/plain": [
              "<Figure size 432x288 with 4 Axes>"
            ],
            "image/png": "[encoded data removed]"
          },
          "metadata": {
            "needs_background": "light"
          }
        }
      ],
      "source": [
        ""
      ]
    },
    {
      "cell_type": "markdown",
      "source": [
        ""
      ],
      "metadata": {
        "id": "Gjo0QTF_eHd4"
      }
    },
    {
      "cell_type": "markdown",
      "source": [
        "#   <font color='Red'> **Conclusion** </font>"
      ],
      "metadata": {
        "id": "S_Eilx-OTlDQ"
      }
    },
    {
      "cell_type": "markdown",
      "source": [
        "###  <font color='Red'> Write your Conclusion here, you may type in word-processor, only to copy-n-paste it here. This .ipynb file is your lab report. </font>\n",
        "\n",
        "###  <font color='Red'> Demostrate you understand this lab, this is the most imporant part of the lab report worth half of the total points. </font>"
      ],
      "metadata": {
        "id": "_eni7kLDTnQY"
      }
    },
    {
      "cell_type": "markdown",
      "source": [
        ""
      ],
      "metadata": {
        "id": "TOsJqt0aTnXi"
      }
    }
  ],
  "metadata": {
    "colab": {
      "name": "phy122_N1Lt.ipynb",
      "provenance": [],
      "collapsed_sections": [],
      "include_colab_link": true
    },
    "kernelspec": {
      "display_name": "Python 3",
      "language": "python",
      "name": "python3"
    },
    "language_info": {
      "codemirror_mode": {
        "name": "ipython",
        "version": 3
      },
      "file_extension": ".py",
      "mimetype": "text/x-python",
      "name": "python",
      "nbconvert_exporter": "python",
      "pygments_lexer": "ipython3",
      "version": "3.7.7"
    }
  },
  "nbformat": 4,
  "nbformat_minor": 0
}