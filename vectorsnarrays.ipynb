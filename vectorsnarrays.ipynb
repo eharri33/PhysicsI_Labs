{
  "nbformat": 4,
  "nbformat_minor": 0,
  "metadata": {
    "colab": {
      "name": "vectorsnarrays.ipynb",
      "provenance": [],
      "authorship_tag": "ABX9TyMTkMmjT3kaWPS6oOcq4SUn",
      "include_colab_link": true
    },
    "kernelspec": {
      "name": "python3",
      "display_name": "Python 3"
    },
    "language_info": {
      "name": "python"
    }
  },
  "cells": [
    {
      "cell_type": "markdown",
      "metadata": {
        "id": "view-in-github",
        "colab_type": "text"
      },
      "source": [
        "<a href=\"https://colab.research.google.com/github/jcandane/PhysicsI_Labs/blob/main/vectorsnarrays.ipynb\" target=\"_parent\"><img src=\"https://colab.research.google.com/assets/colab-badge.svg\" alt=\"Open In Colab\"/></a>"
      ]
    },
    {
      "cell_type": "markdown",
      "source": [
        "# Vectors"
      ],
      "metadata": {
        "id": "inpj6EYurI5i"
      }
    },
    {
      "cell_type": "markdown",
      "source": [
        "Import numpy,"
      ],
      "metadata": {
        "id": "UaIRvGACrvuR"
      }
    },
    {
      "cell_type": "code",
      "source": [
        "import numpy as np"
      ],
      "metadata": {
        "id": "c1y0rA4krtt8"
      },
      "execution_count": 2,
      "outputs": []
    },
    {
      "cell_type": "markdown",
      "source": [
        "for us vectors are represented by arrays, defined as such:"
      ],
      "metadata": {
        "id": "ybt40FdQrjb9"
      }
    },
    {
      "cell_type": "code",
      "execution_count": 36,
      "metadata": {
        "id": "H8hZt0AirHBa"
      },
      "outputs": [],
      "source": [
        "a_vector = np.array([0.,7.,0.])\n",
        "b_vector = np.array([1.,-4.,-8.])\n",
        "\n",
        "u = np.random.rand(3)\n",
        "v = np.random.rand(3)\n",
        "w = np.random.rand(3)"
      ]
    },
    {
      "cell_type": "markdown",
      "source": [
        "## Vector Space Operations/Axioms\n",
        "(from: https://en.wikipedia.org/wiki/Vector_space)"
      ],
      "metadata": {
        "id": "lZg6qybauRG7"
      }
    },
    {
      "cell_type": "markdown",
      "source": [
        "$u + (v + w) = (u + v) + w$"
      ],
      "metadata": {
        "id": "hwo-U108woIT"
      }
    },
    {
      "cell_type": "code",
      "source": [
        "u + (v + w) == (u + v) + w"
      ],
      "metadata": {
        "colab": {
          "base_uri": "https://localhost:8080/"
        },
        "id": "3QawmWlFxSrt",
        "outputId": "dcadef0c-28a7-4aa4-dac4-9b4e12e2c61e"
      },
      "execution_count": 37,
      "outputs": [
        {
          "output_type": "execute_result",
          "data": {
            "text/plain": [
              "array([ True,  True,  True])"
            ]
          },
          "metadata": {},
          "execution_count": 37
        }
      ]
    },
    {
      "cell_type": "markdown",
      "source": [
        "$u + v = v + u$"
      ],
      "metadata": {
        "id": "VheZ0ZlpwqSC"
      }
    },
    {
      "cell_type": "code",
      "source": [
        "u + v == v + u "
      ],
      "metadata": {
        "colab": {
          "base_uri": "https://localhost:8080/"
        },
        "id": "HhDE3tWQxZyE",
        "outputId": "a306a4e2-da0a-40c1-9816-4dd19d85e4cc"
      },
      "execution_count": 38,
      "outputs": [
        {
          "output_type": "execute_result",
          "data": {
            "text/plain": [
              "array([ True,  True,  True])"
            ]
          },
          "metadata": {},
          "execution_count": 38
        }
      ]
    },
    {
      "cell_type": "markdown",
      "source": [
        "There exists an element $0 \\in V$, called the zero vector, such that $v + 0 = v$ for all $v \\in V$. "
      ],
      "metadata": {
        "id": "K3Vx1zrEwvp3"
      }
    },
    {
      "cell_type": "code",
      "source": [
        "Ø = np.zeros(3)\n",
        "v + Ø == v "
      ],
      "metadata": {
        "colab": {
          "base_uri": "https://localhost:8080/"
        },
        "id": "rY1Bkb6OxerL",
        "outputId": "c0fc5c91-a4f7-4504-d132-39902270a047"
      },
      "execution_count": 39,
      "outputs": [
        {
          "output_type": "execute_result",
          "data": {
            "text/plain": [
              "array([ True,  True,  True])"
            ]
          },
          "metadata": {},
          "execution_count": 39
        }
      ]
    },
    {
      "cell_type": "markdown",
      "source": [
        "For every $\\mathbf{v} \\in V$, there exists an element $−\\mathbf{v} \\in V$, called the additive inverse of $\\mathbf{v}$, such that $\\mathbf{v} + (−\\mathbf{v}) = 0$. "
      ],
      "metadata": {
        "id": "GSSaAA1Sw6Xk"
      }
    },
    {
      "cell_type": "code",
      "source": [
        "v + -v == Ø"
      ],
      "metadata": {
        "colab": {
          "base_uri": "https://localhost:8080/"
        },
        "id": "mnQs0iMnxnUR",
        "outputId": "dd25896b-09ad-45cc-eb5c-23eb2322cec5"
      },
      "execution_count": 40,
      "outputs": [
        {
          "output_type": "execute_result",
          "data": {
            "text/plain": [
              "array([ True,  True,  True])"
            ]
          },
          "metadata": {},
          "execution_count": 40
        }
      ]
    },
    {
      "cell_type": "markdown",
      "source": [
        "$a(b\\mathbf{v}) = (ab)\\mathbf{v}$"
      ],
      "metadata": {
        "id": "9bP3sMx-xpTJ"
      }
    },
    {
      "cell_type": "code",
      "source": [
        "a = 5.\n",
        "b = 2.\n",
        "\n",
        "a * (b * v) == (a*b) * v"
      ],
      "metadata": {
        "colab": {
          "base_uri": "https://localhost:8080/"
        },
        "id": "80PKtxWryK43",
        "outputId": "acfba405-21a7-4dd0-a27c-5c45896011f2"
      },
      "execution_count": 51,
      "outputs": [
        {
          "output_type": "execute_result",
          "data": {
            "text/plain": [
              "array([ True,  True,  True])"
            ]
          },
          "metadata": {},
          "execution_count": 51
        }
      ]
    },
    {
      "cell_type": "markdown",
      "source": [
        "$1v = v$, where 1 denotes the multiplicative identity. "
      ],
      "metadata": {
        "id": "r5ziMEVkxpa-"
      }
    },
    {
      "cell_type": "code",
      "source": [
        "I = np.ones(3)\n",
        "\n",
        "I * v == v"
      ],
      "metadata": {
        "colab": {
          "base_uri": "https://localhost:8080/"
        },
        "id": "dG6OKGRCygZL",
        "outputId": "4da64007-8e0c-4394-961d-224f7bc001c1"
      },
      "execution_count": 52,
      "outputs": [
        {
          "output_type": "execute_result",
          "data": {
            "text/plain": [
              "array([ True,  True,  True])"
            ]
          },
          "metadata": {},
          "execution_count": 52
        }
      ]
    },
    {
      "cell_type": "markdown",
      "source": [
        "$a(\\mathbf{u} + \\mathbf{v}) = a\\mathbf{u} + a\\mathbf{v} $"
      ],
      "metadata": {
        "id": "iA6X_cruxpjk"
      }
    },
    {
      "cell_type": "code",
      "source": [
        "np.allclose( a * ( u + v ), a* u + a * v )"
      ],
      "metadata": {
        "colab": {
          "base_uri": "https://localhost:8080/"
        },
        "id": "7fz7hSzoyv-X",
        "outputId": "f3209dcf-52b9-4b17-9c0c-91a8fa4ac041"
      },
      "execution_count": 57,
      "outputs": [
        {
          "output_type": "execute_result",
          "data": {
            "text/plain": [
              "True"
            ]
          },
          "metadata": {},
          "execution_count": 57
        }
      ]
    },
    {
      "cell_type": "markdown",
      "source": [
        "$ (a + b)\\mathbf{v} = a\\mathbf{v} + b\\mathbf{v} $"
      ],
      "metadata": {
        "id": "y-Kc3tSOx7o4"
      }
    },
    {
      "cell_type": "code",
      "source": [
        "np.allclose( (a+b) * v , a*v + b*v )"
      ],
      "metadata": {
        "colab": {
          "base_uri": "https://localhost:8080/"
        },
        "id": "_pGsEqcOywVZ",
        "outputId": "83000a0a-19ec-484d-8e1e-fea09c208d1e"
      },
      "execution_count": 56,
      "outputs": [
        {
          "output_type": "execute_result",
          "data": {
            "text/plain": [
              "True"
            ]
          },
          "metadata": {},
          "execution_count": 56
        }
      ]
    },
    {
      "cell_type": "markdown",
      "source": [
        "## element-wise"
      ],
      "metadata": {
        "id": "guGXJSIKsnul"
      }
    },
    {
      "cell_type": "markdown",
      "source": [
        "#### element-wise operation: power"
      ],
      "metadata": {
        "id": "IFNZbluatE2G"
      }
    },
    {
      "cell_type": "code",
      "source": [
        "b_vector ** 2"
      ],
      "metadata": {
        "colab": {
          "base_uri": "https://localhost:8080/"
        },
        "id": "_jMjD6OTsrNY",
        "outputId": "011e5e6c-fcf1-4b34-a8e6-63c28669c21b"
      },
      "execution_count": 10,
      "outputs": [
        {
          "output_type": "execute_result",
          "data": {
            "text/plain": [
              "array([ 1., 16., 64.])"
            ]
          },
          "metadata": {},
          "execution_count": 10
        }
      ]
    },
    {
      "cell_type": "markdown",
      "source": [
        "element-wise operation: times"
      ],
      "metadata": {
        "id": "CZd3tGR1tGUo"
      }
    },
    {
      "cell_type": "code",
      "source": [
        "a_vector * b_vector"
      ],
      "metadata": {
        "colab": {
          "base_uri": "https://localhost:8080/"
        },
        "id": "yvY37GYbs_Ha",
        "outputId": "f2e6c9c7-9a61-45c8-9c03-62678c03c607"
      },
      "execution_count": 13,
      "outputs": [
        {
          "output_type": "execute_result",
          "data": {
            "text/plain": [
              "array([ 0., 28.,  0.])"
            ]
          },
          "metadata": {},
          "execution_count": 13
        }
      ]
    },
    {
      "cell_type": "markdown",
      "source": [
        "element-wise operation: addition (adding vectors):"
      ],
      "metadata": {
        "id": "iUWQm6F_r82t"
      }
    },
    {
      "cell_type": "code",
      "source": [
        "a_vector + b_vector"
      ],
      "metadata": {
        "colab": {
          "base_uri": "https://localhost:8080/"
        },
        "id": "IDk9umWVrq6r",
        "outputId": "3d1c77f4-370d-4fea-fa2e-de48356980a8"
      },
      "execution_count": 5,
      "outputs": [
        {
          "output_type": "execute_result",
          "data": {
            "text/plain": [
              "array([ 1., 11.,  8.])"
            ]
          },
          "metadata": {},
          "execution_count": 5
        }
      ]
    },
    {
      "cell_type": "markdown",
      "source": [
        "element-wise operation: divide"
      ],
      "metadata": {
        "id": "691DASr3zWds"
      }
    },
    {
      "cell_type": "code",
      "source": [
        "a_vector / b_vector"
      ],
      "metadata": {
        "colab": {
          "base_uri": "https://localhost:8080/"
        },
        "id": "B3xE6RPizZfy",
        "outputId": "e8563ea5-86bc-441b-a2b2-4ef25ebc486d"
      },
      "execution_count": 58,
      "outputs": [
        {
          "output_type": "execute_result",
          "data": {
            "text/plain": [
              "array([ 0.  , -1.75, -0.  ])"
            ]
          },
          "metadata": {},
          "execution_count": 58
        }
      ]
    },
    {
      "cell_type": "markdown",
      "source": [
        "## Unary NumPy Operations (1 input, 1 output)"
      ],
      "metadata": {
        "id": "VoBSgCHjtWrO"
      }
    },
    {
      "cell_type": "markdown",
      "source": [
        "#### Unary NumPy Operations: Sum"
      ],
      "metadata": {
        "id": "z-jg4cpFtdP5"
      }
    },
    {
      "cell_type": "code",
      "source": [
        "np.sum(b_vector)"
      ],
      "metadata": {
        "colab": {
          "base_uri": "https://localhost:8080/"
        },
        "id": "rAU9GyVwt2rU",
        "outputId": "9dfdf908-760f-4e4a-a65f-5edad3e1f741"
      },
      "execution_count": 15,
      "outputs": [
        {
          "output_type": "execute_result",
          "data": {
            "text/plain": [
              "-11.0"
            ]
          },
          "metadata": {},
          "execution_count": 15
        }
      ]
    },
    {
      "cell_type": "markdown",
      "source": [
        "#### Unary NumPy Operations: Norm"
      ],
      "metadata": {
        "id": "NLMeW-Jptrlb"
      }
    },
    {
      "cell_type": "code",
      "source": [
        "np.linalg.norm(a_vector)"
      ],
      "metadata": {
        "colab": {
          "base_uri": "https://localhost:8080/"
        },
        "id": "EnVGzFYnt5jA",
        "outputId": "a013dbb1-a14c-4a25-82ea-502101912240"
      },
      "execution_count": 16,
      "outputs": [
        {
          "output_type": "execute_result",
          "data": {
            "text/plain": [
              "7.0"
            ]
          },
          "metadata": {},
          "execution_count": 16
        }
      ]
    },
    {
      "cell_type": "markdown",
      "source": [
        "#### Unary NumPy Operations: Prod"
      ],
      "metadata": {
        "id": "2JAFTvEytn5k"
      }
    },
    {
      "cell_type": "code",
      "source": [
        "np.prod(b_vector)"
      ],
      "metadata": {
        "colab": {
          "base_uri": "https://localhost:8080/"
        },
        "id": "TqlLJpxqt8W6",
        "outputId": "1469a2b9-8557-464e-f943-4ed1340461ca"
      },
      "execution_count": 17,
      "outputs": [
        {
          "output_type": "execute_result",
          "data": {
            "text/plain": [
              "32.0"
            ]
          },
          "metadata": {},
          "execution_count": 17
        }
      ]
    },
    {
      "cell_type": "markdown",
      "source": [
        "#### Unary NumPy Operations: Cumlative Sum"
      ],
      "metadata": {
        "id": "hD-h_V7NtpwH"
      }
    },
    {
      "cell_type": "code",
      "source": [
        "np.cumsum(b_vector)"
      ],
      "metadata": {
        "colab": {
          "base_uri": "https://localhost:8080/"
        },
        "id": "LH03t2HoteCA",
        "outputId": "80e4d6ea-561b-4be0-fa00-6949f050dae0"
      },
      "execution_count": 18,
      "outputs": [
        {
          "output_type": "execute_result",
          "data": {
            "text/plain": [
              "array([  1.,  -3., -11.])"
            ]
          },
          "metadata": {},
          "execution_count": 18
        }
      ]
    },
    {
      "cell_type": "markdown",
      "source": [
        "## Binary NumPy Operations (2 inputs, 1 output)"
      ],
      "metadata": {
        "id": "w4LfkYgNtPEw"
      }
    },
    {
      "cell_type": "markdown",
      "source": [
        "Dot-product"
      ],
      "metadata": {
        "id": "AZaUtE1-sypW"
      }
    },
    {
      "cell_type": "code",
      "source": [
        "print( np.dot( a_vector, b_vector ) )\n",
        "\n",
        "print( np.sum(a_vector * b_vector ) )  ## sum of element-wise (alt. example for dot product)"
      ],
      "metadata": {
        "colab": {
          "base_uri": "https://localhost:8080/"
        },
        "id": "YZVz2kcos0mA",
        "outputId": "74a84302-adcd-4ba9-f3d4-ca335bf496f2"
      },
      "execution_count": 12,
      "outputs": [
        {
          "output_type": "stream",
          "name": "stdout",
          "text": [
            "28.0\n"
          ]
        },
        {
          "output_type": "execute_result",
          "data": {
            "text/plain": [
              "28.0"
            ]
          },
          "metadata": {},
          "execution_count": 12
        }
      ]
    },
    {
      "cell_type": "markdown",
      "source": [
        "cross product"
      ],
      "metadata": {
        "id": "V7Bg35E1sEdE"
      }
    },
    {
      "cell_type": "code",
      "source": [
        "np.cross(a_vector, b_vector)"
      ],
      "metadata": {
        "colab": {
          "base_uri": "https://localhost:8080/"
        },
        "id": "29k8HZnksAin",
        "outputId": "0a5d360b-f68e-4560-f598-8d741d4921b6"
      },
      "execution_count": 19,
      "outputs": [
        {
          "output_type": "execute_result",
          "data": {
            "text/plain": [
              "array([-56.,   0.,  -7.])"
            ]
          },
          "metadata": {},
          "execution_count": 19
        }
      ]
    },
    {
      "cell_type": "markdown",
      "source": [
        "## \"Long\" Vectors\n",
        "\n",
        "These have the same operations as reg. 3-arrays (& matrices)"
      ],
      "metadata": {
        "id": "nmONdd3ovUdR"
      }
    },
    {
      "cell_type": "code",
      "source": [
        "a_range_of_numbers = np.arange(0., 50., 0.1)\n",
        "b_range_of_numbers = np.ones(50)"
      ],
      "metadata": {
        "id": "DmZWHt8wvYBH"
      },
      "execution_count": 26,
      "outputs": []
    },
    {
      "cell_type": "code",
      "source": [
        "np.sum( b_range_of_numbers )"
      ],
      "metadata": {
        "colab": {
          "base_uri": "https://localhost:8080/"
        },
        "id": "s4_K01Rgzspn",
        "outputId": "8789a86d-47a1-4765-f23e-2f6c17c4106b"
      },
      "execution_count": 59,
      "outputs": [
        {
          "output_type": "execute_result",
          "data": {
            "text/plain": [
              "50.0"
            ]
          },
          "metadata": {},
          "execution_count": 59
        }
      ]
    },
    {
      "cell_type": "markdown",
      "source": [
        "## Matrix Operations"
      ],
      "metadata": {
        "id": "gcOpUNMPuOjx"
      }
    },
    {
      "cell_type": "code",
      "source": [
        "A_Matrix = np.ones((10,10))\n",
        "B_Matrix = np.eye(10)\n",
        "\n",
        "print(A_Matrix)\n",
        "print(B_Matrix)"
      ],
      "metadata": {
        "colab": {
          "base_uri": "https://localhost:8080/"
        },
        "id": "u4sz1L-3uaPv",
        "outputId": "37299ab2-4480-4872-e5b9-c8eee4280d8a"
      },
      "execution_count": 28,
      "outputs": [
        {
          "output_type": "stream",
          "name": "stdout",
          "text": [
            "[[1. 1. 1. 1. 1. 1. 1. 1. 1. 1.]\n",
            " [1. 1. 1. 1. 1. 1. 1. 1. 1. 1.]\n",
            " [1. 1. 1. 1. 1. 1. 1. 1. 1. 1.]\n",
            " [1. 1. 1. 1. 1. 1. 1. 1. 1. 1.]\n",
            " [1. 1. 1. 1. 1. 1. 1. 1. 1. 1.]\n",
            " [1. 1. 1. 1. 1. 1. 1. 1. 1. 1.]\n",
            " [1. 1. 1. 1. 1. 1. 1. 1. 1. 1.]\n",
            " [1. 1. 1. 1. 1. 1. 1. 1. 1. 1.]\n",
            " [1. 1. 1. 1. 1. 1. 1. 1. 1. 1.]\n",
            " [1. 1. 1. 1. 1. 1. 1. 1. 1. 1.]]\n",
            "[[1. 0. 0. 0. 0. 0. 0. 0. 0. 0.]\n",
            " [0. 1. 0. 0. 0. 0. 0. 0. 0. 0.]\n",
            " [0. 0. 1. 0. 0. 0. 0. 0. 0. 0.]\n",
            " [0. 0. 0. 1. 0. 0. 0. 0. 0. 0.]\n",
            " [0. 0. 0. 0. 1. 0. 0. 0. 0. 0.]\n",
            " [0. 0. 0. 0. 0. 1. 0. 0. 0. 0.]\n",
            " [0. 0. 0. 0. 0. 0. 1. 0. 0. 0.]\n",
            " [0. 0. 0. 0. 0. 0. 0. 1. 0. 0.]\n",
            " [0. 0. 0. 0. 0. 0. 0. 0. 1. 0.]\n",
            " [0. 0. 0. 0. 0. 0. 0. 0. 0. 1.]]\n"
          ]
        }
      ]
    },
    {
      "cell_type": "code",
      "source": [
        "print( A_Matrix[0] )\n",
        "print( A_Matrix[0, :] ) ### : gets the whole slice\n",
        "print( A_Matrix[0, 2:6] ) ### : gets the whole slice"
      ],
      "metadata": {
        "colab": {
          "base_uri": "https://localhost:8080/"
        },
        "id": "YgxyfvwPv3Ui",
        "outputId": "f0f00ff1-d2f8-4230-c1e9-78d33db43db3"
      },
      "execution_count": 31,
      "outputs": [
        {
          "output_type": "stream",
          "name": "stdout",
          "text": [
            "[1. 1. 1. 1. 1. 1. 1. 1. 1. 1.]\n",
            "[1. 1. 1. 1. 1. 1. 1. 1. 1. 1.]\n",
            "[1. 1. 1. 1.]\n"
          ]
        }
      ]
    },
    {
      "cell_type": "code",
      "source": [
        "np.sum(A_Matrix)"
      ],
      "metadata": {
        "colab": {
          "base_uri": "https://localhost:8080/"
        },
        "id": "jkfQqZAFv-rX",
        "outputId": "8da2964a-2daa-45eb-d89d-0631995507c1"
      },
      "execution_count": 32,
      "outputs": [
        {
          "output_type": "execute_result",
          "data": {
            "text/plain": [
              "100.0"
            ]
          },
          "metadata": {},
          "execution_count": 32
        }
      ]
    },
    {
      "cell_type": "markdown",
      "source": [
        "Element-Wise Array Product"
      ],
      "metadata": {
        "id": "jjxN4TJDz5Ea"
      }
    },
    {
      "cell_type": "code",
      "source": [
        "A_Matrix * B_Matrix"
      ],
      "metadata": {
        "colab": {
          "base_uri": "https://localhost:8080/"
        },
        "id": "trhR0Rp-wKnQ",
        "outputId": "9818ea01-f30b-4720-8bac-650b05e62acc"
      },
      "execution_count": 33,
      "outputs": [
        {
          "output_type": "execute_result",
          "data": {
            "text/plain": [
              "array([[1., 0., 0., 0., 0., 0., 0., 0., 0., 0.],\n",
              "       [0., 1., 0., 0., 0., 0., 0., 0., 0., 0.],\n",
              "       [0., 0., 1., 0., 0., 0., 0., 0., 0., 0.],\n",
              "       [0., 0., 0., 1., 0., 0., 0., 0., 0., 0.],\n",
              "       [0., 0., 0., 0., 1., 0., 0., 0., 0., 0.],\n",
              "       [0., 0., 0., 0., 0., 1., 0., 0., 0., 0.],\n",
              "       [0., 0., 0., 0., 0., 0., 1., 0., 0., 0.],\n",
              "       [0., 0., 0., 0., 0., 0., 0., 1., 0., 0.],\n",
              "       [0., 0., 0., 0., 0., 0., 0., 0., 1., 0.],\n",
              "       [0., 0., 0., 0., 0., 0., 0., 0., 0., 1.]])"
            ]
          },
          "metadata": {},
          "execution_count": 33
        }
      ]
    },
    {
      "cell_type": "markdown",
      "source": [
        "Matrix Product "
      ],
      "metadata": {
        "id": "ETGivyYOz275"
      }
    },
    {
      "cell_type": "code",
      "source": [
        "A_Matrix @ B_Matrix"
      ],
      "metadata": {
        "colab": {
          "base_uri": "https://localhost:8080/"
        },
        "id": "3lJiDAGswPIV",
        "outputId": "d951dbf2-6227-4a76-8089-9882c6d2e1d6"
      },
      "execution_count": 34,
      "outputs": [
        {
          "output_type": "execute_result",
          "data": {
            "text/plain": [
              "array([[1., 1., 1., 1., 1., 1., 1., 1., 1., 1.],\n",
              "       [1., 1., 1., 1., 1., 1., 1., 1., 1., 1.],\n",
              "       [1., 1., 1., 1., 1., 1., 1., 1., 1., 1.],\n",
              "       [1., 1., 1., 1., 1., 1., 1., 1., 1., 1.],\n",
              "       [1., 1., 1., 1., 1., 1., 1., 1., 1., 1.],\n",
              "       [1., 1., 1., 1., 1., 1., 1., 1., 1., 1.],\n",
              "       [1., 1., 1., 1., 1., 1., 1., 1., 1., 1.],\n",
              "       [1., 1., 1., 1., 1., 1., 1., 1., 1., 1.],\n",
              "       [1., 1., 1., 1., 1., 1., 1., 1., 1., 1.],\n",
              "       [1., 1., 1., 1., 1., 1., 1., 1., 1., 1.]])"
            ]
          },
          "metadata": {},
          "execution_count": 34
        }
      ]
    },
    {
      "cell_type": "code",
      "source": [
        ""
      ],
      "metadata": {
        "id": "5WUPl13WwSd-"
      },
      "execution_count": null,
      "outputs": []
    }
  ]
}