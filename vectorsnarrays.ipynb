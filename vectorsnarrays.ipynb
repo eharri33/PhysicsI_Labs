{
  "nbformat": 4,
  "nbformat_minor": 0,
  "metadata": {
    "colab": {
      "name": "vectorsnarrays.ipynb",
      "provenance": [],
      "include_colab_link": true
    },
    "kernelspec": {
      "name": "python3",
      "display_name": "Python 3"
    },
    "language_info": {
      "name": "python"
    }
  },
  "cells": [
    {
      "cell_type": "markdown",
      "metadata": {
        "id": "view-in-github",
        "colab_type": "text"
      },
      "source": [
        "<a href=\"https://colab.research.google.com/github/jcandane/PhysicsI_Labs/blob/main/vectorsnarrays.ipynb\" target=\"_parent\"><img src=\"https://colab.research.google.com/assets/colab-badge.svg\" alt=\"Open In Colab\"/></a>"
      ]
    },
    {
      "cell_type": "markdown",
      "source": [
        "# Vectors"
      ],
      "metadata": {
        "id": "inpj6EYurI5i"
      }
    },
    {
      "cell_type": "markdown",
      "source": [
        "Import numpy,"
      ],
      "metadata": {
        "id": "UaIRvGACrvuR"
      }
    },
    {
      "cell_type": "code",
      "source": [
        "import numpy as np\n",
        "from numpy.linalg import norm"
      ],
      "metadata": {
        "id": "c1y0rA4krtt8"
      },
      "execution_count": 1,
      "outputs": []
    },
    {
      "cell_type": "markdown",
      "source": [
        "for us vectors are represented by arrays, defined as such:"
      ],
      "metadata": {
        "id": "ybt40FdQrjb9"
      }
    },
    {
      "cell_type": "code",
      "execution_count": 2,
      "metadata": {
        "id": "H8hZt0AirHBa"
      },
      "outputs": [],
      "source": [
        "a_vector = np.array([0.,7.,0.])\n",
        "b_vector = np.array([1.,-4.,-8.])\n",
        "\n",
        "u = np.random.rand(3)\n",
        "v = np.random.rand(3)\n",
        "w = np.random.rand(3)"
      ]
    },
    {
      "cell_type": "markdown",
      "source": [
        "## Vector Space Operations/Axioms\n",
        "(from: https://en.wikipedia.org/wiki/Vector_space)"
      ],
      "metadata": {
        "id": "lZg6qybauRG7"
      }
    },
    {
      "cell_type": "markdown",
      "source": [
        "$u + (v + w) = (u + v) + w$"
      ],
      "metadata": {
        "id": "hwo-U108woIT"
      }
    },
    {
      "cell_type": "code",
      "source": [
        "u + (v + w) == (u + v) + w"
      ],
      "metadata": {
        "colab": {
          "base_uri": "https://localhost:8080/"
        },
        "id": "3QawmWlFxSrt",
        "outputId": "353941e5-656e-4a71-869a-8bd1484ff580"
      },
      "execution_count": 3,
      "outputs": [
        {
          "output_type": "execute_result",
          "data": {
            "text/plain": [
              "array([False,  True,  True])"
            ]
          },
          "metadata": {},
          "execution_count": 3
        }
      ]
    },
    {
      "cell_type": "markdown",
      "source": [
        "$u + v = v + u$"
      ],
      "metadata": {
        "id": "VheZ0ZlpwqSC"
      }
    },
    {
      "cell_type": "code",
      "source": [
        "u + v == v + u "
      ],
      "metadata": {
        "colab": {
          "base_uri": "https://localhost:8080/"
        },
        "id": "HhDE3tWQxZyE",
        "outputId": "17fa197c-e072-4c61-cc6d-44feb6f0d3b9"
      },
      "execution_count": 4,
      "outputs": [
        {
          "output_type": "execute_result",
          "data": {
            "text/plain": [
              "array([ True,  True,  True])"
            ]
          },
          "metadata": {},
          "execution_count": 4
        }
      ]
    },
    {
      "cell_type": "markdown",
      "source": [
        "There exists an element $0 \\in V$, called the zero vector, such that $v + 0 = v$ for all $v \\in V$. "
      ],
      "metadata": {
        "id": "K3Vx1zrEwvp3"
      }
    },
    {
      "cell_type": "code",
      "source": [
        "Ø = np.zeros(3)\n",
        "v + Ø == v "
      ],
      "metadata": {
        "colab": {
          "base_uri": "https://localhost:8080/"
        },
        "id": "rY1Bkb6OxerL",
        "outputId": "d22d1d81-ae39-4a87-f422-76b0b8d9b692"
      },
      "execution_count": 5,
      "outputs": [
        {
          "output_type": "execute_result",
          "data": {
            "text/plain": [
              "array([ True,  True,  True])"
            ]
          },
          "metadata": {},
          "execution_count": 5
        }
      ]
    },
    {
      "cell_type": "markdown",
      "source": [
        "For every $\\mathbf{v} \\in V$, there exists an element $−\\mathbf{v} \\in V$, called the additive inverse of $\\mathbf{v}$, such that $\\mathbf{v} + (−\\mathbf{v}) = 0$. "
      ],
      "metadata": {
        "id": "GSSaAA1Sw6Xk"
      }
    },
    {
      "cell_type": "code",
      "source": [
        "v + -v == Ø"
      ],
      "metadata": {
        "colab": {
          "base_uri": "https://localhost:8080/"
        },
        "id": "mnQs0iMnxnUR",
        "outputId": "f8188b6a-8dbb-4b4d-cc2f-8e2e587bc8ae"
      },
      "execution_count": 6,
      "outputs": [
        {
          "output_type": "execute_result",
          "data": {
            "text/plain": [
              "array([ True,  True,  True])"
            ]
          },
          "metadata": {},
          "execution_count": 6
        }
      ]
    },
    {
      "cell_type": "markdown",
      "source": [
        "$a(b\\mathbf{v}) = (ab)\\mathbf{v}$"
      ],
      "metadata": {
        "id": "9bP3sMx-xpTJ"
      }
    },
    {
      "cell_type": "code",
      "source": [
        "a = 5.\n",
        "b = 2.\n",
        "\n",
        "a * (b * v) == (a*b) * v"
      ],
      "metadata": {
        "colab": {
          "base_uri": "https://localhost:8080/"
        },
        "id": "80PKtxWryK43",
        "outputId": "22ff5d5e-3d0a-4dd1-c18d-4bb4198809af"
      },
      "execution_count": 7,
      "outputs": [
        {
          "output_type": "execute_result",
          "data": {
            "text/plain": [
              "array([ True,  True,  True])"
            ]
          },
          "metadata": {},
          "execution_count": 7
        }
      ]
    },
    {
      "cell_type": "markdown",
      "source": [
        "$1v = v$, where 1 denotes the multiplicative identity. "
      ],
      "metadata": {
        "id": "r5ziMEVkxpa-"
      }
    },
    {
      "cell_type": "code",
      "source": [
        "I = np.ones(3)\n",
        "\n",
        "I * v == v"
      ],
      "metadata": {
        "colab": {
          "base_uri": "https://localhost:8080/"
        },
        "id": "dG6OKGRCygZL",
        "outputId": "c93e645a-7ae2-4357-8287-d49deb0a945b"
      },
      "execution_count": 8,
      "outputs": [
        {
          "output_type": "execute_result",
          "data": {
            "text/plain": [
              "array([ True,  True,  True])"
            ]
          },
          "metadata": {},
          "execution_count": 8
        }
      ]
    },
    {
      "cell_type": "markdown",
      "source": [
        "$a(\\mathbf{u} + \\mathbf{v}) = a\\mathbf{u} + a\\mathbf{v} $"
      ],
      "metadata": {
        "id": "iA6X_cruxpjk"
      }
    },
    {
      "cell_type": "code",
      "source": [
        "np.allclose( a * ( u + v ), a* u + a * v )"
      ],
      "metadata": {
        "colab": {
          "base_uri": "https://localhost:8080/"
        },
        "id": "7fz7hSzoyv-X",
        "outputId": "0fae5ec2-2c56-466b-98e8-3e1b6198448d"
      },
      "execution_count": 9,
      "outputs": [
        {
          "output_type": "execute_result",
          "data": {
            "text/plain": [
              "True"
            ]
          },
          "metadata": {},
          "execution_count": 9
        }
      ]
    },
    {
      "cell_type": "markdown",
      "source": [
        "$ (a + b)\\mathbf{v} = a\\mathbf{v} + b\\mathbf{v} $"
      ],
      "metadata": {
        "id": "y-Kc3tSOx7o4"
      }
    },
    {
      "cell_type": "code",
      "source": [
        "np.allclose( (a+b) * v , a*v + b*v )"
      ],
      "metadata": {
        "colab": {
          "base_uri": "https://localhost:8080/"
        },
        "id": "_pGsEqcOywVZ",
        "outputId": "d03ce0a3-ba64-43b7-a70e-b27738918b5a"
      },
      "execution_count": 10,
      "outputs": [
        {
          "output_type": "execute_result",
          "data": {
            "text/plain": [
              "True"
            ]
          },
          "metadata": {},
          "execution_count": 10
        }
      ]
    },
    {
      "cell_type": "markdown",
      "source": [
        "## element-wise"
      ],
      "metadata": {
        "id": "guGXJSIKsnul"
      }
    },
    {
      "cell_type": "markdown",
      "source": [
        "#### element-wise operation: power"
      ],
      "metadata": {
        "id": "IFNZbluatE2G"
      }
    },
    {
      "cell_type": "code",
      "source": [
        "b_vector ** 2"
      ],
      "metadata": {
        "colab": {
          "base_uri": "https://localhost:8080/"
        },
        "id": "_jMjD6OTsrNY",
        "outputId": "b33ae05a-2fdd-4bff-817e-48a1f6f77909"
      },
      "execution_count": 11,
      "outputs": [
        {
          "output_type": "execute_result",
          "data": {
            "text/plain": [
              "array([ 1., 16., 64.])"
            ]
          },
          "metadata": {},
          "execution_count": 11
        }
      ]
    },
    {
      "cell_type": "markdown",
      "source": [
        "element-wise operation: times"
      ],
      "metadata": {
        "id": "CZd3tGR1tGUo"
      }
    },
    {
      "cell_type": "code",
      "source": [
        "a_vector * b_vector"
      ],
      "metadata": {
        "colab": {
          "base_uri": "https://localhost:8080/"
        },
        "id": "yvY37GYbs_Ha",
        "outputId": "1277b425-a7f9-432f-88eb-318c71262aa3"
      },
      "execution_count": 12,
      "outputs": [
        {
          "output_type": "execute_result",
          "data": {
            "text/plain": [
              "array([  0., -28.,  -0.])"
            ]
          },
          "metadata": {},
          "execution_count": 12
        }
      ]
    },
    {
      "cell_type": "markdown",
      "source": [
        "element-wise operation: addition (adding vectors):"
      ],
      "metadata": {
        "id": "iUWQm6F_r82t"
      }
    },
    {
      "cell_type": "code",
      "source": [
        "a_vector + b_vector"
      ],
      "metadata": {
        "colab": {
          "base_uri": "https://localhost:8080/"
        },
        "id": "IDk9umWVrq6r",
        "outputId": "b6d89560-aa0d-4514-a964-af13fce7c06c"
      },
      "execution_count": 13,
      "outputs": [
        {
          "output_type": "execute_result",
          "data": {
            "text/plain": [
              "array([ 1.,  3., -8.])"
            ]
          },
          "metadata": {},
          "execution_count": 13
        }
      ]
    },
    {
      "cell_type": "markdown",
      "source": [
        "element-wise operation: divide"
      ],
      "metadata": {
        "id": "691DASr3zWds"
      }
    },
    {
      "cell_type": "code",
      "source": [
        "a_vector / b_vector"
      ],
      "metadata": {
        "colab": {
          "base_uri": "https://localhost:8080/"
        },
        "id": "B3xE6RPizZfy",
        "outputId": "67c75da6-e5b1-4749-f3c0-afbd72c3fc20"
      },
      "execution_count": 14,
      "outputs": [
        {
          "output_type": "execute_result",
          "data": {
            "text/plain": [
              "array([ 0.  , -1.75, -0.  ])"
            ]
          },
          "metadata": {},
          "execution_count": 14
        }
      ]
    },
    {
      "cell_type": "markdown",
      "source": [
        "## Unary NumPy Operations (1 input, 1 output)"
      ],
      "metadata": {
        "id": "VoBSgCHjtWrO"
      }
    },
    {
      "cell_type": "markdown",
      "source": [
        "#### Unary NumPy Operations: Sum"
      ],
      "metadata": {
        "id": "z-jg4cpFtdP5"
      }
    },
    {
      "cell_type": "code",
      "source": [
        "np.sum(b_vector)"
      ],
      "metadata": {
        "colab": {
          "base_uri": "https://localhost:8080/"
        },
        "id": "rAU9GyVwt2rU",
        "outputId": "54c4d126-3515-48bf-ec2d-cd891e324e3e"
      },
      "execution_count": 15,
      "outputs": [
        {
          "output_type": "execute_result",
          "data": {
            "text/plain": [
              "-11.0"
            ]
          },
          "metadata": {},
          "execution_count": 15
        }
      ]
    },
    {
      "cell_type": "markdown",
      "source": [
        "#### Unary NumPy Operations: Norm"
      ],
      "metadata": {
        "id": "NLMeW-Jptrlb"
      }
    },
    {
      "cell_type": "code",
      "source": [
        "np.linalg.norm(a_vector)\n",
        "norm(a_vector)"
      ],
      "metadata": {
        "colab": {
          "base_uri": "https://localhost:8080/"
        },
        "id": "EnVGzFYnt5jA",
        "outputId": "74cb87e9-8243-4eb4-c8d1-9ced5796c1dd"
      },
      "execution_count": 28,
      "outputs": [
        {
          "output_type": "execute_result",
          "data": {
            "text/plain": [
              "7.0"
            ]
          },
          "metadata": {},
          "execution_count": 28
        }
      ]
    },
    {
      "cell_type": "markdown",
      "source": [
        "#### Unary NumPy Operations: Prod"
      ],
      "metadata": {
        "id": "2JAFTvEytn5k"
      }
    },
    {
      "cell_type": "code",
      "source": [
        "np.prod(b_vector)"
      ],
      "metadata": {
        "colab": {
          "base_uri": "https://localhost:8080/"
        },
        "id": "TqlLJpxqt8W6",
        "outputId": "69a3bc58-035a-4ddf-b6cd-26436386b15e"
      },
      "execution_count": 17,
      "outputs": [
        {
          "output_type": "execute_result",
          "data": {
            "text/plain": [
              "32.0"
            ]
          },
          "metadata": {},
          "execution_count": 17
        }
      ]
    },
    {
      "cell_type": "markdown",
      "source": [
        "#### Unary NumPy Operations: Cumlative Sum"
      ],
      "metadata": {
        "id": "hD-h_V7NtpwH"
      }
    },
    {
      "cell_type": "code",
      "source": [
        "np.cumsum(b_vector)"
      ],
      "metadata": {
        "colab": {
          "base_uri": "https://localhost:8080/"
        },
        "id": "LH03t2HoteCA",
        "outputId": "b91fa4bc-819d-4091-aab5-acd8e2358428"
      },
      "execution_count": 18,
      "outputs": [
        {
          "output_type": "execute_result",
          "data": {
            "text/plain": [
              "array([  1.,  -3., -11.])"
            ]
          },
          "metadata": {},
          "execution_count": 18
        }
      ]
    },
    {
      "cell_type": "markdown",
      "source": [
        "## Binary NumPy Operations (2 inputs, 1 output)"
      ],
      "metadata": {
        "id": "w4LfkYgNtPEw"
      }
    },
    {
      "cell_type": "markdown",
      "source": [
        "Dot-product"
      ],
      "metadata": {
        "id": "AZaUtE1-sypW"
      }
    },
    {
      "cell_type": "code",
      "source": [
        "print( np.dot( a_vector, b_vector ) )\n",
        "\n",
        "print( np.sum(a_vector * b_vector ) )  ## sum of element-wise (alt. example for dot product)"
      ],
      "metadata": {
        "colab": {
          "base_uri": "https://localhost:8080/"
        },
        "id": "YZVz2kcos0mA",
        "outputId": "dc3912e4-31b9-4f94-aec0-23bac49e9562"
      },
      "execution_count": 19,
      "outputs": [
        {
          "output_type": "stream",
          "name": "stdout",
          "text": [
            "-28.0\n",
            "-28.0\n"
          ]
        }
      ]
    },
    {
      "cell_type": "markdown",
      "source": [
        "cross product"
      ],
      "metadata": {
        "id": "V7Bg35E1sEdE"
      }
    },
    {
      "cell_type": "code",
      "source": [
        "np.cross(a_vector, b_vector)"
      ],
      "metadata": {
        "colab": {
          "base_uri": "https://localhost:8080/"
        },
        "id": "29k8HZnksAin",
        "outputId": "edbee331-9366-4ad6-b504-4e6ddc4e4823"
      },
      "execution_count": 20,
      "outputs": [
        {
          "output_type": "execute_result",
          "data": {
            "text/plain": [
              "array([-56.,   0.,  -7.])"
            ]
          },
          "metadata": {},
          "execution_count": 20
        }
      ]
    },
    {
      "cell_type": "markdown",
      "source": [
        "## \"Long\" Vectors\n",
        "\n",
        "These have the same operations as reg. 3-arrays (& matrices)"
      ],
      "metadata": {
        "id": "nmONdd3ovUdR"
      }
    },
    {
      "cell_type": "code",
      "source": [
        "a_range_of_numbers = np.arange(0., 50., 0.1)\n",
        "b_range_of_numbers = np.ones(50)"
      ],
      "metadata": {
        "id": "DmZWHt8wvYBH"
      },
      "execution_count": 21,
      "outputs": []
    },
    {
      "cell_type": "code",
      "source": [
        "np.sum( b_range_of_numbers )"
      ],
      "metadata": {
        "colab": {
          "base_uri": "https://localhost:8080/"
        },
        "id": "s4_K01Rgzspn",
        "outputId": "e52f736e-4d81-4050-85c5-6e5f519e92eb"
      },
      "execution_count": 22,
      "outputs": [
        {
          "output_type": "execute_result",
          "data": {
            "text/plain": [
              "50.0"
            ]
          },
          "metadata": {},
          "execution_count": 22
        }
      ]
    },
    {
      "cell_type": "markdown",
      "source": [
        "## Matrix Operations"
      ],
      "metadata": {
        "id": "gcOpUNMPuOjx"
      }
    },
    {
      "cell_type": "code",
      "source": [
        "A_Matrix = np.ones((10,10))\n",
        "B_Matrix = np.eye(10)\n",
        "\n",
        "print(A_Matrix)\n",
        "print(B_Matrix)"
      ],
      "metadata": {
        "colab": {
          "base_uri": "https://localhost:8080/"
        },
        "id": "u4sz1L-3uaPv",
        "outputId": "a1b97ad2-9298-4b8f-a8e8-5af094d81db3"
      },
      "execution_count": 23,
      "outputs": [
        {
          "output_type": "stream",
          "name": "stdout",
          "text": [
            "[[1. 1. 1. 1. 1. 1. 1. 1. 1. 1.]\n",
            " [1. 1. 1. 1. 1. 1. 1. 1. 1. 1.]\n",
            " [1. 1. 1. 1. 1. 1. 1. 1. 1. 1.]\n",
            " [1. 1. 1. 1. 1. 1. 1. 1. 1. 1.]\n",
            " [1. 1. 1. 1. 1. 1. 1. 1. 1. 1.]\n",
            " [1. 1. 1. 1. 1. 1. 1. 1. 1. 1.]\n",
            " [1. 1. 1. 1. 1. 1. 1. 1. 1. 1.]\n",
            " [1. 1. 1. 1. 1. 1. 1. 1. 1. 1.]\n",
            " [1. 1. 1. 1. 1. 1. 1. 1. 1. 1.]\n",
            " [1. 1. 1. 1. 1. 1. 1. 1. 1. 1.]]\n",
            "[[1. 0. 0. 0. 0. 0. 0. 0. 0. 0.]\n",
            " [0. 1. 0. 0. 0. 0. 0. 0. 0. 0.]\n",
            " [0. 0. 1. 0. 0. 0. 0. 0. 0. 0.]\n",
            " [0. 0. 0. 1. 0. 0. 0. 0. 0. 0.]\n",
            " [0. 0. 0. 0. 1. 0. 0. 0. 0. 0.]\n",
            " [0. 0. 0. 0. 0. 1. 0. 0. 0. 0.]\n",
            " [0. 0. 0. 0. 0. 0. 1. 0. 0. 0.]\n",
            " [0. 0. 0. 0. 0. 0. 0. 1. 0. 0.]\n",
            " [0. 0. 0. 0. 0. 0. 0. 0. 1. 0.]\n",
            " [0. 0. 0. 0. 0. 0. 0. 0. 0. 1.]]\n"
          ]
        }
      ]
    },
    {
      "cell_type": "code",
      "source": [
        "print( A_Matrix[0] )\n",
        "print( A_Matrix[0, :] ) ### : gets the whole slice\n",
        "print( A_Matrix[0, 2:6] ) ### : gets the whole slice"
      ],
      "metadata": {
        "colab": {
          "base_uri": "https://localhost:8080/"
        },
        "id": "YgxyfvwPv3Ui",
        "outputId": "e604fb2b-8ae3-4129-ae1f-319ee38ab557"
      },
      "execution_count": 24,
      "outputs": [
        {
          "output_type": "stream",
          "name": "stdout",
          "text": [
            "[1. 1. 1. 1. 1. 1. 1. 1. 1. 1.]\n",
            "[1. 1. 1. 1. 1. 1. 1. 1. 1. 1.]\n",
            "[1. 1. 1. 1.]\n"
          ]
        }
      ]
    },
    {
      "cell_type": "code",
      "source": [
        "np.sum(A_Matrix)"
      ],
      "metadata": {
        "colab": {
          "base_uri": "https://localhost:8080/"
        },
        "id": "jkfQqZAFv-rX",
        "outputId": "66ca13a7-d941-40b3-fd1e-5a6ec42e1d03"
      },
      "execution_count": 25,
      "outputs": [
        {
          "output_type": "execute_result",
          "data": {
            "text/plain": [
              "100.0"
            ]
          },
          "metadata": {},
          "execution_count": 25
        }
      ]
    },
    {
      "cell_type": "markdown",
      "source": [
        "Element-Wise Array Product"
      ],
      "metadata": {
        "id": "jjxN4TJDz5Ea"
      }
    },
    {
      "cell_type": "code",
      "source": [
        "A_Matrix * B_Matrix"
      ],
      "metadata": {
        "colab": {
          "base_uri": "https://localhost:8080/"
        },
        "id": "trhR0Rp-wKnQ",
        "outputId": "c10ba8ae-7907-417d-f7cc-eaf53695e17d"
      },
      "execution_count": 26,
      "outputs": [
        {
          "output_type": "execute_result",
          "data": {
            "text/plain": [
              "array([[1., 0., 0., 0., 0., 0., 0., 0., 0., 0.],\n",
              "       [0., 1., 0., 0., 0., 0., 0., 0., 0., 0.],\n",
              "       [0., 0., 1., 0., 0., 0., 0., 0., 0., 0.],\n",
              "       [0., 0., 0., 1., 0., 0., 0., 0., 0., 0.],\n",
              "       [0., 0., 0., 0., 1., 0., 0., 0., 0., 0.],\n",
              "       [0., 0., 0., 0., 0., 1., 0., 0., 0., 0.],\n",
              "       [0., 0., 0., 0., 0., 0., 1., 0., 0., 0.],\n",
              "       [0., 0., 0., 0., 0., 0., 0., 1., 0., 0.],\n",
              "       [0., 0., 0., 0., 0., 0., 0., 0., 1., 0.],\n",
              "       [0., 0., 0., 0., 0., 0., 0., 0., 0., 1.]])"
            ]
          },
          "metadata": {},
          "execution_count": 26
        }
      ]
    },
    {
      "cell_type": "markdown",
      "source": [
        "Matrix Product "
      ],
      "metadata": {
        "id": "ETGivyYOz275"
      }
    },
    {
      "cell_type": "code",
      "source": [
        "A_Matrix @ B_Matrix"
      ],
      "metadata": {
        "colab": {
          "base_uri": "https://localhost:8080/"
        },
        "id": "3lJiDAGswPIV",
        "outputId": "d4084ebd-eabd-4ab7-9c5e-6523743a3b5d"
      },
      "execution_count": 27,
      "outputs": [
        {
          "output_type": "execute_result",
          "data": {
            "text/plain": [
              "array([[1., 1., 1., 1., 1., 1., 1., 1., 1., 1.],\n",
              "       [1., 1., 1., 1., 1., 1., 1., 1., 1., 1.],\n",
              "       [1., 1., 1., 1., 1., 1., 1., 1., 1., 1.],\n",
              "       [1., 1., 1., 1., 1., 1., 1., 1., 1., 1.],\n",
              "       [1., 1., 1., 1., 1., 1., 1., 1., 1., 1.],\n",
              "       [1., 1., 1., 1., 1., 1., 1., 1., 1., 1.],\n",
              "       [1., 1., 1., 1., 1., 1., 1., 1., 1., 1.],\n",
              "       [1., 1., 1., 1., 1., 1., 1., 1., 1., 1.],\n",
              "       [1., 1., 1., 1., 1., 1., 1., 1., 1., 1.],\n",
              "       [1., 1., 1., 1., 1., 1., 1., 1., 1., 1.]])"
            ]
          },
          "metadata": {},
          "execution_count": 27
        }
      ]
    },
    {
      "cell_type": "code",
      "source": [
        ""
      ],
      "metadata": {
        "id": "5WUPl13WwSd-"
      },
      "execution_count": 27,
      "outputs": []
    }
  ]
}