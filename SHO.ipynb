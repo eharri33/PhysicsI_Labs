{
  "nbformat": 4,
  "nbformat_minor": 0,
  "metadata": {
    "colab": {
      "name": "SHO.ipynb",
      "provenance": [],
      "collapsed_sections": [],
      "authorship_tag": "ABX9TyODsd5PJK3cCiYCiSme5Q6h",
      "include_colab_link": true
    },
    "kernelspec": {
      "name": "python3",
      "display_name": "Python 3"
    },
    "language_info": {
      "name": "python"
    }
  },
  "cells": [
    {
      "cell_type": "markdown",
      "metadata": {
        "id": "view-in-github",
        "colab_type": "text"
      },
      "source": [
        "<a href=\"https://colab.research.google.com/github/jcandane/PhysicsI_Labs/blob/main/SHO.ipynb\" target=\"_parent\"><img src=\"https://colab.research.google.com/assets/colab-badge.svg\" alt=\"Open In Colab\"/></a>"
      ]
    },
    {
      "cell_type": "markdown",
      "source": [
        "Title-of-Work\n",
        "\n",
        "Your Name\n",
        "\n",
        "Date"
      ],
      "metadata": {
        "id": "l6iIvPZLUkbb"
      }
    },
    {
      "cell_type": "markdown",
      "source": [
        "#  <font color='Red'> **Import Necessary Modules** </font>"
      ],
      "metadata": {
        "id": "dDA0txt_KhEq"
      }
    },
    {
      "cell_type": "code",
      "source": [
        "import numpy as np\n",
        "import matplotlib.pyplot as plt\n",
        "\n",
        "π = np.pi"
      ],
      "metadata": {
        "id": "Ac_qX-LwUh9U"
      },
      "execution_count": 1,
      "outputs": []
    },
    {
      "cell_type": "markdown",
      "source": [
        "###  <font color='Red'> Before we start lets define the times in which all our experiments will take place. </font>\n",
        "\n",
        "###  <font color='Red'> Define a time-increment (Δt), initial (t0), and a final (tf) time for your experiment. And with it a time_array. </font>"
      ],
      "metadata": {
        "id": "hC1oex657K7o"
      }
    },
    {
      "cell_type": "code",
      "source": [
        "Δt = 0.1 ### s(detector)\n",
        "t0 = 0 \n",
        "tf = 100\n",
        "\n",
        "timeline = np.arange(t0, tf, Δt)\n",
        "T = len(timeline)"
      ],
      "metadata": {
        "id": "B2jcaI6FUm-N"
      },
      "execution_count": 24,
      "outputs": []
    },
    {
      "cell_type": "markdown",
      "source": [
        "#   <font color='Red'> **Experiment I: Gravity Free-Fall** </font>"
      ],
      "metadata": {
        "id": "Lt9H8Xp6Ku1o"
      }
    },
    {
      "cell_type": "markdown",
      "source": [
        "##   <font color='Red'> To begin lets start with by defining an initial position, initial velocity, and mass. </font>"
      ],
      "metadata": {
        "id": "tCM04tvtWYFf"
      }
    },
    {
      "cell_type": "code",
      "source": [
        "Δt = 0.001 ### s(detector)\n",
        "t0 = 0 \n",
        "tf = 100\n",
        "\n",
        "timeline = np.arange(t0, tf, Δt)\n",
        "T = len(timeline)\n",
        "\n",
        "x_0  = np.array([0.33, 0., 0.]) ## m\n",
        "v_0  = np.array([0., 0., 0.]) ## m/s\n",
        "mass = 10  ## kg"
      ],
      "metadata": {
        "id": "Tiap5DaYUqq_"
      },
      "execution_count": 57,
      "outputs": []
    },
    {
      "cell_type": "markdown",
      "source": [
        "##   <font color='Red'> Define a for-loop to Velocity-Verlet integrate the motion to obtain a x_t, v_t, and a_t. </font>"
      ],
      "metadata": {
        "id": "Pnn_hwlS7TYG"
      }
    },
    {
      "cell_type": "code",
      "source": [
        "x_t = np.zeros((len(timeline), 3))\n",
        "v_t = np.zeros((len(timeline), 3))\n",
        "a_t = np.zeros((len(timeline), 3))\n",
        "\n",
        "k = 0.25 ### \n",
        "\n",
        "x_eq = np.array([0.25, 0., 0.])  ## m\n",
        "\n",
        "x_t[0] = x_0\n",
        "v_t[0] = v_0\n",
        "a_t[0] = -k * (x_t[0] - x_eq ) / mass\n",
        "for t in range(1,len(timeline)):\n",
        "  x_t[t] = x_t[t-1] + v_t[t-1] * Δt + 0.5 * a_t[t-1] * Δt*Δt\n",
        "  a_t[t] = -k * (x_t[t-1] - x_eq ) / mass\n",
        "  v_t[t] = v_t[t-1] + 0.5 * ( a_t[t-1] + a_t[t] ) * Δt"
      ],
      "metadata": {
        "id": "uc2izrOlWjwJ"
      },
      "execution_count": 62,
      "outputs": []
    },
    {
      "cell_type": "markdown",
      "source": [
        "###   <font color='Red'> Take a time-derivative of x_t to obtain dxdt_t. </font>\n",
        "\n",
        "###   <font color='Red'> Take a time-derivative of v_t to obtain dvdt_t. </font>"
      ],
      "metadata": {
        "id": "NcD7ypM393ui"
      }
    },
    {
      "cell_type": "code",
      "source": [
        "dxdt_t = np.gradient(x_t, axis=0)/Δt\n",
        "dvdt_t = np.gradient(v_t, axis=0)/Δt"
      ],
      "metadata": {
        "id": "pp9caFz9935y"
      },
      "execution_count": 50,
      "outputs": []
    },
    {
      "cell_type": "markdown",
      "source": [
        "###   <font color='Red'> Make 3 plots of with: x_t, \\{v_t, dxdt_t\\}, and \\{ a_t, dv/dt_t f_t/mass\\} in matplotlib, all as a function of time. Make sure to include all LABELS!. </font>"
      ],
      "metadata": {
        "id": "DpI40ed-7Sn-"
      }
    },
    {
      "cell_type": "code",
      "source": [
        "fig, (ax1, ax2, ax3) = plt.subplots(1, 3)\n",
        "fig.suptitle('Experiment I')\n",
        "fig.subplots_adjust(hspace=0.01, wspace=0.25, right=2)\n",
        "\n",
        "ax1.scatter(timeline, x_t[:,0])\n",
        "ax1.set_title(\"Position\")\n",
        "ax1.set(xlabel='time (s)', ylabel='Position (m)')\n",
        "\n",
        "ax2.scatter(timeline, v_t[:,0])\n",
        "ax2.set_title(\"Velocity\")\n",
        "ax2.set(xlabel='time (s)', ylabel='Velocity (m/s)')\n",
        "\n",
        "ax3.scatter(timeline, a_t[:,0], label=\"Acceleration\")\n",
        "ax3.legend(loc=\"upper right\")\n",
        "ax3.set_title(\"Acceleration\")\n",
        "ax3.set(xlabel='time (s)', ylabel='Acceleration (m/s/s)')\n",
        "\n",
        "fig.show()"
      ],
      "metadata": {
        "colab": {
          "base_uri": "https://localhost:8080/",
          "height": 308
        },
        "id": "8AehYoqXW9-T",
        "outputId": "4be2d20c-029c-493e-d9af-b171a82ef98d"
      },
      "execution_count": 63,
      "outputs": [
        {
          "output_type": "display_data",
          "data": {
            "text/plain": [
              "<Figure size 432x288 with 3 Axes>"
            ],
            "image/png": "[encoded data removed]"
          },
          "metadata": {
            "needs_background": "light"
          }
        }
      ]
    },
    {
      "cell_type": "markdown",
      "source": [
        "#   <font color='Red'> **Experiment II: 2-body** </font>\n",
        "\n",
        "###  <font color='Red'> To begin lets start with by defining an initial position & velocity, and mass. </font>"
      ],
      "metadata": {
        "id": "bqaP8opzZRCN"
      }
    },
    {
      "cell_type": "code",
      "source": [
        "Δt = 0.001 ### s(detector)\n",
        "tf = 100\n",
        "timeline = np.arange(0, tf, Δt)\n",
        "\n",
        "R_ix  = np.array([[1., 0., 0.],[2., 0., 0.]])\n",
        "R_tix = np.zeros( (len(timeline), R_ix.shape[0], R_ix.shape[1] ) )\n",
        "\n",
        "x_0  = np.array([1., 0., 0.]) ## m\n",
        "v_0  = np.array([5., 0., 0.]) ## m/s\n",
        "mass = 5 ## kg \n",
        "\n",
        "R_tix.shape"
      ],
      "metadata": {
        "id": "O20O-sDKZPqc",
        "colab": {
          "base_uri": "https://localhost:8080/"
        },
        "outputId": "4cb32ed7-d9e0-4fd3-9221-dfd58ca163ad"
      },
      "execution_count": 134,
      "outputs": [
        {
          "output_type": "execute_result",
          "data": {
            "text/plain": [
              "(100000, 2, 3)"
            ]
          },
          "metadata": {},
          "execution_count": 134
        }
      ]
    },
    {
      "cell_type": "code",
      "source": [
        "k    = 0.1 ### \n",
        "m_i  = np.array([2., 4.])\n",
        "R_ix = np.array([[1., 0., 0.],[2., 0., 0.]])\n",
        "v_ix = np.zeros((2,3))\n",
        "x_eq = np.array([0.6, 0., 0.])  ## m\n",
        "\n",
        "a_ix  = 0\n",
        "R_tix = np.zeros( (len(timeline), R_ix.shape[0], R_ix.shape[1] ) )\n",
        "for t in range(len(timeline)):\n",
        "    R_ix  += v_ix * Δt + 0.5 * a_ix * Δt*Δt\n",
        "    R_ijx  = R_ix[None, :, :] - R_ix[:, None, :]\n",
        "    R_ijx += np.array([[np.zeros(3), -x_eq], [x_eq,np.zeros(3)]]) ### !!!! \n",
        "    A_ix   = - np.sum( k * R_ijx, axis=0) / m_i[:, None]\n",
        "    v_ix  += 0.5 * ( a_ix + A_ix ) * Δt\n",
        "    a_ix   = A_ix\n",
        "\n",
        "    np.sum(m_i[:,None] * v_ix ** 2)/2 + k * R_ix**2\n",
        "\n",
        "    R_tix[t] = R_ix"
      ],
      "metadata": {
        "id": "7gNUcc5TzIs0"
      },
      "execution_count": 148,
      "outputs": []
    },
    {
      "cell_type": "code",
      "source": [
        "R_ijx"
      ],
      "metadata": {
        "colab": {
          "base_uri": "https://localhost:8080/"
        },
        "id": "hxjSb0rA1nE-",
        "outputId": "59a476c3-aceb-4a1d-90d8-58ce8baff0d0"
      },
      "execution_count": 125,
      "outputs": [
        {
          "output_type": "execute_result",
          "data": {
            "text/plain": [
              "array([[[ 0.        ,  0.        ,  0.        ],\n",
              "        [ 7.76192536,  0.        ,  0.        ]],\n",
              "\n",
              "       [[-7.76192536,  0.        ,  0.        ],\n",
              "        [ 0.        ,  0.        ,  0.        ]]])"
            ]
          },
          "metadata": {},
          "execution_count": 125
        }
      ]
    },
    {
      "cell_type": "markdown",
      "source": [
        "###  <font color='Red'> Define a force as a function of time, with a bump function. Plot the result in time. </font>"
      ],
      "metadata": {
        "id": "8PayyotO7XCL"
      }
    },
    {
      "cell_type": "code",
      "source": [
        "plt.scatter(timeline, R_tix[:, 0, 0], label=\"particle 1 position\")\n",
        "plt.scatter(timeline, R_tix[:, 1, 0], label=\"particle 2 position\")\n",
        "plt.legend(loc=\"upper right\")\n",
        "#plt.xlim([0,10])\n",
        "plt.title(\"force\")\n",
        "plt.show()"
      ],
      "metadata": {
        "colab": {
          "base_uri": "https://localhost:8080/",
          "height": 281
        },
        "id": "I5XfTBf2ZXIR",
        "outputId": "68dd7cfe-3453-4626-aaf5-ec5f68514e3f"
      },
      "execution_count": 147,
      "outputs": [
        {
          "output_type": "display_data",
          "data": {
            "text/plain": [
              "<Figure size 432x288 with 1 Axes>"
            ],
            "image/png": "[encoded data removed]"
          },
          "metadata": {
            "needs_background": "light"
          }
        }
      ]
    },
    {
      "cell_type": "markdown",
      "source": [
        "###  <font color='Red'> Define a for-loop to Velocity-Verlet integrate the motion to obtain a x_t, v_t, and a_t. </font>"
      ],
      "metadata": {
        "id": "akP3b6Yv7YOb"
      }
    }
  ]
}