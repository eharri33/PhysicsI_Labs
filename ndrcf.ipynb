{
  "cells": [
    {
      "cell_type": "markdown",
      "metadata": {
        "id": "view-in-github",
        "colab_type": "text"
      },
      "source": [
        "<a href=\"https://colab.research.google.com/github/jcandane/PhysicsI_Labs/blob/main/ndrcf.ipynb\" target=\"_parent\"><img src=\"https://colab.research.google.com/assets/colab-badge.svg\" alt=\"Open In Colab\"/></a>"
      ]
    },
    {
      "cell_type": "markdown",
      "metadata": {
        "id": "jw5nQnCoqDkJ"
      },
      "source": [
        "# Import Packages"
      ]
    },
    {
      "cell_type": "code",
      "execution_count": null,
      "metadata": {
        "id": "nfLnxn0rqDkM"
      },
      "outputs": [],
      "source": [
        "import numpy as np\n",
        "from numpy import exp, sqrt\n",
        "\n",
        "#### Plotting tools\n",
        "from mpl_toolkits import mplot3d\n",
        "import numpy as np\n",
        "import matplotlib.pyplot as plt\n",
        "import plotly.graph_objects as go\n",
        "\n",
        "import pickle\n",
        "\n",
        "\n",
        "def plot2d(data = None):\n",
        "    \"\"\" Plot in plotly\n",
        "    \"\"\"\n",
        "    fig = go.Figure()\n",
        "    #fig.add_trace(go.Surface(x=x, y=y, z=z))\n",
        "    if data is not None:\n",
        "        fig.add_trace(go.Scatter3d(x=data[:,0], y=data[:,1], z=data[:,2], mode='markers'))\n",
        "\n",
        "    fig.update_layout(title='Ground Truth Random-Contious 2d-Function', autosize=True, width=800, height=800, margin=dict(l=65, r=50, b=65, t=90))\n",
        "    fig.show()\n",
        "\n",
        "def K(X, Y, ξ=10):\n",
        "    \"\"\"\n",
        "    compute kernel function (RBF) between two domain points\n",
        "\n",
        "    R_iax = X_ix - Y_ax\n",
        "    Σ     = exp( - sum( R_iax**2 , over=x) / ξ )\n",
        "\n",
        "    INPUT  : X (X data)\n",
        "             Y (Y data)\n",
        "             ξ (correlation length)\n",
        "    RETURN : Σ\n",
        "    \"\"\"\n",
        "    if X.ndim==1:\n",
        "        X=X.reshape(-1,1)\n",
        "    if Y.ndim==1:\n",
        "        Y=Y.reshape(-1,1)\n",
        "    return np.exp( - np.sum( (X[None, :] - Y[:, None])**2 , axis=2) / ξ )\n",
        "\n",
        "def nK(R_ix, ξ=10):\n",
        "    \"\"\"\n",
        "    compute kernel function (RBF) between two domain points\n",
        "\n",
        "    R_iax = X_ix - Y_ax\n",
        "    Σ     = exp( - sum( R_iax**2 , over=x) / ξ )\n",
        "\n",
        "    INPUT  : X (X data)\n",
        "             Y (Y data)\n",
        "             ξ (correlation length)\n",
        "    RETURN : Σ\n",
        "    \"\"\"\n",
        "    R_ij = np.linalg.norm(R_ix[:, None, :] - R_ix[None, :, :], axis=2)\n",
        "    return np.exp( - R_ij**2 / ξ )\n",
        "\n",
        "def ndrcf(domain, dr_x, μ_i=None, MOut=1):\n",
        "    \"\"\"\n",
        "    IN:\n",
        "        domain : 2d-numpy.ndarray, gives ranges for each coordinate (coordinate-index 'x', 2), e.g. [[x0_min, x0_max], [x1_min, x1_max]]\n",
        "        dr_x : the spacing for each dimension (has coordinate-index 'x')\n",
        "        μ_i : mean along each point (points-index 'i')\n",
        "    OUT:\n",
        "        F_ix : 2d-numpy.ndarray (points-index, coordinate-index)\n",
        "\n",
        "    **this should be made into an object where we save Σ_ij,\n",
        "    perferbly as Σ_ij = L_ik L_kj (ie Cholesky-decomposition), save L_ij (lower-triangular-matrix)\n",
        "    such that we may ask for additional points.\n",
        "    \"\"\"\n",
        "\n",
        "    R_ix = np.stack(np.meshgrid(*[ np.arange(domain[i,0], domain[i,1], dr_x[i]) for i in range(len(dr_x)) ]), axis=-1)\n",
        "    R_ix = R_ix.reshape((np.prod( R_ix.shape[:-1] ), R_ix.shape[-1])) ### x input\n",
        "\n",
        "    μ_i  = np.zeros(R_ix.shape[0])\n",
        "    Σ_ij = nK(R_ix)\n",
        "\n",
        "    D_iy  = np.random.multivariate_normal(μ_i, Σ_ij, MOut).T ### y output, #1 is the number of functions/surfaces (? for MIMO 1=# of Outs??)\n",
        "    return np.concatenate( (R_ix, D_iy) , axis=1)\n",
        "\n",
        "def ndrcfM(domain, dr_x, μ_i=None, MOut=1):\n",
        "    \"\"\"\n",
        "    IN:\n",
        "        domain : 2d-numpy.ndarray, gives ranges for each coordinate (coordinate-index 'x', 2), e.g. [[x0_min, x0_max], [x1_min, x1_max]]\n",
        "        dr_x : the spacing for each dimension (has coordinate-index 'x')\n",
        "        μ_i : mean along each point (points-index 'i')\n",
        "    OUT:\n",
        "        F_ix : 2d-numpy.ndarray (points-index, coordinate-index)\n",
        "\n",
        "    **this should be made into an object where we save Σ_ij,\n",
        "    perferbly as Σ_ij = L_ik L_kj (ie Cholesky-decomposition), save L_ij (lower-triangular-matrix)\n",
        "    such that we may ask for additional points.\n",
        "    \"\"\"\n",
        "\n",
        "    R_ix = np.stack(np.meshgrid(*[ np.arange(domain[i,0], domain[i,1], dr_x[i]) for i in range(len(dr_x)) ]), axis=-1)\n",
        "    R_ix = R_ix.reshape((np.prod( R_ix.shape[:-1] ), R_ix.shape[-1])) ### x input\n",
        "\n",
        "    μ_i  = np.zeros(R_ix.shape[0])\n",
        "    Σ_ij = nK(R_ix)\n",
        "\n",
        "    D_iy  = np.random.multivariate_normal(μ_i, Σ_ij, MOut).T ### y output, #1 is the number of functions/surfaces (? for MIMO 1=# of Outs??)\n",
        "    return np.concatenate( (R_ix, D_iy) , axis=1)\n",
        "\n",
        "### make into function....\n",
        "\n",
        "##### READ and WRITE gpCAM data\n",
        "def WRITE(list_of_data, filename=\"data.pkl\"):\n",
        "    \"\"\" requires to import pickle\n",
        "    GIVEN :     list_of_data : List[dic]\n",
        "                *filename : str (filename to store 'list_of_data'-variable)\n",
        "    GET :       None (produced file)\n",
        "    \"\"\"\n",
        "\n",
        "    with open(filename, \"wb\") as file:\n",
        "        pickle.dump(list_of_data, file)\n",
        "    file.close()\n",
        "\n",
        "    return None\n",
        "\n",
        "def READ(filename=\"data.pkl\"):\n",
        "    \"\"\" requires to import pickle\n",
        "    GIVEN :     *filename : str (filename to read 'list_of_data'-variable)\n",
        "    GET :       OUT : List[dic] (List[dic], ie the data)\n",
        "    \"\"\"\n",
        "\n",
        "    with open(filename, \"rb\") as file:\n",
        "        OUT = pickle.load(file)\n",
        "    file.close()\n",
        "\n",
        "    return OUT"
      ]
    },
    {
      "cell_type": "markdown",
      "metadata": {
        "id": "d0woCpcKqDkO"
      },
      "source": [
        "# input parameters"
      ]
    },
    {
      "cell_type": "code",
      "execution_count": null,
      "metadata": {
        "id": "LHj7Hp8cqDkP"
      },
      "outputs": [],
      "source": [
        "S    = 200 ## Number of Data Points\n",
        "μ    = 0. ## Mean for all Data\n",
        "ξ    = 15 ## correlation-length in covaraince matrix (sq of actual correlation-length ?)\n",
        "show = 1 ## show these many samples"
      ]
    },
    {
      "cell_type": "markdown",
      "metadata": {
        "id": "FgUZ1rfKqDkP"
      },
      "source": [
        "# 1d random-continous-function"
      ]
    },
    {
      "cell_type": "code",
      "execution_count": null,
      "metadata": {
        "id": "KRVD6-X_qDkP",
        "outputId": "65166264-c5ee-4d89-fced-9a36caa8a411"
      },
      "outputs": [
        {
          "name": "stdout",
          "output_type": "stream",
          "text": [
            "(17, 2)\n"
          ]
        },
        {
          "data": {
            "image/png": "[encoded data removed]",
            "text/plain": [
              "<Figure size 640x480 with 1 Axes>"
            ]
          },
          "metadata": {},
          "output_type": "display_data"
        }
      ],
      "source": [
        "dr_x   = np.array([0.6])\n",
        "domain = np.array([[ 0.0, 10.0]])\n",
        "\n",
        "f = ndrcf(domain, dr_x, μ_i=None)\n",
        "print(f.shape)\n",
        "plt.plot(f[:,0], f[:,1])\n",
        "plt.show()"
      ]
    },
    {
      "cell_type": "markdown",
      "metadata": {
        "id": "Y1ORa3PaqDkQ"
      },
      "source": [
        "# 2d random-continous-function"
      ]
    },
    {
      "cell_type": "code",
      "execution_count": null,
      "metadata": {
        "id": "1sL-wEoTqDkQ",
        "outputId": "15cbc43f-a81d-40b0-ec11-70cedc71ad09"
      },
      "outputs": [
        {
          "name": "stdout",
          "output_type": "stream",
          "text": [
            "(408, 3)\n"
          ]
        },
        {
          "data": {
            "application/vnd.plotly.v1+json": {
              "config": {
                "plotlyServerURL": "https://plot.ly"
              },
              "data": [
                {
                  "mode": "markers",
                  "type": "scatter3d",
                  "x": [
                    0,
                    0.6,
                    1.2,
                    1.7999999999999998,
                    2.4,
                    3,
                    3.5999999999999996,
                    4.2,
                    4.8,
                    5.3999999999999995,
                    6,
                    6.6,
                    7.199999999999999,
                    7.8,
                    8.4,
                    9,
                    9.6,
                    0,
                    0.6,
                    1.2,
                    1.7999999999999998,
                    2.4,
                    3,
                    3.5999999999999996,
                    4.2,
                    4.8,
                    5.3999999999999995,
                    6,
                    6.6,
                    7.199999999999999,
                    7.8,
                    8.4,
                    9,
                    9.6,
                    0,
                    0.6,
                    1.2,
                    1.7999999999999998,
                    2.4,
                    3,
                    3.5999999999999996,
                    4.2,
                    4.8,
                    5.3999999999999995,
                    6,
                    6.6,
                    7.199999999999999,
                    7.8,
                    8.4,
                    9,
                    9.6,
                    0,
                    0.6,
                    1.2,
                    1.7999999999999998,
                    2.4,
                    3,
                    3.5999999999999996,
                    4.2,
                    4.8,
                    5.3999999999999995,
                    6,
                    6.6,
                    7.199999999999999,
                    7.8,
                    8.4,
                    9,
                    9.6,
                    0,
                    0.6,
                    1.2,
                    1.7999999999999998,
                    2.4,
                    3,
                    3.5999999999999996,
                    4.2,
                    4.8,
                    5.3999999999999995,
                    6,
                    6.6,
                    7.199999999999999,
                    7.8,
                    8.4,
                    9,
                    9.6,
                    0,
                    0.6,
                    1.2,
                    1.7999999999999998,
                    2.4,
                    3,
                    3.5999999999999996,
                    4.2,
                    4.8,
                    5.3999999999999995,
                    6,
                    6.6,
                    7.199999999999999,
                    7.8,
                    8.4,
                    9,
                    9.6,
                    0,
                    0.6,
                    1.2,
                    1.7999999999999998,
                    2.4,
                    3,
                    3.5999999999999996,
                    4.2,
                    4.8,
                    5.3999999999999995,
                    6,
                    6.6,
                    7.199999999999999,
                    7.8,
                    8.4,
                    9,
                    9.6,
                    0,
                    0.6,
                    1.2,
                    1.7999999999999998,
                    2.4,
                    3,
                    3.5999999999999996,
                    4.2,
                    4.8,
                    5.3999999999999995,
                    6,
                    6.6,
                    7.199999999999999,
                    7.8,
                    8.4,
                    9,
                    9.6,
                    0,
                    0.6,
                    1.2,
                    1.7999999999999998,
                    2.4,
                    3,
                    3.5999999999999996,
                    4.2,
                    4.8,
                    5.3999999999999995,
                    6,
                    6.6,
                    7.199999999999999,
                    7.8,
                    8.4,
                    9,
                    9.6,
                    0,
                    0.6,
                    1.2,
                    1.7999999999999998,
                    2.4,
                    3,
                    3.5999999999999996,
                    4.2,
                    4.8,
                    5.3999999999999995,
                    6,
                    6.6,
                    7.199999999999999,
                    7.8,
                    8.4,
                    9,
                    9.6,
                    0,
                    0.6,
                    1.2,
                    1.7999999999999998,
                    2.4,
                    3,
                    3.5999999999999996,
                    4.2,
                    4.8,
                    5.3999999999999995,
                    6,
                    6.6,
                    7.199999999999999,
                    7.8,
                    8.4,
                    9,
                    9.6,
                    0,
                    0.6,
                    1.2,
                    1.7999999999999998,
                    2.4,
                    3,
                    3.5999999999999996,
                    4.2,
                    4.8,
                    5.3999999999999995,
                    6,
                    6.6,
                    7.199999999999999,
                    7.8,
                    8.4,
                    9,
                    9.6,
                    0,
                    0.6,
                    1.2,
                    1.7999999999999998,
                    2.4,
                    3,
                    3.5999999999999996,
                    4.2,
                    4.8,
                    5.3999999999999995,
                    6,
                    6.6,
                    7.199999999999999,
                    7.8,
                    8.4,
                    9,
                    9.6,
                    0,
                    0.6,
                    1.2,
                    1.7999999999999998,
                    2.4,
                    3,
                    3.5999999999999996,
                    4.2,
                    4.8,
                    5.3999999999999995,
                    6,
                    6.6,
                    7.199999999999999,
                    7.8,
                    8.4,
                    9,
                    9.6,
                    0,
                    0.6,
                    1.2,
                    1.7999999999999998,
                    2.4,
                    3,
                    3.5999999999999996,
                    4.2,
                    4.8,
                    5.3999999999999995,
                    6,
                    6.6,
                    7.199999999999999,
                    7.8,
                    8.4,
                    9,
                    9.6,
                    0,
                    0.6,
                    1.2,
                    1.7999999999999998,
                    2.4,
                    3,
                    3.5999999999999996,
                    4.2,
                    4.8,
                    5.3999999999999995,
                    6,
                    6.6,
                    7.199999999999999,
                    7.8,
                    8.4,
                    9,
                    9.6,
                    0,
                    0.6,
                    1.2,
                    1.7999999999999998,
                    2.4,
                    3,
                    3.5999999999999996,
                    4.2,
                    4.8,
                    5.3999999999999995,
                    6,
                    6.6,
                    7.199999999999999,
                    7.8,
                    8.4,
                    9,
                    9.6,
                    0,
                    0.6,
                    1.2,
                    1.7999999999999998,
                    2.4,
                    3,
                    3.5999999999999996,
                    4.2,
                    4.8,
                    5.3999999999999995,
                    6,
                    6.6,
                    7.199999999999999,
                    7.8,
                    8.4,
                    9,
                    9.6,
                    0,
                    0.6,
                    1.2,
                    1.7999999999999998,
                    2.4,
                    3,
                    3.5999999999999996,
                    4.2,
                    4.8,
                    5.3999999999999995,
                    6,
                    6.6,
                    7.199999999999999,
                    7.8,
                    8.4,
                    9,
                    9.6,
                    0,
                    0.6,
                    1.2,
                    1.7999999999999998,
                    2.4,
                    3,
                    3.5999999999999996,
                    4.2,
                    4.8,
                    5.3999999999999995,
                    6,
                    6.6,
                    7.199999999999999,
                    7.8,
                    8.4,
                    9,
                    9.6,
                    0,
                    0.6,
                    1.2,
                    1.7999999999999998,
                    2.4,
                    3,
                    3.5999999999999996,
                    4.2,
                    4.8,
                    5.3999999999999995,
                    6,
                    6.6,
                    7.199999999999999,
                    7.8,
                    8.4,
                    9,
                    9.6,
                    0,
                    0.6,
                    1.2,
                    1.7999999999999998,
                    2.4,
                    3,
                    3.5999999999999996,
                    4.2,
                    4.8,
                    5.3999999999999995,
                    6,
                    6.6,
                    7.199999999999999,
                    7.8,
                    8.4,
                    9,
                    9.6,
                    0,
                    0.6,
                    1.2,
                    1.7999999999999998,
                    2.4,
                    3,
                    3.5999999999999996,
                    4.2,
                    4.8,
                    5.3999999999999995,
                    6,
                    6.6,
                    7.199999999999999,
                    7.8,
                    8.4,
                    9,
                    9.6,
                    0,
                    0.6,
                    1.2,
                    1.7999999999999998,
                    2.4,
                    3,
                    3.5999999999999996,
                    4.2,
                    4.8,
                    5.3999999999999995,
                    6,
                    6.6,
                    7.199999999999999,
                    7.8,
                    8.4,
                    9,
                    9.6
                  ],
                  "y": [
                    -5,
                    -5,
                    -5,
                    -5,
                    -5,
                    -5,
                    -5,
                    -5,
                    -5,
                    -5,
                    -5,
                    -5,
                    -5,
                    -5,
                    -5,
                    -5,
                    -5,
                    -4.5,
                    -4.5,
                    -4.5,
                    -4.5,
                    -4.5,
                    -4.5,
                    -4.5,
                    -4.5,
                    -4.5,
                    -4.5,
                    -4.5,
                    -4.5,
                    -4.5,
                    -4.5,
                    -4.5,
                    -4.5,
                    -4.5,
                    -4,
                    -4,
                    -4,
                    -4,
                    -4,
                    -4,
                    -4,
                    -4,
                    -4,
                    -4,
                    -4,
                    -4,
                    -4,
                    -4,
                    -4,
                    -4,
                    -4,
                    -3.5,
                    -3.5,
                    -3.5,
                    -3.5,
                    -3.5,
                    -3.5,
                    -3.5,
                    -3.5,
                    -3.5,
                    -3.5,
                    -3.5,
                    -3.5,
                    -3.5,
                    -3.5,
                    -3.5,
                    -3.5,
                    -3.5,
                    -3,
                    -3,
                    -3,
                    -3,
                    -3,
                    -3,
                    -3,
                    -3,
                    -3,
                    -3,
                    -3,
                    -3,
                    -3,
                    -3,
                    -3,
                    -3,
                    -3,
                    -2.5,
                    -2.5,
                    -2.5,
                    -2.5,
                    -2.5,
                    -2.5,
                    -2.5,
                    -2.5,
                    -2.5,
                    -2.5,
                    -2.5,
                    -2.5,
                    -2.5,
                    -2.5,
                    -2.5,
                    -2.5,
                    -2.5,
                    -2,
                    -2,
                    -2,
                    -2,
                    -2,
                    -2,
                    -2,
                    -2,
                    -2,
                    -2,
                    -2,
                    -2,
                    -2,
                    -2,
                    -2,
                    -2,
                    -2,
                    -1.5,
                    -1.5,
                    -1.5,
                    -1.5,
                    -1.5,
                    -1.5,
                    -1.5,
                    -1.5,
                    -1.5,
                    -1.5,
                    -1.5,
                    -1.5,
                    -1.5,
                    -1.5,
                    -1.5,
                    -1.5,
                    -1.5,
                    -1,
                    -1,
                    -1,
                    -1,
                    -1,
                    -1,
                    -1,
                    -1,
                    -1,
                    -1,
                    -1,
                    -1,
                    -1,
                    -1,
                    -1,
                    -1,
                    -1,
                    -0.5,
                    -0.5,
                    -0.5,
                    -0.5,
                    -0.5,
                    -0.5,
                    -0.5,
                    -0.5,
                    -0.5,
                    -0.5,
                    -0.5,
                    -0.5,
                    -0.5,
                    -0.5,
                    -0.5,
                    -0.5,
                    -0.5,
                    0,
                    0,
                    0,
                    0,
                    0,
                    0,
                    0,
                    0,
                    0,
                    0,
                    0,
                    0,
                    0,
                    0,
                    0,
                    0,
                    0,
                    0.5,
                    0.5,
                    0.5,
                    0.5,
                    0.5,
                    0.5,
                    0.5,
                    0.5,
                    0.5,
                    0.5,
                    0.5,
                    0.5,
                    0.5,
                    0.5,
                    0.5,
                    0.5,
                    0.5,
                    1,
                    1,
                    1,
                    1,
                    1,
                    1,
                    1,
                    1,
                    1,
                    1,
                    1,
                    1,
                    1,
                    1,
                    1,
                    1,
                    1,
                    1.5,
                    1.5,
                    1.5,
                    1.5,
                    1.5,
                    1.5,
                    1.5,
                    1.5,
                    1.5,
                    1.5,
                    1.5,
                    1.5,
                    1.5,
                    1.5,
                    1.5,
                    1.5,
                    1.5,
                    2,
                    2,
                    2,
                    2,
                    2,
                    2,
                    2,
                    2,
                    2,
                    2,
                    2,
                    2,
                    2,
                    2,
                    2,
                    2,
                    2,
                    2.5,
                    2.5,
                    2.5,
                    2.5,
                    2.5,
                    2.5,
                    2.5,
                    2.5,
                    2.5,
                    2.5,
                    2.5,
                    2.5,
                    2.5,
                    2.5,
                    2.5,
                    2.5,
                    2.5,
                    3,
                    3,
                    3,
                    3,
                    3,
                    3,
                    3,
                    3,
                    3,
                    3,
                    3,
                    3,
                    3,
                    3,
                    3,
                    3,
                    3,
                    3.5,
                    3.5,
                    3.5,
                    3.5,
                    3.5,
                    3.5,
                    3.5,
                    3.5,
                    3.5,
                    3.5,
                    3.5,
                    3.5,
                    3.5,
                    3.5,
                    3.5,
                    3.5,
                    3.5,
                    4,
                    4,
                    4,
                    4,
                    4,
                    4,
                    4,
                    4,
                    4,
                    4,
                    4,
                    4,
                    4,
                    4,
                    4,
                    4,
                    4,
                    4.5,
                    4.5,
                    4.5,
                    4.5,
                    4.5,
                    4.5,
                    4.5,
                    4.5,
                    4.5,
                    4.5,
                    4.5,
                    4.5,
                    4.5,
                    4.5,
                    4.5,
                    4.5,
                    4.5,
                    5,
                    5,
                    5,
                    5,
                    5,
                    5,
                    5,
                    5,
                    5,
                    5,
                    5,
                    5,
                    5,
                    5,
                    5,
                    5,
                    5,
                    5.5,
                    5.5,
                    5.5,
                    5.5,
                    5.5,
                    5.5,
                    5.5,
                    5.5,
                    5.5,
                    5.5,
                    5.5,
                    5.5,
                    5.5,
                    5.5,
                    5.5,
                    5.5,
                    5.5,
                    6,
                    6,
                    6,
                    6,
                    6,
                    6,
                    6,
                    6,
                    6,
                    6,
                    6,
                    6,
                    6,
                    6,
                    6,
                    6,
                    6,
                    6.5,
                    6.5,
                    6.5,
                    6.5,
                    6.5,
                    6.5,
                    6.5,
                    6.5,
                    6.5,
                    6.5,
                    6.5,
                    6.5,
                    6.5,
                    6.5,
                    6.5,
                    6.5,
                    6.5
                  ],
                  "z": [
                    1.1249916667879267,
                    0.9043122230098345,
                    0.5826686576942285,
                    0.18168518850353096,
                    -0.23892386668409277,
                    -0.5823249056192078,
                    -0.752592742698356,
                    -0.70570948966406,
                    -0.4757898186606618,
                    -0.15433846783245975,
                    0.16382978510779214,
                    0.4271284144023221,
                    0.6344467985961636,
                    0.8082489984185569,
                    0.9627650217645574,
                    1.0861505858606881,
                    1.134407330305641,
                    1.403595114793189,
                    1.2408550592565273,
                    0.9827298434473077,
                    0.6341935153465088,
                    0.23002622952473714,
                    -0.15311606000700598,
                    -0.42087034469275136,
                    -0.507757287288624,
                    -0.41305185814507145,
                    -0.1975359819396849,
                    0.05730772206078148,
                    0.29437841467304177,
                    0.4968877168360308,
                    0.6731431895116001,
                    0.8325118970025329,
                    0.9676190272772154,
                    1.041339436942668,
                    1.4892584918443315,
                    1.3754252310824702,
                    1.1818845693045699,
                    0.8973829811340469,
                    0.533672677385638,
                    0.1486778830253848,
                    -0.1673973521250819,
                    -0.33586338366052515,
                    -0.3323588883039625,
                    -0.1960020999132766,
                    0.0015296430833838148,
                    0.19955033793574414,
                    0.3709814673969433,
                    0.5167542766177267,
                    0.6478122599082874,
                    0.7661825518365218,
                    0.8452927942569768,
                    1.380572286558493,
                    1.3069215580069395,
                    1.1780784947525118,
                    0.9684718296956708,
                    0.6703153070914845,
                    0.3249006044903708,
                    0.014930531793274582,
                    -0.17761841892086863,
                    -0.21732890551945538,
                    -0.13068813206750388,
                    0.01844316449733478,
                    0.16969853922134842,
                    0.2919401723890668,
                    0.3841326128666671,
                    0.46177831007770537,
                    0.5371507394120129,
                    0.5952668938571313,
                    1.1002222355918638,
                    1.0576436313669904,
                    0.9911983574321137,
                    0.8641796676978917,
                    0.6538526522266577,
                    0.3872933687006014,
                    0.13603504420052373,
                    -0.024893692917239398,
                    -0.06137682550740337,
                    0.004527518780468479,
                    0.11594149635019839,
                    0.21770832779181654,
                    0.28094384955542534,
                    0.3065551673071718,
                    0.3145494636371379,
                    0.32484282091886474,
                    0.3328124138248741,
                    0.6950348187507763,
                    0.6714054687491182,
                    0.6584028837662421,
                    0.6129576026524252,
                    0.5033282389250407,
                    0.34540809015871726,
                    0.1962401616824725,
                    0.11448554815301547,
                    0.12189298900297471,
                    0.19369347335533818,
                    0.2794745930742108,
                    0.33383519060817635,
                    0.33567672100324,
                    0.2904701946111345,
                    0.22086269572610823,
                    0.1499452836120831,
                    0.08089567254848871,
                    0.23880241688042214,
                    0.2168445105267848,
                    0.23730944899479392,
                    0.2576631396419473,
                    0.24492726629716333,
                    0.20795355353673348,
                    0.18708602052710496,
                    0.21710138778937957,
                    0.29862961398520865,
                    0.39846704237685737,
                    0.4718455188187181,
                    0.4860892297545026,
                    0.43162041671724033,
                    0.31979731679180207,
                    0.17340247980606888,
                    0.014001541603466283,
                    -0.1503994309216519,
                    -0.173675066152271,
                    -0.21500243094228674,
                    -0.19234449066412967,
                    -0.13876812483255255,
                    -0.07906032873877987,
                    -0.006035637393967285,
                    0.10355314272335403,
                    0.25618645375082033,
                    0.4261851358920016,
                    0.5683579904465693,
                    0.6424390126571085,
                    0.629190918283321,
                    0.5316964835090248,
                    0.367004841891291,
                    0.15552881452189166,
                    -0.08664775719828388,
                    -0.34975409623227566,
                    -0.44869377306091873,
                    -0.5281987662033626,
                    -0.5396817105856799,
                    -0.49712945032667644,
                    -0.4073255135315282,
                    -0.2586781066254814,
                    -0.043156043649964185,
                    0.21718384027012616,
                    0.469815331422352,
                    0.6569776799555901,
                    0.7418927065367347,
                    0.7173739179774707,
                    0.5976929619867827,
                    0.4039280118733976,
                    0.15184603209258535,
                    -0.15101326214657626,
                    -0.4966322838703629,
                    -0.5255247538602361,
                    -0.6516496542603971,
                    -0.727725774344741,
                    -0.7407397550071303,
                    -0.6713527532491796,
                    -0.4978115180527658,
                    -0.2231639142074246,
                    0.10627705269983745,
                    0.4154649723349512,
                    0.6366180203066863,
                    0.7360322312086138,
                    0.7159514857625107,
                    0.598732672776552,
                    0.4070541538046882,
                    0.15020570256766982,
                    -0.17524549470478892,
                    -0.5675404992882562,
                    -0.3999371022242468,
                    -0.5653866482518436,
                    -0.7204382921832843,
                    -0.8211888799706529,
                    -0.8176957006984821,
                    -0.6737307612779546,
                    -0.3976968620472593,
                    -0.052218637181303394,
                    0.2732133589317957,
                    0.5056596385991898,
                    0.6147832447907479,
                    0.6094867990162539,
                    0.516953611131574,
                    0.3593834237414917,
                    0.13858108477135792,
                    -0.16173148466313403,
                    -0.5514252394365045,
                    -0.12251165960575879,
                    -0.3057679485160012,
                    -0.534316308904985,
                    -0.7346051937531619,
                    -0.8262148130770746,
                    -0.7564310927801189,
                    -0.5329950582051368,
                    -0.2252081550235725,
                    0.07263728662985562,
                    0.28812191116156305,
                    0.39498136184277854,
                    0.4065873877495515,
                    0.35263111871092023,
                    0.2539136962341657,
                    0.10491004225029155,
                    -0.12444689424992562,
                    -0.4606938544897588,
                    0.22980478611390878,
                    0.05577307611932718,
                    -0.2256144628331893,
                    -0.5169085396624691,
                    -0.7116423814357672,
                    -0.7412927730258774,
                    -0.6081376269614158,
                    -0.3792608085846321,
                    -0.14496870238725298,
                    0.027809666606788262,
                    0.11754963167588035,
                    0.14063588721159112,
                    0.12808645458115547,
                    0.09952340842362065,
                    0.04337554197684502,
                    -0.08365875894142293,
                    -0.32766611252745115,
                    0.5919784168963892,
                    0.4479855352922307,
                    0.13922953844549116,
                    -0.22129721519316714,
                    -0.508498972602695,
                    -0.6411668782831782,
                    -0.6136137929328175,
                    -0.4845063766938904,
                    -0.33408718448240077,
                    -0.22060783813844698,
                    -0.16060624895735615,
                    -0.13563760164638608,
                    -0.11384210761465018,
                    -0.0760215938491511,
                    -0.03780992003014625,
                    -0.05345509418685595,
                    -0.1879971945949734,
                    0.9348788825013936,
                    0.8271355697669122,
                    0.5110181365304927,
                    0.10633952941721911,
                    -0.25170852194982707,
                    -0.4738140660238365,
                    -0.5462117302082383,
                    -0.5164672981838302,
                    -0.4523182435495019,
                    -0.4025450334339022,
                    -0.3792013420435559,
                    -0.36250707313611036,
                    -0.31990175287278994,
                    -0.23172226307899554,
                    -0.11539173989969195,
                    -0.032434748223519286,
                    -0.06284915334952211,
                    1.2611337271488527,
                    1.180974334251555,
                    0.8670297313631143,
                    0.43860297170674695,
                    0.03336532188630014,
                    -0.25563818180746645,
                    -0.4078163940364657,
                    -0.4600589220085081,
                    -0.4688426014768437,
                    -0.475429719502906,
                    -0.48906316518285453,
                    -0.4893350926224237,
                    -0.4426113027821707,
                    -0.3273866123780666,
                    -0.16025077898931,
                    -0.005615433284395516,
                    0.04751927951905631,
                    1.5790917388591308,
                    1.5110486057186372,
                    1.200339017097962,
                    0.7607467610907933,
                    0.3275000185477806,
                    -0.004904242394572511,
                    -0.21001393520252218,
                    -0.3162956716460896,
                    -0.37323209177954536,
                    -0.41933322495365777,
                    -0.4643757455810954,
                    -0.48829136366748066,
                    -0.4551429825509589,
                    -0.3389378884782005,
                    -0.15192117117675905,
                    0.043259626081878354,
                    0.15477357072915365,
                    1.8756096519863996,
                    1.8092440757957415,
                    1.5011207481669422,
                    1.0568882354005078,
                    0.6080439167519935,
                    0.2515596737098439,
                    0.020490158993002872,
                    -0.10769173493994333,
                    -0.18138958394467186,
                    -0.24333752067878864,
                    -0.30905393844698925,
                    -0.3605593648836163,
                    -0.3578041888973546,
                    -0.2662171414118442,
                    -0.08891424011581696,
                    0.11815470682073612,
                    0.26580008904566166,
                    2.1069996566053293,
                    2.0456084222965774,
                    1.74464213694697,
                    1.300737179173005,
                    0.8435366239154306,
                    0.4765073219154894,
                    0.24214033449646405,
                    0.12256694082312511,
                    0.06493784669634618,
                    0.0148118658910354,
                    -0.05556032444888215,
                    -0.1334618172303076,
                    -0.17370875279231054,
                    -0.12889063082814647,
                    0.0125199211525217,
                    0.20665502490805826,
                    0.37203120138320933,
                    2.2130966774721488,
                    2.174011731047149,
                    1.8928230012790326,
                    1.4569303160583813,
                    0.9972004182216458,
                    0.6285589905304587,
                    0.4068967893929589,
                    0.3197624650225227,
                    0.3070433038251992,
                    0.2971992375940156,
                    0.244003532642857,
                    0.149960160184457,
                    0.06360840250629016,
                    0.04711940714355157,
                    0.13121964650858986,
                    0.2897019909827016,
                    0.45423408879608695,
                    2.1442124408044703,
                    2.1499669172329865,
                    1.9061801516946082,
                    1.4904613823586457,
                    1.036496107189812,
                    0.6735208658909484,
                    0.4739196286969659,
                    0.4333505343928628,
                    0.48598305663509594,
                    0.5423432589495172,
                    0.5336778422627342,
                    0.4459261338527155,
                    0.32502202344994724,
                    0.24513967575076087,
                    0.2577550664678488,
                    0.35913233357850866,
                    0.5001166774199467,
                    1.8850233730851165,
                    1.9495623257572745,
                    1.7582802394635233,
                    1.3778449734734701,
                    0.9428534374578311,
                    0.5949592179408685,
                    0.4230597831124347,
                    0.4343482152493272,
                    0.563127054944886,
                    0.7066199754188677,
                    0.7730849716985427,
                    0.7253613798190439,
                    0.5971254664030211,
                    0.4667419348351622,
                    0.4039514581403459,
                    0.4302914932819109,
                    0.5213868981606175,
                    1.4642660434138526,
                    1.5809390520757651,
                    1.4463071844497462,
                    1.1151267743695137,
                    0.7173122532634162,
                    0.39945496838698247,
                    0.2625006806033281,
                    0.3273665624091842,
                    0.5364968931766894,
                    0.782392287359946,
                    0.9533979758208045,
                    0.9841698196679545,
                    0.8854637097139583,
                    0.7293886126370688,
                    0.5984389202066356,
                    0.539510056629961,
                    0.5563646744961953,
                    0.9482063151831331,
                    1.0853550904468672,
                    0.995082400561082,
                    0.7209558553741252,
                    0.3808128353818479,
                    0.11463078312829254,
                    0.026579389626997466,
                    0.15038069862599943,
                    0.44333724346306375,
                    0.8022688522609988,
                    1.1005834386410738,
                    1.2424742791423007,
                    1.2079035942082916,
                    1.053979982178632,
                    0.8702007348204103,
                    0.726541026847834,
                    0.654455462586156
                  ]
                }
              ],
              "layout": {
                "autosize": true,
                "height": 800,
                "margin": {
                  "b": 65,
                  "l": 65,
                  "r": 50,
                  "t": 90
                },
                "template": {
                  "data": {
                    "bar": [
                      {
                        "error_x": {
                          "color": "#2a3f5f"
                        },
                        "error_y": {
                          "color": "#2a3f5f"
                        },
                        "marker": {
                          "line": {
                            "color": "#E5ECF6",
                            "width": 0.5
                          },
                          "pattern": {
                            "fillmode": "overlay",
                            "size": 10,
                            "solidity": 0.2
                          }
                        },
                        "type": "bar"
                      }
                    ],
                    "barpolar": [
                      {
                        "marker": {
                          "line": {
                            "color": "#E5ECF6",
                            "width": 0.5
                          },
                          "pattern": {
                            "fillmode": "overlay",
                            "size": 10,
                            "solidity": 0.2
                          }
                        },
                        "type": "barpolar"
                      }
                    ],
                    "carpet": [
                      {
                        "aaxis": {
                          "endlinecolor": "#2a3f5f",
                          "gridcolor": "white",
                          "linecolor": "white",
                          "minorgridcolor": "white",
                          "startlinecolor": "#2a3f5f"
                        },
                        "baxis": {
                          "endlinecolor": "#2a3f5f",
                          "gridcolor": "white",
                          "linecolor": "white",
                          "minorgridcolor": "white",
                          "startlinecolor": "#2a3f5f"
                        },
                        "type": "carpet"
                      }
                    ],
                    "choropleth": [
                      {
                        "colorbar": {
                          "outlinewidth": 0,
                          "ticks": ""
                        },
                        "type": "choropleth"
                      }
                    ],
                    "contour": [
                      {
                        "colorbar": {
                          "outlinewidth": 0,
                          "ticks": ""
                        },
                        "colorscale": [
                          [
                            0,
                            "#0d0887"
                          ],
                          [
                            0.1111111111111111,
                            "#46039f"
                          ],
                          [
                            0.2222222222222222,
                            "#7201a8"
                          ],
                          [
                            0.3333333333333333,
                            "#9c179e"
                          ],
                          [
                            0.4444444444444444,
                            "#bd3786"
                          ],
                          [
                            0.5555555555555556,
                            "#d8576b"
                          ],
                          [
                            0.6666666666666666,
                            "#ed7953"
                          ],
                          [
                            0.7777777777777778,
                            "#fb9f3a"
                          ],
                          [
                            0.8888888888888888,
                            "#fdca26"
                          ],
                          [
                            1,
                            "#f0f921"
                          ]
                        ],
                        "type": "contour"
                      }
                    ],
                    "contourcarpet": [
                      {
                        "colorbar": {
                          "outlinewidth": 0,
                          "ticks": ""
                        },
                        "type": "contourcarpet"
                      }
                    ],
                    "heatmap": [
                      {
                        "colorbar": {
                          "outlinewidth": 0,
                          "ticks": ""
                        },
                        "colorscale": [
                          [
                            0,
                            "#0d0887"
                          ],
                          [
                            0.1111111111111111,
                            "#46039f"
                          ],
                          [
                            0.2222222222222222,
                            "#7201a8"
                          ],
                          [
                            0.3333333333333333,
                            "#9c179e"
                          ],
                          [
                            0.4444444444444444,
                            "#bd3786"
                          ],
                          [
                            0.5555555555555556,
                            "#d8576b"
                          ],
                          [
                            0.6666666666666666,
                            "#ed7953"
                          ],
                          [
                            0.7777777777777778,
                            "#fb9f3a"
                          ],
                          [
                            0.8888888888888888,
                            "#fdca26"
                          ],
                          [
                            1,
                            "#f0f921"
                          ]
                        ],
                        "type": "heatmap"
                      }
                    ],
                    "heatmapgl": [
                      {
                        "colorbar": {
                          "outlinewidth": 0,
                          "ticks": ""
                        },
                        "colorscale": [
                          [
                            0,
                            "#0d0887"
                          ],
                          [
                            0.1111111111111111,
                            "#46039f"
                          ],
                          [
                            0.2222222222222222,
                            "#7201a8"
                          ],
                          [
                            0.3333333333333333,
                            "#9c179e"
                          ],
                          [
                            0.4444444444444444,
                            "#bd3786"
                          ],
                          [
                            0.5555555555555556,
                            "#d8576b"
                          ],
                          [
                            0.6666666666666666,
                            "#ed7953"
                          ],
                          [
                            0.7777777777777778,
                            "#fb9f3a"
                          ],
                          [
                            0.8888888888888888,
                            "#fdca26"
                          ],
                          [
                            1,
                            "#f0f921"
                          ]
                        ],
                        "type": "heatmapgl"
                      }
                    ],
                    "histogram": [
                      {
                        "marker": {
                          "pattern": {
                            "fillmode": "overlay",
                            "size": 10,
                            "solidity": 0.2
                          }
                        },
                        "type": "histogram"
                      }
                    ],
                    "histogram2d": [
                      {
                        "colorbar": {
                          "outlinewidth": 0,
                          "ticks": ""
                        },
                        "colorscale": [
                          [
                            0,
                            "#0d0887"
                          ],
                          [
                            0.1111111111111111,
                            "#46039f"
                          ],
                          [
                            0.2222222222222222,
                            "#7201a8"
                          ],
                          [
                            0.3333333333333333,
                            "#9c179e"
                          ],
                          [
                            0.4444444444444444,
                            "#bd3786"
                          ],
                          [
                            0.5555555555555556,
                            "#d8576b"
                          ],
                          [
                            0.6666666666666666,
                            "#ed7953"
                          ],
                          [
                            0.7777777777777778,
                            "#fb9f3a"
                          ],
                          [
                            0.8888888888888888,
                            "#fdca26"
                          ],
                          [
                            1,
                            "#f0f921"
                          ]
                        ],
                        "type": "histogram2d"
                      }
                    ],
                    "histogram2dcontour": [
                      {
                        "colorbar": {
                          "outlinewidth": 0,
                          "ticks": ""
                        },
                        "colorscale": [
                          [
                            0,
                            "#0d0887"
                          ],
                          [
                            0.1111111111111111,
                            "#46039f"
                          ],
                          [
                            0.2222222222222222,
                            "#7201a8"
                          ],
                          [
                            0.3333333333333333,
                            "#9c179e"
                          ],
                          [
                            0.4444444444444444,
                            "#bd3786"
                          ],
                          [
                            0.5555555555555556,
                            "#d8576b"
                          ],
                          [
                            0.6666666666666666,
                            "#ed7953"
                          ],
                          [
                            0.7777777777777778,
                            "#fb9f3a"
                          ],
                          [
                            0.8888888888888888,
                            "#fdca26"
                          ],
                          [
                            1,
                            "#f0f921"
                          ]
                        ],
                        "type": "histogram2dcontour"
                      }
                    ],
                    "mesh3d": [
                      {
                        "colorbar": {
                          "outlinewidth": 0,
                          "ticks": ""
                        },
                        "type": "mesh3d"
                      }
                    ],
                    "parcoords": [
                      {
                        "line": {
                          "colorbar": {
                            "outlinewidth": 0,
                            "ticks": ""
                          }
                        },
                        "type": "parcoords"
                      }
                    ],
                    "pie": [
                      {
                        "automargin": true,
                        "type": "pie"
                      }
                    ],
                    "scatter": [
                      {
                        "fillpattern": {
                          "fillmode": "overlay",
                          "size": 10,
                          "solidity": 0.2
                        },
                        "type": "scatter"
                      }
                    ],
                    "scatter3d": [
                      {
                        "line": {
                          "colorbar": {
                            "outlinewidth": 0,
                            "ticks": ""
                          }
                        },
                        "marker": {
                          "colorbar": {
                            "outlinewidth": 0,
                            "ticks": ""
                          }
                        },
                        "type": "scatter3d"
                      }
                    ],
                    "scattercarpet": [
                      {
                        "marker": {
                          "colorbar": {
                            "outlinewidth": 0,
                            "ticks": ""
                          }
                        },
                        "type": "scattercarpet"
                      }
                    ],
                    "scattergeo": [
                      {
                        "marker": {
                          "colorbar": {
                            "outlinewidth": 0,
                            "ticks": ""
                          }
                        },
                        "type": "scattergeo"
                      }
                    ],
                    "scattergl": [
                      {
                        "marker": {
                          "colorbar": {
                            "outlinewidth": 0,
                            "ticks": ""
                          }
                        },
                        "type": "scattergl"
                      }
                    ],
                    "scattermapbox": [
                      {
                        "marker": {
                          "colorbar": {
                            "outlinewidth": 0,
                            "ticks": ""
                          }
                        },
                        "type": "scattermapbox"
                      }
                    ],
                    "scatterpolar": [
                      {
                        "marker": {
                          "colorbar": {
                            "outlinewidth": 0,
                            "ticks": ""
                          }
                        },
                        "type": "scatterpolar"
                      }
                    ],
                    "scatterpolargl": [
                      {
                        "marker": {
                          "colorbar": {
                            "outlinewidth": 0,
                            "ticks": ""
                          }
                        },
                        "type": "scatterpolargl"
                      }
                    ],
                    "scatterternary": [
                      {
                        "marker": {
                          "colorbar": {
                            "outlinewidth": 0,
                            "ticks": ""
                          }
                        },
                        "type": "scatterternary"
                      }
                    ],
                    "surface": [
                      {
                        "colorbar": {
                          "outlinewidth": 0,
                          "ticks": ""
                        },
                        "colorscale": [
                          [
                            0,
                            "#0d0887"
                          ],
                          [
                            0.1111111111111111,
                            "#46039f"
                          ],
                          [
                            0.2222222222222222,
                            "#7201a8"
                          ],
                          [
                            0.3333333333333333,
                            "#9c179e"
                          ],
                          [
                            0.4444444444444444,
                            "#bd3786"
                          ],
                          [
                            0.5555555555555556,
                            "#d8576b"
                          ],
                          [
                            0.6666666666666666,
                            "#ed7953"
                          ],
                          [
                            0.7777777777777778,
                            "#fb9f3a"
                          ],
                          [
                            0.8888888888888888,
                            "#fdca26"
                          ],
                          [
                            1,
                            "#f0f921"
                          ]
                        ],
                        "type": "surface"
                      }
                    ],
                    "table": [
                      {
                        "cells": {
                          "fill": {
                            "color": "#EBF0F8"
                          },
                          "line": {
                            "color": "white"
                          }
                        },
                        "header": {
                          "fill": {
                            "color": "#C8D4E3"
                          },
                          "line": {
                            "color": "white"
                          }
                        },
                        "type": "table"
                      }
                    ]
                  },
                  "layout": {
                    "annotationdefaults": {
                      "arrowcolor": "#2a3f5f",
                      "arrowhead": 0,
                      "arrowwidth": 1
                    },
                    "autotypenumbers": "strict",
                    "coloraxis": {
                      "colorbar": {
                        "outlinewidth": 0,
                        "ticks": ""
                      }
                    },
                    "colorscale": {
                      "diverging": [
                        [
                          0,
                          "#8e0152"
                        ],
                        [
                          0.1,
                          "#c51b7d"
                        ],
                        [
                          0.2,
                          "#de77ae"
                        ],
                        [
                          0.3,
                          "#f1b6da"
                        ],
                        [
                          0.4,
                          "#fde0ef"
                        ],
                        [
                          0.5,
                          "#f7f7f7"
                        ],
                        [
                          0.6,
                          "#e6f5d0"
                        ],
                        [
                          0.7,
                          "#b8e186"
                        ],
                        [
                          0.8,
                          "#7fbc41"
                        ],
                        [
                          0.9,
                          "#4d9221"
                        ],
                        [
                          1,
                          "#276419"
                        ]
                      ],
                      "sequential": [
                        [
                          0,
                          "#0d0887"
                        ],
                        [
                          0.1111111111111111,
                          "#46039f"
                        ],
                        [
                          0.2222222222222222,
                          "#7201a8"
                        ],
                        [
                          0.3333333333333333,
                          "#9c179e"
                        ],
                        [
                          0.4444444444444444,
                          "#bd3786"
                        ],
                        [
                          0.5555555555555556,
                          "#d8576b"
                        ],
                        [
                          0.6666666666666666,
                          "#ed7953"
                        ],
                        [
                          0.7777777777777778,
                          "#fb9f3a"
                        ],
                        [
                          0.8888888888888888,
                          "#fdca26"
                        ],
                        [
                          1,
                          "#f0f921"
                        ]
                      ],
                      "sequentialminus": [
                        [
                          0,
                          "#0d0887"
                        ],
                        [
                          0.1111111111111111,
                          "#46039f"
                        ],
                        [
                          0.2222222222222222,
                          "#7201a8"
                        ],
                        [
                          0.3333333333333333,
                          "#9c179e"
                        ],
                        [
                          0.4444444444444444,
                          "#bd3786"
                        ],
                        [
                          0.5555555555555556,
                          "#d8576b"
                        ],
                        [
                          0.6666666666666666,
                          "#ed7953"
                        ],
                        [
                          0.7777777777777778,
                          "#fb9f3a"
                        ],
                        [
                          0.8888888888888888,
                          "#fdca26"
                        ],
                        [
                          1,
                          "#f0f921"
                        ]
                      ]
                    },
                    "colorway": [
                      "#636efa",
                      "#EF553B",
                      "#00cc96",
                      "#ab63fa",
                      "#FFA15A",
                      "#19d3f3",
                      "#FF6692",
                      "#B6E880",
                      "#FF97FF",
                      "#FECB52"
                    ],
                    "font": {
                      "color": "#2a3f5f"
                    },
                    "geo": {
                      "bgcolor": "white",
                      "lakecolor": "white",
                      "landcolor": "#E5ECF6",
                      "showlakes": true,
                      "showland": true,
                      "subunitcolor": "white"
                    },
                    "hoverlabel": {
                      "align": "left"
                    },
                    "hovermode": "closest",
                    "mapbox": {
                      "style": "light"
                    },
                    "paper_bgcolor": "white",
                    "plot_bgcolor": "#E5ECF6",
                    "polar": {
                      "angularaxis": {
                        "gridcolor": "white",
                        "linecolor": "white",
                        "ticks": ""
                      },
                      "bgcolor": "#E5ECF6",
                      "radialaxis": {
                        "gridcolor": "white",
                        "linecolor": "white",
                        "ticks": ""
                      }
                    },
                    "scene": {
                      "xaxis": {
                        "backgroundcolor": "#E5ECF6",
                        "gridcolor": "white",
                        "gridwidth": 2,
                        "linecolor": "white",
                        "showbackground": true,
                        "ticks": "",
                        "zerolinecolor": "white"
                      },
                      "yaxis": {
                        "backgroundcolor": "#E5ECF6",
                        "gridcolor": "white",
                        "gridwidth": 2,
                        "linecolor": "white",
                        "showbackground": true,
                        "ticks": "",
                        "zerolinecolor": "white"
                      },
                      "zaxis": {
                        "backgroundcolor": "#E5ECF6",
                        "gridcolor": "white",
                        "gridwidth": 2,
                        "linecolor": "white",
                        "showbackground": true,
                        "ticks": "",
                        "zerolinecolor": "white"
                      }
                    },
                    "shapedefaults": {
                      "line": {
                        "color": "#2a3f5f"
                      }
                    },
                    "ternary": {
                      "aaxis": {
                        "gridcolor": "white",
                        "linecolor": "white",
                        "ticks": ""
                      },
                      "baxis": {
                        "gridcolor": "white",
                        "linecolor": "white",
                        "ticks": ""
                      },
                      "bgcolor": "#E5ECF6",
                      "caxis": {
                        "gridcolor": "white",
                        "linecolor": "white",
                        "ticks": ""
                      }
                    },
                    "title": {
                      "x": 0.05
                    },
                    "xaxis": {
                      "automargin": true,
                      "gridcolor": "white",
                      "linecolor": "white",
                      "ticks": "",
                      "title": {
                        "standoff": 15
                      },
                      "zerolinecolor": "white",
                      "zerolinewidth": 2
                    },
                    "yaxis": {
                      "automargin": true,
                      "gridcolor": "white",
                      "linecolor": "white",
                      "ticks": "",
                      "title": {
                        "standoff": 15
                      },
                      "zerolinecolor": "white",
                      "zerolinewidth": 2
                    }
                  }
                },
                "title": {
                  "text": "Ground Truth Random-Contious 2d-Function"
                },
                "width": 800
              }
            }
          },
          "metadata": {},
          "output_type": "display_data"
        }
      ],
      "source": [
        "dr_x   = np.array([0.6, 0.5])\n",
        "domain = np.array([[ 0.0, 10.0],\n",
        "                   [-5.0,  7.0]])\n",
        "\n",
        "f = ndrcf(domain, dr_x, μ_i=None)\n",
        "print(f.shape)\n",
        "\n",
        "plot2d(data = f)"
      ]
    },
    {
      "cell_type": "code",
      "execution_count": null,
      "metadata": {
        "id": "GOM-PSr8qDkR",
        "outputId": "7bf1e81d-62e1-4b8d-af9b-87a20deb82d0"
      },
      "outputs": [
        {
          "data": {
            "text/plain": [
              "array([[ 0.        ,  0.6       ,  1.2       ,  1.8       ,  2.4       ,\n",
              "         3.        ,  3.6       ,  4.2       ,  4.8       ,  5.4       ],\n",
              "       [-5.        , -5.        , -5.        , -5.        , -5.        ,\n",
              "        -5.        , -5.        , -5.        , -5.        , -5.        ],\n",
              "       [ 1.14586689,  0.58385108,  0.15420747, -0.05177632, -0.04992958,\n",
              "         0.05993442,  0.16830483,  0.22233809,  0.23954084,  0.27032902],\n",
              "       [-0.44156482, -0.37999843, -0.11382257,  0.31536575,  0.80191612,\n",
              "         1.20783784,  1.40373149,  1.31380845,  0.94771732,  0.39634448],\n",
              "       [ 0.42292636,  0.42123998,  0.43295409,  0.47962474,  0.56578795,\n",
              "         0.65428413,  0.69229449,  0.66324826,  0.60672863,  0.58367134],\n",
              "       [ 0.91256427,  0.52899695,  0.4530787 ,  0.70080449,  1.17661252,\n",
              "         1.72575346,  2.20821215,  2.55091846,  2.75038737,  2.83307331],\n",
              "       [ 0.52456084,  0.31034729,  0.02128814, -0.246321  , -0.42558387,\n",
              "        -0.50353855, -0.51196802, -0.50255738, -0.52572489, -0.61532879],\n",
              "       [-0.64995718, -0.67657221, -0.46599814, -0.0776576 ,  0.34962989,\n",
              "         0.67130742,  0.81072421,  0.78517174,  0.67821323,  0.58657631],\n",
              "       [-1.92323236, -1.83701164, -1.429266  , -0.78290397, -0.06864085,\n",
              "         0.52625414,  0.87546476,  0.96307225,  0.87750538,  0.75443128],\n",
              "       [ 0.05903268, -0.04781274, -0.01652464,  0.15284265,  0.40368952,\n",
              "         0.64027693,  0.76895629,  0.73837588,  0.55527666,  0.27045013],\n",
              "       [ 1.28785916,  1.50475125,  1.52399051,  1.33399089,  0.95346747,\n",
              "         0.43763948, -0.11608898, -0.58072317, -0.84131922, -0.8517561 ],\n",
              "       [ 0.72883714,  0.7978565 ,  0.5889611 ,  0.19367741, -0.25200938,\n",
              "        -0.61999514, -0.83952323, -0.91439141, -0.89796834, -0.84895737],\n",
              "       [ 1.37615823,  1.4005209 ,  1.22268193,  0.85908671,  0.4097801 ,\n",
              "         0.01677565, -0.20339461, -0.21000373, -0.03985399,  0.23111395],\n",
              "       [-1.01127638, -0.72722522, -0.4162867 , -0.182315  , -0.09048338,\n",
              "        -0.14450361, -0.30199398, -0.50855725, -0.72005876, -0.90304679],\n",
              "       [-1.18747906, -0.75454089, -0.26405283,  0.15147736,  0.41543012,\n",
              "         0.51292327,  0.46798581,  0.32050373,  0.12063705, -0.06837607],\n",
              "       [-1.23287643, -1.3234129 , -1.21099225, -0.90052898, -0.43323523,\n",
              "         0.11234842,  0.6364613 ,  1.05034461,  1.30534334,  1.3991184 ],\n",
              "       [-0.4876121 ,  0.02858057,  0.40875624,  0.50020489,  0.28353098,\n",
              "        -0.10969677, -0.46231786, -0.58344764, -0.40492729, -0.01011667]])"
            ]
          },
          "execution_count": 58,
          "metadata": {},
          "output_type": "execute_result"
        }
      ],
      "source": [
        "##MIMO?\n",
        "f = ndrcfM(domain, dr_x, MOut=15)\n",
        "f[:10,:].T"
      ]
    },
    {
      "cell_type": "markdown",
      "metadata": {
        "id": "djvJ35L0qDkR"
      },
      "source": [
        "# 3d random-continous-function"
      ]
    },
    {
      "cell_type": "code",
      "execution_count": null,
      "metadata": {
        "id": "x5N-WcGgqDkR",
        "outputId": "e516839b-6eaf-4054-cfdf-9ff00336b7c7"
      },
      "outputs": [
        {
          "name": "stdout",
          "output_type": "stream",
          "text": [
            "(5460, 4)\n"
          ]
        }
      ],
      "source": [
        "dr_x   = np.array([0.8, 0.9, 0.2])\n",
        "domain = np.array([[ 0.0, 10.0],\n",
        "                   [-5.0,  7.0],\n",
        "                   [ 2.0,  8.0]])\n",
        "\n",
        "f = ndrcf(domain, dr_x, μ_i=None)\n",
        "print(f.shape)"
      ]
    },
    {
      "cell_type": "markdown",
      "metadata": {
        "id": "3N1kQ0OqqDkR"
      },
      "source": [
        "# 7d random-continous-function"
      ]
    },
    {
      "cell_type": "code",
      "execution_count": null,
      "metadata": {
        "id": "Q1JgZqhgqDkR",
        "outputId": "d7b53b7d-9e51-4b38-b72a-fafb4ba4147e"
      },
      "outputs": [
        {
          "name": "stdout",
          "output_type": "stream",
          "text": [
            "(4536, 8)\n"
          ]
        }
      ],
      "source": [
        "dr_x   = np.array([1.2, 1.75, 1.2, 2.4, 0.6, 0.8, 0.40])\n",
        "domain = np.array([[ 0.0, 10.0],\n",
        "                   [-5.0,  7.0],\n",
        "                   [ 2.0,  4.0],\n",
        "                   [ 2.0,  4.0],\n",
        "                   [ 1.0,  3.0],\n",
        "                   [11.0, 13.0],\n",
        "                   [ 5.0,  6.0]])\n",
        "\n",
        "f = ndrcf(domain, dr_x, μ_i=None)\n",
        "print(f.shape)"
      ]
    },
    {
      "cell_type": "markdown",
      "metadata": {
        "id": "hApBfwTIqDkS"
      },
      "source": [
        "# Let's now consider a grid/random-sampling of points within a domain:"
      ]
    },
    {
      "cell_type": "code",
      "execution_count": null,
      "metadata": {
        "id": "5ZMz8Gg4qDkS"
      },
      "outputs": [],
      "source": [
        "domain = np.array([[ 0.0, 10.0],\n",
        "                   [-5.0,  7.0],\n",
        "                   [ 2.0,  8.0]])\n",
        "N = 100\n",
        "\n",
        "###################\n",
        "###################\n",
        "###################\n",
        "Rgrid_ix = np.asarray([np.linspace(element[0], element[1], N) for element in domain]).T\n",
        "Rrand_ix = np.asarray([(element[1]-element[0])*np.random.rand(N) + element[0] for element in domain]).T"
      ]
    },
    {
      "cell_type": "code",
      "execution_count": null,
      "metadata": {
        "id": "syjwDx8TqDkS",
        "outputId": "dcbc4382-6653-4ad4-8520-94e1cb8a53a3"
      },
      "outputs": [
        {
          "data": {
            "text/plain": [
              "array([[ 0.        , -5.        ,  0.13105107, ..., -0.82955666,\n",
              "         1.31685984, -0.16944204],\n",
              "       [ 0.6       , -5.        ,  0.7401476 , ..., -0.95617714,\n",
              "         1.25652475, -0.209215  ],\n",
              "       [ 1.2       , -5.        ,  1.31145787, ..., -1.04278912,\n",
              "         0.90363406, -0.11645699],\n",
              "       ...,\n",
              "       [ 8.4       ,  6.5       , -0.46487324, ..., -0.67573694,\n",
              "        -1.86872373, -0.36737969],\n",
              "       [ 9.        ,  6.5       , -0.24595795, ..., -0.68209722,\n",
              "        -2.21416201, -0.50192909],\n",
              "       [ 9.6       ,  6.5       , -0.21120115, ..., -0.50422926,\n",
              "        -2.52905206, -0.58352283]])"
            ]
          },
          "execution_count": 50,
          "metadata": {},
          "output_type": "execute_result"
        }
      ],
      "source": [
        "dr_x   = np.array([0.6, 0.5])\n",
        "domain = np.array([[ 0.0, 10.0],\n",
        "                   [-5.0,  7.0]])\n",
        "ndrcfM(domain, dr_x, MOut=10)\n",
        "\n",
        "class mimo_function:\n",
        "\n",
        "    ### define default\n",
        "\n",
        "    def __init__(self, domain, dr_x, μ_i=None, MOut=1):\n",
        "        self.domain = domain\n",
        "        self.dr_x   = dr_x\n",
        "        self.μ_i    = μ_i\n",
        "\n",
        "        self.data_points = self.ndrcfM(domain, dr_x, μ_i=None, MOut=1)\n",
        "\n",
        "    def ndrcfM(domain, dr_x, μ_i=None, MOut=1):\n",
        "        \"\"\"\n",
        "        IN:\n",
        "            domain : 2d-numpy.ndarray, gives ranges for each coordinate (coordinate-index 'x', 2), e.g. [[x0_min, x0_max], [x1_min, x1_max]]\n",
        "            dr_x : the spacing for each dimension (has coordinate-index 'x')\n",
        "            μ_i : mean along each point (points-index 'i')\n",
        "        OUT:\n",
        "            F_ix : 2d-numpy.ndarray (points-index, coordinate-index)\n",
        "\n",
        "        **this should be made into an object where we save Σ_ij,\n",
        "        perferbly as Σ_ij = L_ik L_kj (ie Cholesky-decomposition), save L_ij (lower-triangular-matrix)\n",
        "        such that we may ask for additional points.\n",
        "        \"\"\"\n",
        "\n",
        "        R_ix = np.stack(np.meshgrid(*[ np.arange(domain[i,0], domain[i,1], dr_x[i]) for i in range(len(dr_x)) ]), axis=-1)\n",
        "        R_ix = R_ix.reshape((np.prod( R_ix.shape[:-1] ), R_ix.shape[-1])) ### x input\n",
        "\n",
        "        μ_i  = np.zeros(R_ix.shape[0])\n",
        "        Σ_ij = nK(R_ix)\n",
        "\n",
        "        D_iy  = np.random.multivariate_normal(μ_i, Σ_ij, MOut).T ### y output, #1 is the number of functions/surfaces (? for MIMO 1=# of Outs??)\n",
        "        return np.concatenate( (R_ix, D_iy) , axis=1)\n",
        "\n",
        "    def evaluate():\n",
        "        return None\n",
        "\n",
        "    def evaluateGP():\n",
        "        return None\n"
      ]
    },
    {
      "cell_type": "markdown",
      "metadata": {
        "id": "EElgicGBqDkS"
      },
      "source": [
        "## Let's consider the old functions write to text files"
      ]
    },
    {
      "cell_type": "code",
      "execution_count": null,
      "metadata": {
        "id": "pZtR33ZbqDkS"
      },
      "outputs": [],
      "source": [
        "from numpy import sin, exp\n",
        "\n",
        "def function1(p0, p1):\n",
        "    \"\"\"\n",
        "    bivariate function of p0 & p1 with domain:\n",
        "    Domain = np.array([[ 0.0, 50.0],\n",
        "                       [ 0.0, 50.0]])\n",
        "    \"\"\"\n",
        "    if p0 >= 30:\n",
        "        return 8 - ( 2*p0*sin( sqrt( abs(p0) )) + 2*p1*sin( sqrt( abs(p1) ) )) + 140\n",
        "    else:\n",
        "        if sqrt( p0**2 + p1**2 ) >= 20:\n",
        "            return 8 - ( 2*p0*sin( sqrt( abs(p0) )) + 2*p1*sin( sqrt( abs(p1) ) )) + 160\n",
        "        else:\n",
        "            return 8 - ( 2*p0*sin( sqrt( abs(p0) )) + 2*p1*sin( sqrt( abs(p1) ) ))\n",
        "\n",
        "def function2(p0, p1):\n",
        "    \"\"\"\n",
        "    bivariate function of p0 & p1 with domain:\n",
        "    Domain = np.array([[ -10.0, 10.0],\n",
        "                       [  10.0, 10.0]])\n",
        "    \"\"\"\n",
        "    return sin( 2*p0 ) + sin( 2*p1 ) + (p0/5)**2 - (p1/5)**2\n",
        "\n",
        "def function3(p0, p1):\n",
        "    \"\"\"\n",
        "    bivariate function of p0 & p1 with domain:\n",
        "    Domain = np.array([[ 0.0, 50.0],\n",
        "                       [ 0.0, 50.0]])\n",
        "    \"\"\"\n",
        "    if p0 > 21.961143:\n",
        "        return (25/17) * (p0 - 5) + 14\n",
        "    else: ## p0 <= 21.961143\n",
        "        if p1 > 25:\n",
        "            return -(25/18) * (p0 - 50) + 50\n",
        "        else: ## p1 <= 25\n",
        "            return -(25/18) * (p0 - 50)\n",
        "\n",
        "\n",
        "dic = {\"function1\":function1, \"function2\":function2, \"function3\":function3 }"
      ]
    },
    {
      "cell_type": "markdown",
      "metadata": {
        "id": "BtLdGWt0qDkS"
      },
      "source": [
        "### make intruments"
      ]
    },
    {
      "cell_type": "code",
      "execution_count": null,
      "metadata": {
        "id": "dFdlJjj_qDkS"
      },
      "outputs": [],
      "source": [
        "def instrument1(data):\n",
        "    \"\"\"\n",
        "    data is a List[ dic ], hence labelled-data\n",
        "    \"\"\"\n",
        "    for entry in data:\n",
        "        entry[\"y_data\"] = dic[\"function1\"](entry[\"x_data\"][0], entry[\"x_data\"][1])\n",
        "        entry[\"cost\"]  = [np.array([0,0]),entry[\"x_data\"],np.sum(entry[\"x_data\"])]\n",
        "    return data"
      ]
    },
    {
      "cell_type": "code",
      "execution_count": null,
      "metadata": {
        "id": "HdRvUNfbqDkT",
        "outputId": "a65c04ef-8738-4031-ea4a-3c4689bc6c28"
      },
      "outputs": [
        {
          "data": {
            "text/plain": [
              "(-0.13806646827231991, numpy.ndarray)"
            ]
          },
          "execution_count": 43,
          "metadata": {},
          "output_type": "execute_result"
        }
      ],
      "source": [
        "list_of_data = [{'x_data': np.array([3.04986762, 4.66446892]),\n",
        "  'y_data': -0.6519311743614136,\n",
        "  'noise variance': None,\n",
        "  'cost': [np.array([0, 0]), np.array([3.04986762, 4.66446892]), 7.714336536446131],\n",
        "  'id': '3b115847-cbe5-4c19-b2c9-0004455f8a52',\n",
        "  'time stamp': 1705512086.8447511,\n",
        "  'date time': '17/01/2024_11:21:26',\n",
        "  'measured': False},\n",
        " {'x_data': np.array([1.07469298, 6.04996553]),\n",
        "  'y_data': -0.13806646827231991,\n",
        "  'noise variance': None,\n",
        "  'cost': [np.array([0, 0]), np.array([1.07469298, 6.04996553]), 7.124658510619914],\n",
        "  'id': 'e343a7e8-b133-415e-a69f-6768438e6934',\n",
        "  'time stamp': 1705512086.844794,\n",
        "  'date time': '17/01/2024_11:21:26',\n",
        "  'measured': False},\n",
        " {'x_data': np.array([4.54385235, 6.1862373 ]),\n",
        "  'y_data': 0.9841470549061848,\n",
        "  'noise variance': None,\n",
        "  'cost': [np.array([0, 0]), np.array([4.54385235, 6.1862373 ]), 10.730089647376804],\n",
        "  'id': '1e7a8bc2-9e1e-4f92-b5e0-f8205b63f259',\n",
        "  'time stamp': 1705512086.844807,\n",
        "  'date time': '17/01/2024_11:21:26',\n",
        "  'measured': False},\n",
        " {'x_data': np.array([0.36948575, 7.26536243])}]\n",
        "\n",
        "### example of the Write & Read\n",
        "WRITE(list_of_data, filename=\"data.pkl\")\n",
        "OUT = READ(filename=\"data.pkl\")\n",
        "OUT[1][\"y_data\"], type( OUT[2][\"x_data\"] )"
      ]
    },
    {
      "cell_type": "markdown",
      "metadata": {
        "id": "JD-gk2WUqDkT"
      },
      "source": []
    }
  ],
  "metadata": {
    "kernelspec": {
      "display_name": "base",
      "language": "python",
      "name": "python3"
    },
    "language_info": {
      "codemirror_mode": {
        "name": "ipython",
        "version": 3
      },
      "file_extension": ".py",
      "mimetype": "text/x-python",
      "name": "python",
      "nbconvert_exporter": "python",
      "pygments_lexer": "ipython3",
      "version": "3.11.6"
    },
    "colab": {
      "provenance": [],
      "include_colab_link": true
    }
  },
  "nbformat": 4,
  "nbformat_minor": 0
}