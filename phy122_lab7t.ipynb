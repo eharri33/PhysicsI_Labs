{
  "nbformat": 4,
  "nbformat_minor": 0,
  "metadata": {
    "colab": {
      "name": "phy122_lab7t.ipynb",
      "provenance": [],
      "collapsed_sections": [
        "TKQiAEFkyYYn"
      ],
      "include_colab_link": true
    },
    "kernelspec": {
      "name": "python3",
      "display_name": "Python 3"
    },
    "language_info": {
      "name": "python"
    }
  },
  "cells": [
    {
      "cell_type": "markdown",
      "metadata": {
        "id": "view-in-github",
        "colab_type": "text"
      },
      "source": [
        "<a href=\"https://colab.research.google.com/github/jcandane/PhysicsI_Labs/blob/main/phy122_lab7t.ipynb\" target=\"_parent\"><img src=\"https://colab.research.google.com/assets/colab-badge.svg\" alt=\"Open In Colab\"/></a>"
      ]
    },
    {
      "cell_type": "markdown",
      "source": [
        "Title of Work\n",
        "\n",
        "Name\n",
        "\n",
        "Date"
      ],
      "metadata": {
        "id": "IY76XVITyWJz"
      }
    },
    {
      "cell_type": "markdown",
      "source": [
        "#   <font color='Green'> **Setup** </font>"
      ],
      "metadata": {
        "id": "TKQiAEFkyYYn"
      }
    },
    {
      "cell_type": "code",
      "source": [
        "import numpy as np\n",
        "import matplotlib.pyplot as plt\n",
        "import math\n",
        "\n",
        "π   = np.pi\n",
        "π50 = \"3.14159265358979323846264338327950288419716939937510\" ## π to 50 places\n",
        "\n",
        "testA = \"10.123090\"\n",
        "testB = \"112500.0000\"\n",
        "testC = \"0.075\"\n",
        "testD = \"0075\"\n",
        "testE = \"0075.00\"\n",
        "testF = \"001234500.001564030000\"\n",
        "\n",
        "def VelocityVerletRot(T, R, v, datatype=np.float32):\n",
        "    \"\"\" Rotational Velocity Verlet trajectory & Kinetic Energy\n",
        "    for Time-array T, Radius R, and speed v (with object of mass 1 kg) \"\"\"\n",
        "\n",
        "    Δt  = datatype(T[1] - T[0])\n",
        "    x_t = np.zeros((len(T),3), dtype=datatype)\n",
        "    v_t = np.zeros((len(T),3), dtype=datatype)\n",
        "    K_t = np.zeros((len(T)), dtype=datatype)\n",
        "\n",
        "    x_t[0] = datatype(R) * np.array([1., 0., 0.])\n",
        "    v_t[0] = datatype(v) * np.array([0., 1., 0.])\n",
        "    K_t[0] = datatype( 1.0 * np.dot( v_t[0], v_t[0]) / 2 )\n",
        "    a_told = datatype( -np.dot( v_t[0], v_t[0]) / (np.linalg.norm(x_t[0])**2) * ( x_t[0] - np.zeros(3) ) )\n",
        "    for t in range(len(T)-1):\n",
        "        x_t[t+1] = x_t[t] + v_t[t] * Δt + 0.5 * a_told * (Δt*Δt) \n",
        "\n",
        "        a_tnew = -np.dot( v_t[t], v_t[t]) / (np.linalg.norm(x_t[t])**2) * ( x_t[t] - np.zeros(3) )\n",
        "\n",
        "        v_t[t+1]  = v_t[t] + 0.5 * (a_told + a_tnew) * Δt \n",
        "        K_t[t+1]  = 1.0 * np.dot( v_t[t], v_t[t]) / 2 \n",
        "        a_told    = a_tnew\n",
        "\n",
        "    return K_t\n",
        "\n",
        "def geometric_series(a, r):\n",
        "    return a / (1 - r)\n",
        "\n",
        "def nth_partial_sum(a, r, n):\n",
        "    return a * ( (1 - r ** (n + 1) ) / (1 - r) )"
      ],
      "metadata": {
        "id": "FtKWmkN4m6QC"
      },
      "execution_count": null,
      "outputs": []
    },
    {
      "cell_type": "markdown",
      "source": [
        "#   <font color='Red'> **Experiment 1: Machine Precision** </font>"
      ],
      "metadata": {
        "id": "C_fm7MAym83e"
      }
    },
    {
      "cell_type": "markdown",
      "source": [
        "###   <font color='Red'> **Let's start by fitting π** </font>\n",
        "\n",
        "#### <font color='Red'> π is a trancedental number, it does not have any known patterns, and cannot be a root of a finite polynomial (hence not algebraic). Hence it cannot be stored in a computer in its totality. </font> \n",
        "\n",
        "#### <font color='Red'> Return (print) the value of π for float16, float32, float64, float128, and π50 defined above (π to 50 places) . </font> "
      ],
      "metadata": {
        "id": "vmrqEJQYgiaI"
      }
    },
    {
      "cell_type": "code",
      "source": [
        ""
      ],
      "metadata": {
        "colab": {
          "base_uri": "https://localhost:8080/"
        },
        "id": "PIHR56b4h1Ws",
        "outputId": "f81c42e2-eb3a-4e45-fdbe-375eb75e7cc3"
      },
      "execution_count": null,
      "outputs": [
        {
          "output_type": "stream",
          "name": "stdout",
          "text": [
            "3.14\n",
            "3.1415927\n",
            "3.141592653589793\n",
            "3.1415926535897932385\n",
            "3.14159265358979323846264338327950288419716939937510\n"
          ]
        }
      ]
    },
    {
      "cell_type": "markdown",
      "source": [
        "###   <font color='Red'> **Determine Machine ϵ: for float16, float32, float64, and float128 and save them to variables (to use them later), and print them:** </font>"
      ],
      "metadata": {
        "id": "_7JAp3FjnITD"
      }
    },
    {
      "cell_type": "code",
      "source": [
        ""
      ],
      "metadata": {
        "id": "gqoOEPexnRq7",
        "colab": {
          "base_uri": "https://localhost:8080/"
        },
        "outputId": "9d58abde-0602-4817-fdab-69f8ffb7b637"
      },
      "execution_count": null,
      "outputs": [
        {
          "output_type": "stream",
          "name": "stdout",
          "text": [
            "0.000977\n",
            "1.1920929e-07\n",
            "2.220446049250313e-16\n",
            "1.084202172485504434e-19\n"
          ]
        }
      ]
    },
    {
      "cell_type": "markdown",
      "source": [
        "###   <font color='Red'> **Limits of the Data Types** </font>\n",
        "\n",
        "####  <font color='Red'> Print the Limits of the Data Types (max, min) for int8, int16, int32, int64, float16, float32, float64, float128: </font>"
      ],
      "metadata": {
        "id": "Krswd0pblD5R"
      }
    },
    {
      "cell_type": "code",
      "source": [
        ""
      ],
      "metadata": {
        "colab": {
          "base_uri": "https://localhost:8080/"
        },
        "id": "8ATul3delH2Y",
        "outputId": "bae0eb6e-5d4f-4625-866c-8d82fd5d6d38"
      },
      "execution_count": null,
      "outputs": [
        {
          "output_type": "stream",
          "name": "stdout",
          "text": [
            "127\n",
            "32767\n",
            "2147483647\n",
            "9223372036854775807\n",
            "---------------------\n",
            "65500.0\n",
            "3.4028235e+38\n",
            "1.7976931348623157e+308\n",
            "1.189731495357231765e+4932\n",
            "---------------------\n",
            "-65500.0\n",
            "-3.4028235e+38\n",
            "-1.7976931348623157e+308\n",
            "-1.189731495357231765e+4932\n"
          ]
        }
      ]
    },
    {
      "cell_type": "markdown",
      "source": [
        "###   <font color='Red'> **Let's Do Bad Addition** </font>"
      ],
      "metadata": {
        "id": "_IS9mG-yfYdN"
      }
    },
    {
      "cell_type": "markdown",
      "source": [
        "####   <font color='Red'> Example 1: come up with a sum which **barely** cannot be properly summed for a given dataype. And show the addition is bad: </font>"
      ],
      "metadata": {
        "id": "Za4Pl6kN8jBx"
      }
    },
    {
      "cell_type": "code",
      "source": [
        ""
      ],
      "metadata": {
        "colab": {
          "base_uri": "https://localhost:8080/"
        },
        "id": "ieofDdSqffH7",
        "outputId": "49aba61d-5901-434a-bc36-7e527b2052b9"
      },
      "execution_count": null,
      "outputs": [
        {
          "output_type": "execute_result",
          "data": {
            "text/plain": [
              "10.0"
            ]
          },
          "metadata": {},
          "execution_count": 145
        }
      ]
    },
    {
      "cell_type": "markdown",
      "source": [
        "####   <font color='Red'> Example 2: Purposely Cause an underflow error with exponentiation with ϵ_128 (i.e. ϵ_128 ^ N), return the integer that does this: </font>"
      ],
      "metadata": {
        "id": "Rqjz91mC82DJ"
      }
    },
    {
      "cell_type": "code",
      "source": [
        ""
      ],
      "metadata": {
        "colab": {
          "base_uri": "https://localhost:8080/"
        },
        "id": "55570XwGlPQ7",
        "outputId": "79ef91fe-46ed-43ae-c291-0af3fddf93c7"
      },
      "execution_count": null,
      "outputs": [
        {
          "output_type": "stream",
          "name": "stdout",
          "text": [
            "1.5e-4950\n"
          ]
        }
      ]
    },
    {
      "cell_type": "markdown",
      "source": [
        "####   <font color='Red'> Example 3: Show bad addition, the sum of two numbers in float16 datatype (i.e. A + B , with A & B in float16 with a few decimal places) </font>"
      ],
      "metadata": {
        "id": "SkYKiJaH_oOP"
      }
    },
    {
      "cell_type": "code",
      "source": [
        ""
      ],
      "metadata": {
        "colab": {
          "base_uri": "https://localhost:8080/"
        },
        "id": "04xpt6hY_oav",
        "outputId": "95904e5e-8d88-4eed-862d-4d01d7458eae"
      },
      "execution_count": null,
      "outputs": [
        {
          "output_type": "execute_result",
          "data": {
            "text/plain": [
              "2.525"
            ]
          },
          "metadata": {},
          "execution_count": 177
        }
      ]
    },
    {
      "cell_type": "markdown",
      "source": [
        "#   <font color='Red'> **Experiment 2: Significant Figures** </font>\n",
        "\n",
        "### <font color='Red'>  In physics classes often its asked find the significant figures for a number. In this section we will create a defintion, given such a number in string format, we will return the significant part of the number. </font>"
      ],
      "metadata": {
        "id": "OfsODqglc8Wk"
      }
    },
    {
      "cell_type": "markdown",
      "source": [
        "#### <font color='Red'>  In python strings (words, or strings of chacter) are treated like 1-dimensional arrays, and use the same subindexing, i.e. suppose word = \"qwerty\", then word[2], will return the 2nd letter in variable word, i.e. \"e\". </font>\n",
        "\n",
        "#### <font color='Red'>  Let's slice testE (defined in setup), between i=2 and j=7. </font>"
      ],
      "metadata": {
        "id": "5jjIT3-Z4-E7"
      }
    },
    {
      "cell_type": "code",
      "source": [
        ""
      ],
      "metadata": {
        "colab": {
          "base_uri": "https://localhost:8080/",
          "height": 35
        },
        "id": "2J1tvJry4-UY",
        "outputId": "4a3f69ed-9ec1-406b-b341-ad68697a2ac4"
      },
      "execution_count": null,
      "outputs": [
        {
          "output_type": "execute_result",
          "data": {
            "application/vnd.google.colaboratory.intrinsic+json": {
              "type": "string"
            },
            "text/plain": [
              "'75.00'"
            ]
          },
          "metadata": {},
          "execution_count": 133
        }
      ]
    },
    {
      "cell_type": "markdown",
      "source": [
        "#### <font color='Red'>  Clearly we may use this slicing to slice a number to its significant digits. </font>\n",
        "\n",
        "#### <font color='Red'>  Lets make a for-loop to find the first appearance of a non-\"0\", i.e. get this index (save and return its value). </font>"
      ],
      "metadata": {
        "id": "bpnyqwe858oG"
      }
    },
    {
      "cell_type": "code",
      "source": [
        ""
      ],
      "metadata": {
        "colab": {
          "base_uri": "https://localhost:8080/"
        },
        "id": "jDo8rXOY58yR",
        "outputId": "90c3bd7a-b372-4e7c-ec23-63b8c9301574"
      },
      "execution_count": null,
      "outputs": [
        {
          "output_type": "execute_result",
          "data": {
            "text/plain": [
              "2"
            ]
          },
          "metadata": {},
          "execution_count": 136
        }
      ]
    },
    {
      "cell_type": "markdown",
      "source": [
        "#### <font color='Red'>  Lets make another for-loop to find the last appearance of a non-\"0\", i.e. get this index (save and return its value). </font>"
      ],
      "metadata": {
        "id": "aEejN0rh6jAB"
      }
    },
    {
      "cell_type": "code",
      "source": [
        ""
      ],
      "metadata": {
        "colab": {
          "base_uri": "https://localhost:8080/"
        },
        "id": "vrkoROOL6wzV",
        "outputId": "ee64f013-9fa7-4d86-b924-2aeba40b8ce0"
      },
      "execution_count": null,
      "outputs": [
        {
          "output_type": "execute_result",
          "data": {
            "text/plain": [
              "5"
            ]
          },
          "metadata": {},
          "execution_count": 137
        }
      ]
    },
    {
      "cell_type": "markdown",
      "source": [
        "#### <font color='Red'>  Next let's find a decimal in a string, using \".find()\". </font>"
      ],
      "metadata": {
        "id": "tLNK1aWc4GZh"
      }
    },
    {
      "cell_type": "code",
      "source": [
        ""
      ],
      "metadata": {
        "colab": {
          "base_uri": "https://localhost:8080/"
        },
        "id": "z5aXmRdz4atc",
        "outputId": "9237911f-347c-46f0-8f70-a0ac183bc3f5"
      },
      "execution_count": null,
      "outputs": [
        {
          "output_type": "execute_result",
          "data": {
            "text/plain": [
              "2"
            ]
          },
          "metadata": {},
          "execution_count": 123
        }
      ]
    },
    {
      "cell_type": "markdown",
      "source": [
        "#### <font color='Red'>  Finally, but these methods together to form a defintion and test it using the test cases above. </font>"
      ],
      "metadata": {
        "id": "UCI-4fyj7Sz1"
      }
    },
    {
      "cell_type": "code",
      "source": [
        ""
      ],
      "metadata": {
        "colab": {
          "base_uri": "https://localhost:8080/"
        },
        "id": "hpwceXG0dE7y",
        "outputId": "54022aa3-96e1-418c-8856-42da32059721"
      },
      "execution_count": null,
      "outputs": [
        {
          "output_type": "stream",
          "name": "stdout",
          "text": [
            "1234500.001564030000\n"
          ]
        }
      ]
    },
    {
      "cell_type": "markdown",
      "source": [
        "#   <font color='Red'> **Experiment 3: Trucating the Geometric Series** </font>"
      ],
      "metadata": {
        "id": "wtoBUcJtG_zv"
      }
    },
    {
      "cell_type": "markdown",
      "source": [
        "###   <font color='Red'> First Lets define the data type geometric series </font>"
      ],
      "metadata": {
        "id": "F6isOrHYJXwX"
      }
    },
    {
      "cell_type": "code",
      "source": [
        ""
      ],
      "metadata": {
        "id": "p59Jg9nt7W7S"
      },
      "execution_count": null,
      "outputs": []
    },
    {
      "cell_type": "markdown",
      "source": [
        "###   <font color='Red'> Let's define a & r in the geometric series, Do NOT forget to apply datatype to each number! </font>\n",
        "\n",
        "###   <font color='Red'> Ensure each number is in its proper datatype! </font>"
      ],
      "metadata": {
        "id": "clG_CGWf6qAx"
      }
    },
    {
      "cell_type": "code",
      "source": [
        ""
      ],
      "metadata": {
        "id": "_qVbG8YJ678w"
      },
      "execution_count": null,
      "outputs": []
    },
    {
      "cell_type": "markdown",
      "source": [
        "###   <font color='Red'> Now let's sum the Geometric Series $\\sum_{i\\in\\mathbb{N}} a r^i$ </font>"
      ],
      "metadata": {
        "id": "2v_QB5LFLJiG"
      }
    },
    {
      "cell_type": "code",
      "source": [
        ""
      ],
      "metadata": {
        "colab": {
          "base_uri": "https://localhost:8080/"
        },
        "id": "tKLroZ1jLJDd",
        "outputId": "6fd3b632-edb5-4e19-df37-7c778b668de0"
      },
      "execution_count": null,
      "outputs": [
        {
          "output_type": "execute_result",
          "data": {
            "text/plain": [
              "3.1416206"
            ]
          },
          "metadata": {},
          "execution_count": 111
        }
      ]
    },
    {
      "cell_type": "markdown",
      "source": [
        "###   <font color='Red'> When does the Geometric Series (NOT the cumlative-sum) go under ϵ_machine for each data-type? </font>"
      ],
      "metadata": {
        "id": "rB6QRIl5CQne"
      }
    },
    {
      "cell_type": "code",
      "source": [
        ""
      ],
      "metadata": {
        "colab": {
          "base_uri": "https://localhost:8080/"
        },
        "id": "8c_GigHFCQDt",
        "outputId": "7ca70f3d-1f4c-4942-8184-d6ab67c5d3ab"
      },
      "execution_count": null,
      "outputs": [
        {
          "output_type": "stream",
          "name": "stdout",
          "text": [
            "3765\n"
          ]
        }
      ]
    },
    {
      "cell_type": "markdown",
      "source": [
        "###   <font color='Red'> Now let's compute the cumlative-sum, and find where the sum stops increasing (hint: use np.gradient + np.where together), what do you notice?: </font>"
      ],
      "metadata": {
        "id": "AXKDQbAIz-12"
      }
    },
    {
      "cell_type": "code",
      "source": [
        ""
      ],
      "metadata": {
        "colab": {
          "base_uri": "https://localhost:8080/"
        },
        "id": "Ic1p0ooY0KzW",
        "outputId": "a47722e7-0039-40ca-b66c-36811534f067"
      },
      "execution_count": null,
      "outputs": [
        {
          "output_type": "stream",
          "name": "stdout",
          "text": [
            "3765\n"
          ]
        }
      ]
    },
    {
      "cell_type": "markdown",
      "source": [
        "###   <font color='Red'> Now we know the answer, and cumlative-sum, therefore we may define an error, save the **absolute-value** of this error. Let's cast the cumlative-sum into float128 and subtract it from np.float128( π50 ): </font>"
      ],
      "metadata": {
        "id": "Q98wK3hGzdfG"
      }
    },
    {
      "cell_type": "code",
      "source": [
        ""
      ],
      "metadata": {
        "id": "FWWpglE3B7Cr"
      },
      "execution_count": null,
      "outputs": []
    },
    {
      "cell_type": "markdown",
      "source": [
        "###   <font color='Red'> Now plot this error in k (the terms): </font>"
      ],
      "metadata": {
        "id": "WmjmMdjm1Fbo"
      }
    },
    {
      "cell_type": "code",
      "source": [
        ""
      ],
      "metadata": {
        "colab": {
          "base_uri": "https://localhost:8080/",
          "height": 295
        },
        "id": "-ycztHrd1FDa",
        "outputId": "691e6547-9f75-4d33-ca17-84352fa43a6d"
      },
      "execution_count": null,
      "outputs": [
        {
          "output_type": "display_data",
          "data": {
            "image/png": "[encoded data removed]",
            "text/plain": [
              "<Figure size 432x288 with 1 Axes>"
            ]
          },
          "metadata": {
            "needs_background": "light"
          }
        }
      ]
    },
    {
      "cell_type": "markdown",
      "source": [
        "#   <font color='Red'> **Experiment 4: Test Rotational Velocity Verlet** </font>"
      ],
      "metadata": {
        "id": "WIhYIE8IM8zO"
      }
    },
    {
      "cell_type": "markdown",
      "source": [
        "###   <font color='Red'> Define a Time-array, T, like before with Δt, t0, and tf: </font>"
      ],
      "metadata": {
        "id": "TUe6F6ThIn0i"
      }
    },
    {
      "cell_type": "code",
      "source": [
        ""
      ],
      "metadata": {
        "id": "8dl8TJzE96gD"
      },
      "execution_count": null,
      "outputs": []
    },
    {
      "cell_type": "markdown",
      "source": [
        "###   <font color='Red'> Let's integrate the rotational motion 3 times with different datatypes (float16, float32, and float64), with the same circular radius and velocity. Save the Energy for each simulation. </font>"
      ],
      "metadata": {
        "id": "YfXWqJ-eIxT4"
      }
    },
    {
      "cell_type": "code",
      "source": [
        ""
      ],
      "metadata": {
        "id": "Xqh8fC9xI4iq"
      },
      "execution_count": null,
      "outputs": []
    },
    {
      "cell_type": "markdown",
      "source": [
        "###   <font color='Red'> Plot the relative errors of the Energy (E_t - E_t[0]) </font>"
      ],
      "metadata": {
        "id": "s-qo3CCmIz93"
      }
    },
    {
      "cell_type": "code",
      "source": [
        ""
      ],
      "metadata": {
        "colab": {
          "base_uri": "https://localhost:8080/",
          "height": 295
        },
        "id": "g5ip2dRdI4Hp",
        "outputId": "326355ec-d342-4d72-a773-a03030ce7e0a"
      },
      "execution_count": null,
      "outputs": [
        {
          "output_type": "display_data",
          "data": {
            "image/png": "[encoded data removed]",
            "text/plain": [
              "<Figure size 432x288 with 1 Axes>"
            ]
          },
          "metadata": {
            "needs_background": "light"
          }
        }
      ]
    },
    {
      "cell_type": "markdown",
      "source": [
        "#   <font color='Red'> **Conclusion** </font>"
      ],
      "metadata": {
        "id": "u7DsD1f-dtwz"
      }
    },
    {
      "cell_type": "markdown",
      "source": [
        ""
      ],
      "metadata": {
        "id": "yb-1qIhAd1z0"
      }
    }
  ]
}